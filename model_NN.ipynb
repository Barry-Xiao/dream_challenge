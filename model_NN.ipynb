{
 "cells": [
  {
   "cell_type": "markdown",
   "id": "c5f0fb9d",
   "metadata": {},
   "source": [
    "## Import Packages"
   ]
  },
  {
   "cell_type": "code",
   "execution_count": 1,
   "id": "3a8b25ee",
   "metadata": {},
   "outputs": [],
   "source": [
    "import pandas as pd\n",
    "import numpy as np\n",
    "import os\n",
    "\n",
    "import torch\n",
    "import torch.nn as nn\n",
    "import torch.nn.functional as F\n",
    "from torch.utils.data import TensorDataset, DataLoader\n",
    "\n",
    "from sklearn import metrics"
   ]
  },
  {
   "cell_type": "code",
   "execution_count": 2,
   "id": "c4a08086",
   "metadata": {},
   "outputs": [],
   "source": [
    "random_seed = 8022022 # or any of your favorite number \n",
    "torch.manual_seed(random_seed)\n",
    "torch.cuda.manual_seed(random_seed)\n",
    "torch.backends.cudnn.deterministic = True\n",
    "torch.backends.cudnn.benchmark = False\n",
    "np.random.seed(random_seed)"
   ]
  },
  {
   "cell_type": "markdown",
   "id": "9b461620",
   "metadata": {},
   "source": [
    "## Read dataset"
   ]
  },
  {
   "cell_type": "markdown",
   "id": "25e4a851",
   "metadata": {},
   "source": [
    "### run R script to generate data"
   ]
  },
  {
   "cell_type": "code",
   "execution_count": 3,
   "id": "d458a5ab",
   "metadata": {},
   "outputs": [],
   "source": [
    "# taxonomy_level = 'species','genus','family'\n",
    "# phylotype = '1e_1','1e0','5e_1'\n",
    "\n",
    "def datagenerator(taxonomy_level = 'species',taxonomy_hidden = 50, \\\n",
    "                  phylotype_level = '1e_1', phylotype_hidden = 50, outcome = \"was_preterm\"):\n",
    "    \n",
    "    ##define paths\n",
    "    meta_path = 'data/meta_' + outcome + '.csv'\n",
    "    \n",
    "    tax_path = 'data/training_data_2022-07-21/taxonomy/taxonomy_relabd.' + taxonomy_level + '.csv'\n",
    "    tax_profile_path = 'DeepMicrodata/data/taxonomy_' + taxonomy_level + '_' + outcome + '.csv'\n",
    "    tax_log = 'DeepMicrodata/taxonomy_log_'+ taxonomy_level + '_' + outcome + '.txt'\n",
    "    phylo_path = 'data/training_data_2022-07-21/phylotypes/phylotype_relabd.' + phylotype_level + '.csv'\n",
    "    phylo_profile_path = 'DeepMicrodata/data/phylotype_' + phylotype_level + '_' + outcome + '.csv'\n",
    "    phylo_log = 'DeepMicrodata/phylotype_log_'+ phylotype_level + '_' + outcome + '.txt'\n",
    "    tax_hidden_path = 'DeepMicrodata/results/' + 'AE[' + str(taxonomy_hidden) + ']' + '_' + \\\n",
    "                os.path.splitext(os.path.basename(tax_profile_path))[0] + '_rep.csv'\n",
    "    phylo_hidden_path = 'DeepMicrodata/results/' + 'AE[' + str(phylotype_hidden) + ']' + '_' + \\\n",
    "                os.path.splitext(os.path.basename(phylo_profile_path))[0] + '_rep.csv'\n",
    "    \n",
    "    ##generate data and run DeepMicro\n",
    "    if not os.path.exists(tax_profile_path):\n",
    "        !\"C:/Program Files/R/R-4.2.0/bin/x64/Rscript.exe\" --verbose --vanilla data_generator_no_filter.R \\\n",
    "        {outcome} {tax_path} {meta_path} {tax_profile_path} \n",
    "\n",
    "    if not os.path.exists(tax_hidden_path):\n",
    "        !python DeepMicro/DM.py -r 1 -s 1000 -p DeepMicrodata/ --no_clf \\\n",
    "        -cd {os.path.basename(tax_profile_path)} --ae -dm {taxonomy_hidden} --save_rep > {tax_log}\n",
    "    \n",
    "    if not os.path.exists(phylo_profile_path):\n",
    "        !\"C:/Program Files/R/R-4.2.0/bin/x64/Rscript.exe\" --verbose --vanilla data_generator_no_filter.R \\\n",
    "        {outcome} {phylo_path} {meta_path} {phylo_profile_path}\n",
    "    \n",
    "    if not os.path.exists(phylo_hidden_path):\n",
    "        !python DeepMicro/DM.py -r 1 -s 1000 -p DeepMicrodata/ --no_clf \\\n",
    "        -cd {os.path.basename(phylo_profile_path)} --ae -dm {phylotype_hidden} --save_rep > {phylo_log}\n",
    "    \n",
    "    ##read data\n",
    "    metadata = pd.read_csv(meta_path, delimiter=',')\n",
    "    \n",
    "    \n",
    "    \n",
    "    taxdata = pd.read_csv(tax_hidden_path, delimiter=',', header = None)\n",
    "    \n",
    "    taxname = ['tax' + str(i) for i in range(taxdata.shape[1])]\n",
    "    \n",
    "    taxdata.columns = taxname\n",
    "    \n",
    "    \n",
    "    \n",
    "    phylodata = pd.read_csv(phylo_hidden_path, delimiter=',', header = None)\n",
    "    \n",
    "    phyloname = ['phylo' + str(i) for i in range(phylodata.shape[1])]\n",
    "    \n",
    "    phylodata.columns = phyloname\n",
    "    \n",
    "    mydata = pd.concat([metadata,taxdata,phylodata], axis = 1).copy().set_index('specimen')\n",
    "    \n",
    "    \n",
    "    return mydata\n",
    "     \n"
   ]
  },
  {
   "cell_type": "code",
   "execution_count": 98,
   "id": "89a138ff",
   "metadata": {},
   "outputs": [],
   "source": [
    "outcome = \"was_preterm\""
   ]
  },
  {
   "cell_type": "code",
   "execution_count": 99,
   "id": "d1cfd6f2",
   "metadata": {},
   "outputs": [],
   "source": [
    "mydata = datagenerator(taxonomy_level = 'genus',taxonomy_hidden = 20, \\\n",
    "                  phylotype_level = '5e_1', phylotype_hidden = 30, outcome = outcome)"
   ]
  },
  {
   "cell_type": "code",
   "execution_count": 100,
   "id": "d5d8168f",
   "metadata": {},
   "outputs": [
    {
     "name": "stdout",
     "output_type": "stream",
     "text": [
      "(2077, 65)\n"
     ]
    },
    {
     "data": {
      "text/html": [
       "<div>\n",
       "<style scoped>\n",
       "    .dataframe tbody tr th:only-of-type {\n",
       "        vertical-align: middle;\n",
       "    }\n",
       "\n",
       "    .dataframe tbody tr th {\n",
       "        vertical-align: top;\n",
       "    }\n",
       "\n",
       "    .dataframe thead th {\n",
       "        text-align: right;\n",
       "    }\n",
       "</style>\n",
       "<table border=\"1\" class=\"dataframe\">\n",
       "  <thead>\n",
       "    <tr style=\"text-align: right;\">\n",
       "      <th></th>\n",
       "      <th>participant_id</th>\n",
       "      <th>project</th>\n",
       "      <th>was_preterm</th>\n",
       "      <th>was_early_preterm</th>\n",
       "      <th>delivery_wk</th>\n",
       "      <th>age_imp</th>\n",
       "      <th>CST</th>\n",
       "      <th>collect_wk</th>\n",
       "      <th>shannon</th>\n",
       "      <th>inv_simpson</th>\n",
       "      <th>...</th>\n",
       "      <th>phylo20</th>\n",
       "      <th>phylo21</th>\n",
       "      <th>phylo22</th>\n",
       "      <th>phylo23</th>\n",
       "      <th>phylo24</th>\n",
       "      <th>phylo25</th>\n",
       "      <th>phylo26</th>\n",
       "      <th>phylo27</th>\n",
       "      <th>phylo28</th>\n",
       "      <th>phylo29</th>\n",
       "    </tr>\n",
       "    <tr>\n",
       "      <th>specimen</th>\n",
       "      <th></th>\n",
       "      <th></th>\n",
       "      <th></th>\n",
       "      <th></th>\n",
       "      <th></th>\n",
       "      <th></th>\n",
       "      <th></th>\n",
       "      <th></th>\n",
       "      <th></th>\n",
       "      <th></th>\n",
       "      <th></th>\n",
       "      <th></th>\n",
       "      <th></th>\n",
       "      <th></th>\n",
       "      <th></th>\n",
       "      <th></th>\n",
       "      <th></th>\n",
       "      <th></th>\n",
       "      <th></th>\n",
       "      <th></th>\n",
       "      <th></th>\n",
       "    </tr>\n",
       "  </thead>\n",
       "  <tbody>\n",
       "    <tr>\n",
       "      <th>A00003-02</th>\n",
       "      <td>A00003</td>\n",
       "      <td>A</td>\n",
       "      <td>False</td>\n",
       "      <td>False</td>\n",
       "      <td>40</td>\n",
       "      <td>32</td>\n",
       "      <td>II</td>\n",
       "      <td>30</td>\n",
       "      <td>1.00000</td>\n",
       "      <td>1.00000</td>\n",
       "      <td>...</td>\n",
       "      <td>-0.192806</td>\n",
       "      <td>-0.243930</td>\n",
       "      <td>0.077513</td>\n",
       "      <td>-0.223137</td>\n",
       "      <td>0.054267</td>\n",
       "      <td>0.213074</td>\n",
       "      <td>0.135706</td>\n",
       "      <td>0.204574</td>\n",
       "      <td>-0.114253</td>\n",
       "      <td>-0.160474</td>\n",
       "    </tr>\n",
       "    <tr>\n",
       "      <th>A00004-08</th>\n",
       "      <td>A00004</td>\n",
       "      <td>A</td>\n",
       "      <td>False</td>\n",
       "      <td>False</td>\n",
       "      <td>40</td>\n",
       "      <td>25</td>\n",
       "      <td>III</td>\n",
       "      <td>27</td>\n",
       "      <td>1.00000</td>\n",
       "      <td>1.00000</td>\n",
       "      <td>...</td>\n",
       "      <td>-0.245921</td>\n",
       "      <td>0.032504</td>\n",
       "      <td>-0.154268</td>\n",
       "      <td>0.154259</td>\n",
       "      <td>-0.210851</td>\n",
       "      <td>0.130357</td>\n",
       "      <td>-0.263512</td>\n",
       "      <td>-0.281376</td>\n",
       "      <td>-0.128630</td>\n",
       "      <td>-0.238920</td>\n",
       "    </tr>\n",
       "    <tr>\n",
       "      <th>A00004-12</th>\n",
       "      <td>A00004</td>\n",
       "      <td>A</td>\n",
       "      <td>False</td>\n",
       "      <td>False</td>\n",
       "      <td>40</td>\n",
       "      <td>25</td>\n",
       "      <td>III</td>\n",
       "      <td>29</td>\n",
       "      <td>6.94884</td>\n",
       "      <td>4.07385</td>\n",
       "      <td>...</td>\n",
       "      <td>-0.211545</td>\n",
       "      <td>0.022500</td>\n",
       "      <td>-0.142456</td>\n",
       "      <td>0.138919</td>\n",
       "      <td>-0.146539</td>\n",
       "      <td>0.094257</td>\n",
       "      <td>-0.211134</td>\n",
       "      <td>-0.251107</td>\n",
       "      <td>-0.124423</td>\n",
       "      <td>-0.231162</td>\n",
       "    </tr>\n",
       "    <tr>\n",
       "      <th>A00004-13</th>\n",
       "      <td>A00004</td>\n",
       "      <td>A</td>\n",
       "      <td>False</td>\n",
       "      <td>False</td>\n",
       "      <td>40</td>\n",
       "      <td>25</td>\n",
       "      <td>III</td>\n",
       "      <td>30</td>\n",
       "      <td>3.04127</td>\n",
       "      <td>2.30305</td>\n",
       "      <td>...</td>\n",
       "      <td>-0.175474</td>\n",
       "      <td>0.019546</td>\n",
       "      <td>-0.125339</td>\n",
       "      <td>0.127339</td>\n",
       "      <td>-0.091471</td>\n",
       "      <td>0.062716</td>\n",
       "      <td>-0.160936</td>\n",
       "      <td>-0.226131</td>\n",
       "      <td>-0.112218</td>\n",
       "      <td>-0.214659</td>\n",
       "    </tr>\n",
       "    <tr>\n",
       "      <th>A00005-02</th>\n",
       "      <td>A00005</td>\n",
       "      <td>A</td>\n",
       "      <td>False</td>\n",
       "      <td>False</td>\n",
       "      <td>41</td>\n",
       "      <td>31</td>\n",
       "      <td>II</td>\n",
       "      <td>26</td>\n",
       "      <td>1.85087</td>\n",
       "      <td>1.79889</td>\n",
       "      <td>...</td>\n",
       "      <td>-0.090355</td>\n",
       "      <td>-0.204638</td>\n",
       "      <td>0.091833</td>\n",
       "      <td>0.154889</td>\n",
       "      <td>-0.015265</td>\n",
       "      <td>-0.133653</td>\n",
       "      <td>0.079635</td>\n",
       "      <td>-0.153158</td>\n",
       "      <td>0.073932</td>\n",
       "      <td>-0.075373</td>\n",
       "    </tr>\n",
       "  </tbody>\n",
       "</table>\n",
       "<p>5 rows × 65 columns</p>\n",
       "</div>"
      ],
      "text/plain": [
       "          participant_id project  was_preterm  was_early_preterm  delivery_wk  \\\n",
       "specimen                                                                        \n",
       "A00003-02         A00003       A        False              False           40   \n",
       "A00004-08         A00004       A        False              False           40   \n",
       "A00004-12         A00004       A        False              False           40   \n",
       "A00004-13         A00004       A        False              False           40   \n",
       "A00005-02         A00005       A        False              False           41   \n",
       "\n",
       "           age_imp  CST  collect_wk  shannon  inv_simpson  ...   phylo20  \\\n",
       "specimen                                                   ...             \n",
       "A00003-02       32   II          30  1.00000      1.00000  ... -0.192806   \n",
       "A00004-08       25  III          27  1.00000      1.00000  ... -0.245921   \n",
       "A00004-12       25  III          29  6.94884      4.07385  ... -0.211545   \n",
       "A00004-13       25  III          30  3.04127      2.30305  ... -0.175474   \n",
       "A00005-02       31   II          26  1.85087      1.79889  ... -0.090355   \n",
       "\n",
       "            phylo21   phylo22   phylo23   phylo24   phylo25   phylo26  \\\n",
       "specimen                                                                \n",
       "A00003-02 -0.243930  0.077513 -0.223137  0.054267  0.213074  0.135706   \n",
       "A00004-08  0.032504 -0.154268  0.154259 -0.210851  0.130357 -0.263512   \n",
       "A00004-12  0.022500 -0.142456  0.138919 -0.146539  0.094257 -0.211134   \n",
       "A00004-13  0.019546 -0.125339  0.127339 -0.091471  0.062716 -0.160936   \n",
       "A00005-02 -0.204638  0.091833  0.154889 -0.015265 -0.133653  0.079635   \n",
       "\n",
       "            phylo27   phylo28   phylo29  \n",
       "specimen                                 \n",
       "A00003-02  0.204574 -0.114253 -0.160474  \n",
       "A00004-08 -0.281376 -0.128630 -0.238920  \n",
       "A00004-12 -0.251107 -0.124423 -0.231162  \n",
       "A00004-13 -0.226131 -0.112218 -0.214659  \n",
       "A00005-02 -0.153158  0.073932 -0.075373  \n",
       "\n",
       "[5 rows x 65 columns]"
      ]
     },
     "execution_count": 100,
     "metadata": {},
     "output_type": "execute_result"
    }
   ],
   "source": [
    "print(mydata.shape)\n",
    "mydata.head(5)"
   ]
  },
  {
   "cell_type": "markdown",
   "id": "09e16f71",
   "metadata": {},
   "source": [
    "### change data type"
   ]
  },
  {
   "cell_type": "code",
   "execution_count": 101,
   "id": "79ce0fbc",
   "metadata": {},
   "outputs": [
    {
     "data": {
      "text/plain": [
       "participant_id         object\n",
       "project              category\n",
       "was_preterm             int64\n",
       "was_early_preterm       int64\n",
       "delivery_wk             int64\n",
       "                       ...   \n",
       "phylo25               float64\n",
       "phylo26               float64\n",
       "phylo27               float64\n",
       "phylo28               float64\n",
       "phylo29               float64\n",
       "Length: 65, dtype: object"
      ]
     },
     "execution_count": 101,
     "metadata": {},
     "output_type": "execute_result"
    }
   ],
   "source": [
    "mydata[\"project\"] = mydata[\"project\"].astype('category')\n",
    "mydata[\"CST\"] = mydata[\"CST\"].astype('category')\n",
    "mydata['was_preterm'] = mydata['was_preterm'].astype('int64')\n",
    "mydata['was_early_preterm'] = mydata['was_early_preterm'].astype('int64')\n",
    "\n",
    "mydata.dtypes"
   ]
  },
  {
   "cell_type": "markdown",
   "id": "ffd99cc9",
   "metadata": {},
   "source": [
    "### subset data by outcome"
   ]
  },
  {
   "cell_type": "code",
   "execution_count": 102,
   "id": "f7b3d2b5",
   "metadata": {},
   "outputs": [
    {
     "name": "stdout",
     "output_type": "stream",
     "text": [
      "(2077, 65)\n"
     ]
    },
    {
     "data": {
      "text/html": [
       "<div>\n",
       "<style scoped>\n",
       "    .dataframe tbody tr th:only-of-type {\n",
       "        vertical-align: middle;\n",
       "    }\n",
       "\n",
       "    .dataframe tbody tr th {\n",
       "        vertical-align: top;\n",
       "    }\n",
       "\n",
       "    .dataframe thead th {\n",
       "        text-align: right;\n",
       "    }\n",
       "</style>\n",
       "<table border=\"1\" class=\"dataframe\">\n",
       "  <thead>\n",
       "    <tr style=\"text-align: right;\">\n",
       "      <th></th>\n",
       "      <th>participant_id</th>\n",
       "      <th>project</th>\n",
       "      <th>was_preterm</th>\n",
       "      <th>was_early_preterm</th>\n",
       "      <th>delivery_wk</th>\n",
       "      <th>age_imp</th>\n",
       "      <th>CST</th>\n",
       "      <th>collect_wk</th>\n",
       "      <th>shannon</th>\n",
       "      <th>inv_simpson</th>\n",
       "      <th>...</th>\n",
       "      <th>phylo20</th>\n",
       "      <th>phylo21</th>\n",
       "      <th>phylo22</th>\n",
       "      <th>phylo23</th>\n",
       "      <th>phylo24</th>\n",
       "      <th>phylo25</th>\n",
       "      <th>phylo26</th>\n",
       "      <th>phylo27</th>\n",
       "      <th>phylo28</th>\n",
       "      <th>phylo29</th>\n",
       "    </tr>\n",
       "    <tr>\n",
       "      <th>specimen</th>\n",
       "      <th></th>\n",
       "      <th></th>\n",
       "      <th></th>\n",
       "      <th></th>\n",
       "      <th></th>\n",
       "      <th></th>\n",
       "      <th></th>\n",
       "      <th></th>\n",
       "      <th></th>\n",
       "      <th></th>\n",
       "      <th></th>\n",
       "      <th></th>\n",
       "      <th></th>\n",
       "      <th></th>\n",
       "      <th></th>\n",
       "      <th></th>\n",
       "      <th></th>\n",
       "      <th></th>\n",
       "      <th></th>\n",
       "      <th></th>\n",
       "      <th></th>\n",
       "    </tr>\n",
       "  </thead>\n",
       "  <tbody>\n",
       "    <tr>\n",
       "      <th>A00003-02</th>\n",
       "      <td>A00003</td>\n",
       "      <td>A</td>\n",
       "      <td>0</td>\n",
       "      <td>0</td>\n",
       "      <td>40</td>\n",
       "      <td>32</td>\n",
       "      <td>II</td>\n",
       "      <td>30</td>\n",
       "      <td>1.00000</td>\n",
       "      <td>1.00000</td>\n",
       "      <td>...</td>\n",
       "      <td>-0.192806</td>\n",
       "      <td>-0.243930</td>\n",
       "      <td>0.077513</td>\n",
       "      <td>-0.223137</td>\n",
       "      <td>0.054267</td>\n",
       "      <td>0.213074</td>\n",
       "      <td>0.135706</td>\n",
       "      <td>0.204574</td>\n",
       "      <td>-0.114253</td>\n",
       "      <td>-0.160474</td>\n",
       "    </tr>\n",
       "    <tr>\n",
       "      <th>A00004-08</th>\n",
       "      <td>A00004</td>\n",
       "      <td>A</td>\n",
       "      <td>0</td>\n",
       "      <td>0</td>\n",
       "      <td>40</td>\n",
       "      <td>25</td>\n",
       "      <td>III</td>\n",
       "      <td>27</td>\n",
       "      <td>1.00000</td>\n",
       "      <td>1.00000</td>\n",
       "      <td>...</td>\n",
       "      <td>-0.245921</td>\n",
       "      <td>0.032504</td>\n",
       "      <td>-0.154268</td>\n",
       "      <td>0.154259</td>\n",
       "      <td>-0.210851</td>\n",
       "      <td>0.130357</td>\n",
       "      <td>-0.263512</td>\n",
       "      <td>-0.281376</td>\n",
       "      <td>-0.128630</td>\n",
       "      <td>-0.238920</td>\n",
       "    </tr>\n",
       "    <tr>\n",
       "      <th>A00004-12</th>\n",
       "      <td>A00004</td>\n",
       "      <td>A</td>\n",
       "      <td>0</td>\n",
       "      <td>0</td>\n",
       "      <td>40</td>\n",
       "      <td>25</td>\n",
       "      <td>III</td>\n",
       "      <td>29</td>\n",
       "      <td>6.94884</td>\n",
       "      <td>4.07385</td>\n",
       "      <td>...</td>\n",
       "      <td>-0.211545</td>\n",
       "      <td>0.022500</td>\n",
       "      <td>-0.142456</td>\n",
       "      <td>0.138919</td>\n",
       "      <td>-0.146539</td>\n",
       "      <td>0.094257</td>\n",
       "      <td>-0.211134</td>\n",
       "      <td>-0.251107</td>\n",
       "      <td>-0.124423</td>\n",
       "      <td>-0.231162</td>\n",
       "    </tr>\n",
       "    <tr>\n",
       "      <th>A00004-13</th>\n",
       "      <td>A00004</td>\n",
       "      <td>A</td>\n",
       "      <td>0</td>\n",
       "      <td>0</td>\n",
       "      <td>40</td>\n",
       "      <td>25</td>\n",
       "      <td>III</td>\n",
       "      <td>30</td>\n",
       "      <td>3.04127</td>\n",
       "      <td>2.30305</td>\n",
       "      <td>...</td>\n",
       "      <td>-0.175474</td>\n",
       "      <td>0.019546</td>\n",
       "      <td>-0.125339</td>\n",
       "      <td>0.127339</td>\n",
       "      <td>-0.091471</td>\n",
       "      <td>0.062716</td>\n",
       "      <td>-0.160936</td>\n",
       "      <td>-0.226131</td>\n",
       "      <td>-0.112218</td>\n",
       "      <td>-0.214659</td>\n",
       "    </tr>\n",
       "    <tr>\n",
       "      <th>A00005-02</th>\n",
       "      <td>A00005</td>\n",
       "      <td>A</td>\n",
       "      <td>0</td>\n",
       "      <td>0</td>\n",
       "      <td>41</td>\n",
       "      <td>31</td>\n",
       "      <td>II</td>\n",
       "      <td>26</td>\n",
       "      <td>1.85087</td>\n",
       "      <td>1.79889</td>\n",
       "      <td>...</td>\n",
       "      <td>-0.090355</td>\n",
       "      <td>-0.204638</td>\n",
       "      <td>0.091833</td>\n",
       "      <td>0.154889</td>\n",
       "      <td>-0.015265</td>\n",
       "      <td>-0.133653</td>\n",
       "      <td>0.079635</td>\n",
       "      <td>-0.153158</td>\n",
       "      <td>0.073932</td>\n",
       "      <td>-0.075373</td>\n",
       "    </tr>\n",
       "  </tbody>\n",
       "</table>\n",
       "<p>5 rows × 65 columns</p>\n",
       "</div>"
      ],
      "text/plain": [
       "          participant_id project  was_preterm  was_early_preterm  delivery_wk  \\\n",
       "specimen                                                                        \n",
       "A00003-02         A00003       A            0                  0           40   \n",
       "A00004-08         A00004       A            0                  0           40   \n",
       "A00004-12         A00004       A            0                  0           40   \n",
       "A00004-13         A00004       A            0                  0           40   \n",
       "A00005-02         A00005       A            0                  0           41   \n",
       "\n",
       "           age_imp  CST  collect_wk  shannon  inv_simpson  ...   phylo20  \\\n",
       "specimen                                                   ...             \n",
       "A00003-02       32   II          30  1.00000      1.00000  ... -0.192806   \n",
       "A00004-08       25  III          27  1.00000      1.00000  ... -0.245921   \n",
       "A00004-12       25  III          29  6.94884      4.07385  ... -0.211545   \n",
       "A00004-13       25  III          30  3.04127      2.30305  ... -0.175474   \n",
       "A00005-02       31   II          26  1.85087      1.79889  ... -0.090355   \n",
       "\n",
       "            phylo21   phylo22   phylo23   phylo24   phylo25   phylo26  \\\n",
       "specimen                                                                \n",
       "A00003-02 -0.243930  0.077513 -0.223137  0.054267  0.213074  0.135706   \n",
       "A00004-08  0.032504 -0.154268  0.154259 -0.210851  0.130357 -0.263512   \n",
       "A00004-12  0.022500 -0.142456  0.138919 -0.146539  0.094257 -0.211134   \n",
       "A00004-13  0.019546 -0.125339  0.127339 -0.091471  0.062716 -0.160936   \n",
       "A00005-02 -0.204638  0.091833  0.154889 -0.015265 -0.133653  0.079635   \n",
       "\n",
       "            phylo27   phylo28   phylo29  \n",
       "specimen                                 \n",
       "A00003-02  0.204574 -0.114253 -0.160474  \n",
       "A00004-08 -0.281376 -0.128630 -0.238920  \n",
       "A00004-12 -0.251107 -0.124423 -0.231162  \n",
       "A00004-13 -0.226131 -0.112218 -0.214659  \n",
       "A00005-02 -0.153158  0.073932 -0.075373  \n",
       "\n",
       "[5 rows x 65 columns]"
      ]
     },
     "execution_count": 102,
     "metadata": {},
     "output_type": "execute_result"
    }
   ],
   "source": [
    "# only keep the rows with collect_wk < 32 for Preterm task\n",
    "mydata_preterm_t = mydata.loc[mydata['collect_wk']<=32,].copy().sort_index(axis = 0)\n",
    "\n",
    "mydata_preterm = mydata_preterm_t \n",
    "# mydata_preterm = mydata_preterm_t.loc[mydata_preterm_t['project']!= 'I',].copy().sort_index(axis = 0)\n",
    "print(mydata_preterm.shape)\n",
    "\n",
    "mydata_preterm.head(5)"
   ]
  },
  {
   "cell_type": "code",
   "execution_count": 103,
   "id": "0792e183",
   "metadata": {},
   "outputs": [
    {
     "data": {
      "text/plain": [
       "(1068, 64)"
      ]
     },
     "execution_count": 103,
     "metadata": {},
     "output_type": "execute_result"
    }
   ],
   "source": [
    "mydata_preterm_ind = mydata_preterm.groupby('participant_id').first().copy()\n",
    "\n",
    "mydata_preterm_ind.shape"
   ]
  },
  {
   "cell_type": "markdown",
   "id": "3819b0a0",
   "metadata": {},
   "source": [
    "### split train validation id set"
   ]
  },
  {
   "cell_type": "code",
   "execution_count": 104,
   "id": "c478c045",
   "metadata": {},
   "outputs": [
    {
     "name": "stdout",
     "output_type": "stream",
     "text": [
      "213\n",
      "855\n"
     ]
    }
   ],
   "source": [
    "test_id = list(mydata_preterm_ind.groupby(outcome).sample(frac = 0.2, random_state = 200).sort_index(axis = 0).index)\n",
    "\n",
    "# train_val_id = list(mydata_preterm_ind.loc[~mydata_preterm_ind.index.isin(train_id)].groupby('was_preterm').\\\n",
    "#             sample(frac = 0.5, random_state = 200).sort_index(axis = 0).index)\n",
    "\n",
    "train_val_id = list(np.setdiff1d(list(mydata_preterm_ind.index),test_id))\n",
    "\n",
    "print(len(test_id))\n",
    "print(len(train_val_id))\n"
   ]
  },
  {
   "cell_type": "markdown",
   "id": "583c2f58",
   "metadata": {},
   "source": [
    "### obtain train validation dataset"
   ]
  },
  {
   "cell_type": "code",
   "execution_count": 105,
   "id": "7b2a54f6",
   "metadata": {},
   "outputs": [
    {
     "name": "stdout",
     "output_type": "stream",
     "text": [
      "213\n",
      "(382, 65)\n"
     ]
    },
    {
     "data": {
      "text/html": [
       "<div>\n",
       "<style scoped>\n",
       "    .dataframe tbody tr th:only-of-type {\n",
       "        vertical-align: middle;\n",
       "    }\n",
       "\n",
       "    .dataframe tbody tr th {\n",
       "        vertical-align: top;\n",
       "    }\n",
       "\n",
       "    .dataframe thead th {\n",
       "        text-align: right;\n",
       "    }\n",
       "</style>\n",
       "<table border=\"1\" class=\"dataframe\">\n",
       "  <thead>\n",
       "    <tr style=\"text-align: right;\">\n",
       "      <th></th>\n",
       "      <th>participant_id</th>\n",
       "      <th>project</th>\n",
       "      <th>was_preterm</th>\n",
       "      <th>was_early_preterm</th>\n",
       "      <th>delivery_wk</th>\n",
       "      <th>age_imp</th>\n",
       "      <th>CST</th>\n",
       "      <th>collect_wk</th>\n",
       "      <th>shannon</th>\n",
       "      <th>inv_simpson</th>\n",
       "      <th>...</th>\n",
       "      <th>phylo20</th>\n",
       "      <th>phylo21</th>\n",
       "      <th>phylo22</th>\n",
       "      <th>phylo23</th>\n",
       "      <th>phylo24</th>\n",
       "      <th>phylo25</th>\n",
       "      <th>phylo26</th>\n",
       "      <th>phylo27</th>\n",
       "      <th>phylo28</th>\n",
       "      <th>phylo29</th>\n",
       "    </tr>\n",
       "    <tr>\n",
       "      <th>specimen</th>\n",
       "      <th></th>\n",
       "      <th></th>\n",
       "      <th></th>\n",
       "      <th></th>\n",
       "      <th></th>\n",
       "      <th></th>\n",
       "      <th></th>\n",
       "      <th></th>\n",
       "      <th></th>\n",
       "      <th></th>\n",
       "      <th></th>\n",
       "      <th></th>\n",
       "      <th></th>\n",
       "      <th></th>\n",
       "      <th></th>\n",
       "      <th></th>\n",
       "      <th></th>\n",
       "      <th></th>\n",
       "      <th></th>\n",
       "      <th></th>\n",
       "      <th></th>\n",
       "    </tr>\n",
       "  </thead>\n",
       "  <tbody>\n",
       "    <tr>\n",
       "      <th>A00004-08</th>\n",
       "      <td>A00004</td>\n",
       "      <td>A</td>\n",
       "      <td>0</td>\n",
       "      <td>0</td>\n",
       "      <td>40</td>\n",
       "      <td>25</td>\n",
       "      <td>III</td>\n",
       "      <td>27</td>\n",
       "      <td>1.00000</td>\n",
       "      <td>1.00000</td>\n",
       "      <td>...</td>\n",
       "      <td>-0.245921</td>\n",
       "      <td>0.032504</td>\n",
       "      <td>-0.154268</td>\n",
       "      <td>0.154259</td>\n",
       "      <td>-0.210851</td>\n",
       "      <td>0.130357</td>\n",
       "      <td>-0.263512</td>\n",
       "      <td>-0.281376</td>\n",
       "      <td>-0.128630</td>\n",
       "      <td>-0.238920</td>\n",
       "    </tr>\n",
       "    <tr>\n",
       "      <th>A00004-12</th>\n",
       "      <td>A00004</td>\n",
       "      <td>A</td>\n",
       "      <td>0</td>\n",
       "      <td>0</td>\n",
       "      <td>40</td>\n",
       "      <td>25</td>\n",
       "      <td>III</td>\n",
       "      <td>29</td>\n",
       "      <td>6.94884</td>\n",
       "      <td>4.07385</td>\n",
       "      <td>...</td>\n",
       "      <td>-0.211545</td>\n",
       "      <td>0.022500</td>\n",
       "      <td>-0.142456</td>\n",
       "      <td>0.138919</td>\n",
       "      <td>-0.146539</td>\n",
       "      <td>0.094257</td>\n",
       "      <td>-0.211134</td>\n",
       "      <td>-0.251107</td>\n",
       "      <td>-0.124423</td>\n",
       "      <td>-0.231162</td>\n",
       "    </tr>\n",
       "    <tr>\n",
       "      <th>A00004-13</th>\n",
       "      <td>A00004</td>\n",
       "      <td>A</td>\n",
       "      <td>0</td>\n",
       "      <td>0</td>\n",
       "      <td>40</td>\n",
       "      <td>25</td>\n",
       "      <td>III</td>\n",
       "      <td>30</td>\n",
       "      <td>3.04127</td>\n",
       "      <td>2.30305</td>\n",
       "      <td>...</td>\n",
       "      <td>-0.175474</td>\n",
       "      <td>0.019546</td>\n",
       "      <td>-0.125339</td>\n",
       "      <td>0.127339</td>\n",
       "      <td>-0.091471</td>\n",
       "      <td>0.062716</td>\n",
       "      <td>-0.160936</td>\n",
       "      <td>-0.226131</td>\n",
       "      <td>-0.112218</td>\n",
       "      <td>-0.214659</td>\n",
       "    </tr>\n",
       "    <tr>\n",
       "      <th>A00010-01</th>\n",
       "      <td>A00010</td>\n",
       "      <td>A</td>\n",
       "      <td>0</td>\n",
       "      <td>0</td>\n",
       "      <td>38</td>\n",
       "      <td>30</td>\n",
       "      <td>III</td>\n",
       "      <td>27</td>\n",
       "      <td>1.00000</td>\n",
       "      <td>1.00000</td>\n",
       "      <td>...</td>\n",
       "      <td>-0.150443</td>\n",
       "      <td>0.017638</td>\n",
       "      <td>-0.114856</td>\n",
       "      <td>0.107124</td>\n",
       "      <td>-0.140615</td>\n",
       "      <td>0.089013</td>\n",
       "      <td>-0.170773</td>\n",
       "      <td>-0.190238</td>\n",
       "      <td>-0.074177</td>\n",
       "      <td>-0.145844</td>\n",
       "    </tr>\n",
       "    <tr>\n",
       "      <th>A00010-02</th>\n",
       "      <td>A00010</td>\n",
       "      <td>A</td>\n",
       "      <td>0</td>\n",
       "      <td>0</td>\n",
       "      <td>38</td>\n",
       "      <td>30</td>\n",
       "      <td>III</td>\n",
       "      <td>28</td>\n",
       "      <td>2.06211</td>\n",
       "      <td>1.83220</td>\n",
       "      <td>...</td>\n",
       "      <td>-0.118695</td>\n",
       "      <td>0.013494</td>\n",
       "      <td>-0.098349</td>\n",
       "      <td>0.109109</td>\n",
       "      <td>-0.148815</td>\n",
       "      <td>0.088655</td>\n",
       "      <td>-0.147476</td>\n",
       "      <td>-0.174987</td>\n",
       "      <td>-0.048399</td>\n",
       "      <td>-0.108551</td>\n",
       "    </tr>\n",
       "  </tbody>\n",
       "</table>\n",
       "<p>5 rows × 65 columns</p>\n",
       "</div>"
      ],
      "text/plain": [
       "          participant_id project  was_preterm  was_early_preterm  delivery_wk  \\\n",
       "specimen                                                                        \n",
       "A00004-08         A00004       A            0                  0           40   \n",
       "A00004-12         A00004       A            0                  0           40   \n",
       "A00004-13         A00004       A            0                  0           40   \n",
       "A00010-01         A00010       A            0                  0           38   \n",
       "A00010-02         A00010       A            0                  0           38   \n",
       "\n",
       "           age_imp  CST  collect_wk  shannon  inv_simpson  ...   phylo20  \\\n",
       "specimen                                                   ...             \n",
       "A00004-08       25  III          27  1.00000      1.00000  ... -0.245921   \n",
       "A00004-12       25  III          29  6.94884      4.07385  ... -0.211545   \n",
       "A00004-13       25  III          30  3.04127      2.30305  ... -0.175474   \n",
       "A00010-01       30  III          27  1.00000      1.00000  ... -0.150443   \n",
       "A00010-02       30  III          28  2.06211      1.83220  ... -0.118695   \n",
       "\n",
       "            phylo21   phylo22   phylo23   phylo24   phylo25   phylo26  \\\n",
       "specimen                                                                \n",
       "A00004-08  0.032504 -0.154268  0.154259 -0.210851  0.130357 -0.263512   \n",
       "A00004-12  0.022500 -0.142456  0.138919 -0.146539  0.094257 -0.211134   \n",
       "A00004-13  0.019546 -0.125339  0.127339 -0.091471  0.062716 -0.160936   \n",
       "A00010-01  0.017638 -0.114856  0.107124 -0.140615  0.089013 -0.170773   \n",
       "A00010-02  0.013494 -0.098349  0.109109 -0.148815  0.088655 -0.147476   \n",
       "\n",
       "            phylo27   phylo28   phylo29  \n",
       "specimen                                 \n",
       "A00004-08 -0.281376 -0.128630 -0.238920  \n",
       "A00004-12 -0.251107 -0.124423 -0.231162  \n",
       "A00004-13 -0.226131 -0.112218 -0.214659  \n",
       "A00010-01 -0.190238 -0.074177 -0.145844  \n",
       "A00010-02 -0.174987 -0.048399 -0.108551  \n",
       "\n",
       "[5 rows x 65 columns]"
      ]
     },
     "execution_count": 105,
     "metadata": {},
     "output_type": "execute_result"
    }
   ],
   "source": [
    "test_data = mydata_preterm[mydata_preterm['participant_id'].isin(test_id)]\n",
    "\n",
    "print(len(test_id))\n",
    "print(test_data.shape)\n",
    "test_data.head(5)"
   ]
  },
  {
   "cell_type": "code",
   "execution_count": 106,
   "id": "57926afa",
   "metadata": {},
   "outputs": [
    {
     "name": "stdout",
     "output_type": "stream",
     "text": [
      "855\n",
      "(1695, 65)\n"
     ]
    },
    {
     "data": {
      "text/html": [
       "<div>\n",
       "<style scoped>\n",
       "    .dataframe tbody tr th:only-of-type {\n",
       "        vertical-align: middle;\n",
       "    }\n",
       "\n",
       "    .dataframe tbody tr th {\n",
       "        vertical-align: top;\n",
       "    }\n",
       "\n",
       "    .dataframe thead th {\n",
       "        text-align: right;\n",
       "    }\n",
       "</style>\n",
       "<table border=\"1\" class=\"dataframe\">\n",
       "  <thead>\n",
       "    <tr style=\"text-align: right;\">\n",
       "      <th></th>\n",
       "      <th>participant_id</th>\n",
       "      <th>project</th>\n",
       "      <th>was_preterm</th>\n",
       "      <th>was_early_preterm</th>\n",
       "      <th>delivery_wk</th>\n",
       "      <th>age_imp</th>\n",
       "      <th>CST</th>\n",
       "      <th>collect_wk</th>\n",
       "      <th>shannon</th>\n",
       "      <th>inv_simpson</th>\n",
       "      <th>...</th>\n",
       "      <th>phylo20</th>\n",
       "      <th>phylo21</th>\n",
       "      <th>phylo22</th>\n",
       "      <th>phylo23</th>\n",
       "      <th>phylo24</th>\n",
       "      <th>phylo25</th>\n",
       "      <th>phylo26</th>\n",
       "      <th>phylo27</th>\n",
       "      <th>phylo28</th>\n",
       "      <th>phylo29</th>\n",
       "    </tr>\n",
       "    <tr>\n",
       "      <th>specimen</th>\n",
       "      <th></th>\n",
       "      <th></th>\n",
       "      <th></th>\n",
       "      <th></th>\n",
       "      <th></th>\n",
       "      <th></th>\n",
       "      <th></th>\n",
       "      <th></th>\n",
       "      <th></th>\n",
       "      <th></th>\n",
       "      <th></th>\n",
       "      <th></th>\n",
       "      <th></th>\n",
       "      <th></th>\n",
       "      <th></th>\n",
       "      <th></th>\n",
       "      <th></th>\n",
       "      <th></th>\n",
       "      <th></th>\n",
       "      <th></th>\n",
       "      <th></th>\n",
       "    </tr>\n",
       "  </thead>\n",
       "  <tbody>\n",
       "    <tr>\n",
       "      <th>A00003-02</th>\n",
       "      <td>A00003</td>\n",
       "      <td>A</td>\n",
       "      <td>0</td>\n",
       "      <td>0</td>\n",
       "      <td>40</td>\n",
       "      <td>32</td>\n",
       "      <td>II</td>\n",
       "      <td>30</td>\n",
       "      <td>1.00000</td>\n",
       "      <td>1.00000</td>\n",
       "      <td>...</td>\n",
       "      <td>-0.192806</td>\n",
       "      <td>-0.243930</td>\n",
       "      <td>0.077513</td>\n",
       "      <td>-0.223137</td>\n",
       "      <td>0.054267</td>\n",
       "      <td>0.213074</td>\n",
       "      <td>0.135706</td>\n",
       "      <td>0.204574</td>\n",
       "      <td>-0.114253</td>\n",
       "      <td>-0.160474</td>\n",
       "    </tr>\n",
       "    <tr>\n",
       "      <th>A00005-02</th>\n",
       "      <td>A00005</td>\n",
       "      <td>A</td>\n",
       "      <td>0</td>\n",
       "      <td>0</td>\n",
       "      <td>41</td>\n",
       "      <td>31</td>\n",
       "      <td>II</td>\n",
       "      <td>26</td>\n",
       "      <td>1.85087</td>\n",
       "      <td>1.79889</td>\n",
       "      <td>...</td>\n",
       "      <td>-0.090355</td>\n",
       "      <td>-0.204638</td>\n",
       "      <td>0.091833</td>\n",
       "      <td>0.154889</td>\n",
       "      <td>-0.015265</td>\n",
       "      <td>-0.133653</td>\n",
       "      <td>0.079635</td>\n",
       "      <td>-0.153158</td>\n",
       "      <td>0.073932</td>\n",
       "      <td>-0.075373</td>\n",
       "    </tr>\n",
       "    <tr>\n",
       "      <th>A00005-05</th>\n",
       "      <td>A00005</td>\n",
       "      <td>A</td>\n",
       "      <td>0</td>\n",
       "      <td>0</td>\n",
       "      <td>41</td>\n",
       "      <td>31</td>\n",
       "      <td>II</td>\n",
       "      <td>29</td>\n",
       "      <td>1.00000</td>\n",
       "      <td>1.00000</td>\n",
       "      <td>...</td>\n",
       "      <td>-0.109795</td>\n",
       "      <td>-0.243072</td>\n",
       "      <td>0.118366</td>\n",
       "      <td>0.191589</td>\n",
       "      <td>-0.017404</td>\n",
       "      <td>-0.165640</td>\n",
       "      <td>0.095252</td>\n",
       "      <td>-0.185196</td>\n",
       "      <td>0.088213</td>\n",
       "      <td>-0.100065</td>\n",
       "    </tr>\n",
       "    <tr>\n",
       "      <th>A00006-01</th>\n",
       "      <td>A00006</td>\n",
       "      <td>A</td>\n",
       "      <td>0</td>\n",
       "      <td>0</td>\n",
       "      <td>41</td>\n",
       "      <td>28</td>\n",
       "      <td>II</td>\n",
       "      <td>31</td>\n",
       "      <td>1.00000</td>\n",
       "      <td>1.00000</td>\n",
       "      <td>...</td>\n",
       "      <td>-0.154215</td>\n",
       "      <td>-0.200532</td>\n",
       "      <td>0.062518</td>\n",
       "      <td>-0.167118</td>\n",
       "      <td>0.037809</td>\n",
       "      <td>0.164644</td>\n",
       "      <td>0.105818</td>\n",
       "      <td>0.130045</td>\n",
       "      <td>-0.091391</td>\n",
       "      <td>-0.113859</td>\n",
       "    </tr>\n",
       "    <tr>\n",
       "      <th>A00008-02</th>\n",
       "      <td>A00008</td>\n",
       "      <td>A</td>\n",
       "      <td>1</td>\n",
       "      <td>0</td>\n",
       "      <td>35</td>\n",
       "      <td>38</td>\n",
       "      <td>IV-B</td>\n",
       "      <td>17</td>\n",
       "      <td>1.00000</td>\n",
       "      <td>1.00000</td>\n",
       "      <td>...</td>\n",
       "      <td>-0.067387</td>\n",
       "      <td>-0.084873</td>\n",
       "      <td>0.045210</td>\n",
       "      <td>-0.029346</td>\n",
       "      <td>0.049795</td>\n",
       "      <td>0.040730</td>\n",
       "      <td>-0.025317</td>\n",
       "      <td>0.051671</td>\n",
       "      <td>-0.084296</td>\n",
       "      <td>0.062176</td>\n",
       "    </tr>\n",
       "  </tbody>\n",
       "</table>\n",
       "<p>5 rows × 65 columns</p>\n",
       "</div>"
      ],
      "text/plain": [
       "          participant_id project  was_preterm  was_early_preterm  delivery_wk  \\\n",
       "specimen                                                                        \n",
       "A00003-02         A00003       A            0                  0           40   \n",
       "A00005-02         A00005       A            0                  0           41   \n",
       "A00005-05         A00005       A            0                  0           41   \n",
       "A00006-01         A00006       A            0                  0           41   \n",
       "A00008-02         A00008       A            1                  0           35   \n",
       "\n",
       "           age_imp   CST  collect_wk  shannon  inv_simpson  ...   phylo20  \\\n",
       "specimen                                                    ...             \n",
       "A00003-02       32    II          30  1.00000      1.00000  ... -0.192806   \n",
       "A00005-02       31    II          26  1.85087      1.79889  ... -0.090355   \n",
       "A00005-05       31    II          29  1.00000      1.00000  ... -0.109795   \n",
       "A00006-01       28    II          31  1.00000      1.00000  ... -0.154215   \n",
       "A00008-02       38  IV-B          17  1.00000      1.00000  ... -0.067387   \n",
       "\n",
       "            phylo21   phylo22   phylo23   phylo24   phylo25   phylo26  \\\n",
       "specimen                                                                \n",
       "A00003-02 -0.243930  0.077513 -0.223137  0.054267  0.213074  0.135706   \n",
       "A00005-02 -0.204638  0.091833  0.154889 -0.015265 -0.133653  0.079635   \n",
       "A00005-05 -0.243072  0.118366  0.191589 -0.017404 -0.165640  0.095252   \n",
       "A00006-01 -0.200532  0.062518 -0.167118  0.037809  0.164644  0.105818   \n",
       "A00008-02 -0.084873  0.045210 -0.029346  0.049795  0.040730 -0.025317   \n",
       "\n",
       "            phylo27   phylo28   phylo29  \n",
       "specimen                                 \n",
       "A00003-02  0.204574 -0.114253 -0.160474  \n",
       "A00005-02 -0.153158  0.073932 -0.075373  \n",
       "A00005-05 -0.185196  0.088213 -0.100065  \n",
       "A00006-01  0.130045 -0.091391 -0.113859  \n",
       "A00008-02  0.051671 -0.084296  0.062176  \n",
       "\n",
       "[5 rows x 65 columns]"
      ]
     },
     "execution_count": 106,
     "metadata": {},
     "output_type": "execute_result"
    }
   ],
   "source": [
    "train_val_data = mydata_preterm[mydata_preterm['participant_id'].isin(train_val_id)]\n",
    "\n",
    "print(len(train_val_id))\n",
    "print(train_val_data.shape)\n",
    "train_val_data.head(5)"
   ]
  },
  {
   "cell_type": "code",
   "execution_count": 107,
   "id": "d3c29267",
   "metadata": {},
   "outputs": [],
   "source": [
    "def tensor_generator(data, outcome = outcome):\n",
    "    X_data = data[data.columns[6:]].copy()\n",
    "    X_data['CST'] = X_data['CST'].cat.codes\n",
    "    X_feature = X_data.to_numpy().astype('float32')\n",
    "    X_group = data['participant_id'].astype('category').cat.codes.values.reshape(-1,1)\n",
    "    input_X = torch.from_numpy(np.hstack((X_feature,X_group)))\n",
    "    y_data = data.groupby('participant_id').first()\n",
    "    y = y_data[outcome].values.flatten()\n",
    "    input_y = torch.from_numpy(np.vstack((y,1-y)).T.astype('float32'))\n",
    "\n",
    "    \n",
    "    return input_X, input_y\n",
    "\n",
    "    "
   ]
  },
  {
   "cell_type": "code",
   "execution_count": 108,
   "id": "8dcc2679",
   "metadata": {},
   "outputs": [],
   "source": [
    "# Define RNN model\n",
    "class MLP(nn.Module):\n",
    "    def __init__(self, input_dim, hidden_dim1,hidden_dim2,drop_out):\n",
    "        \n",
    "\n",
    "        \n",
    "        #inherit from super class\n",
    "        super(MLP, self).__init__()\n",
    "        \n",
    "        #define layers\n",
    "        \n",
    "        self.fc1 = nn.Linear(input_dim, hidden_dim1)\n",
    "        self.fc2 = nn.Linear(hidden_dim1,hidden_dim2)\n",
    "        self.fc3 = nn.Linear(hidden_dim2,2)\n",
    "        self.dropout = nn.Dropout(drop_out)\n",
    "\n",
    "        \n",
    "    def forward(self, x):\n",
    "        \n",
    "        X_feature = x[:,:-1]\n",
    "        X_group = x[:,-1].long()\n",
    "        \n",
    "        X_feature = torch.tanh(self.fc1(X_feature))\n",
    "        X_feature = self.dropout(X_feature)\n",
    "        X_feature = torch.tanh(self.fc2(X_feature))\n",
    "        X_feature = self.dropout(X_feature)\n",
    "        X_feature = torch.tanh(self.fc3(X_feature))\n",
    "\n",
    "        X_feature = F.softmax(X_feature, dim = 1)\n",
    "\n",
    "        \n",
    "        M = torch.zeros(X_group.max()+1, len(X_feature))\n",
    "        M[X_group, torch.arange(len(X_feature))] = 1\n",
    "        M = F.normalize(M, p=1, dim=1)\n",
    "        X_feature = torch.mm(M, X_feature)\n",
    "\n",
    "        \n",
    "        return X_feature\n",
    "    \n",
    "\n",
    "def init_weights(m):\n",
    "    if type(m) == nn.Linear:\n",
    "        nn.init.normal_(m.weight, std=0.01) \n"
   ]
  },
  {
   "cell_type": "code",
   "execution_count": 109,
   "id": "5df4ca55",
   "metadata": {},
   "outputs": [
    {
     "name": "stdout",
     "output_type": "stream",
     "text": [
      "GPU not available, CPU used\n"
     ]
    }
   ],
   "source": [
    "# torch.cuda.is_available() checks and returns a Boolean True if a GPU is available, else it'll return False\n",
    "is_cuda = torch.cuda.is_available()\n",
    "\n",
    "# If we have a GPU available, we'll set our device to GPU. We'll use this device variable later in our code.\n",
    "if is_cuda:\n",
    "    device = torch.device(\"cuda\")\n",
    "    print(\"GPU is available\")\n",
    "else:\n",
    "    device = torch.device(\"cpu\")\n",
    "    print(\"GPU not available, CPU used\")"
   ]
  },
  {
   "cell_type": "code",
   "execution_count": 110,
   "id": "cb66cdc8",
   "metadata": {},
   "outputs": [],
   "source": [
    "def indloader(data, seed, outcome = outcome):\n",
    "    data_ind = data.groupby('participant_id').first().copy()\n",
    "    id_1 = list(data_ind.groupby(outcome).sample(frac = 0.5, random_state = seed).sort_index(axis = 0).index)\n",
    "    id_2 = list(np.setdiff1d(list(data_ind.index),id_1))\n",
    "    \n",
    "    return [id_1,id_2]\n",
    "    "
   ]
  },
  {
   "cell_type": "code",
   "execution_count": 111,
   "id": "fc61a8f1",
   "metadata": {},
   "outputs": [],
   "source": [
    "def train_epoch(train_data, val_data, learn_rate, outcome = outcome, \\\n",
    "                hidden_dim1 = 10,hidden_dim2 = 10,drop_out = 0.1, \\\n",
    "                device = device, EPOCHS = 500, patience = 20):\n",
    "    \n",
    "    val_X, val_y = tensor_generator(val_data)\n",
    "    \n",
    "    \n",
    "    #input_dim\n",
    "    \n",
    "    input_dim = val_X.shape[1]-1\n",
    "    \n",
    "\n",
    "    model = MLP(input_dim, hidden_dim1,hidden_dim2,drop_out)\n",
    "\n",
    "        \n",
    "    model.to(device)\n",
    "    \n",
    "    model.apply(init_weights)\n",
    "    # loss criterion and optimizer\n",
    "\n",
    "    criterion = nn.CrossEntropyLoss()\n",
    "    optimizer = torch.optim.Adam(model.parameters(), lr = learn_rate)\n",
    "    \n",
    "    train_loss = []\n",
    "    val_loss = []\n",
    "    # train model\n",
    "    \n",
    "    model.train()\n",
    "    \n",
    "    last_loss = 1000\n",
    "    trigger_times = 0\n",
    "    #Start training loop\n",
    "    \n",
    "    for epoch in range(1, EPOCHS + 1):\n",
    "        \n",
    "        batch_train_losses = []\n",
    "        ind_loader = indloader(train_data, seed = 980 + epoch, outcome = outcome)\n",
    "        \n",
    "        \n",
    "        for ind in ind_loader:\n",
    "            \n",
    "            train_batch = train_data[train_data['participant_id'].isin(ind)]\n",
    "            \n",
    "            x, label = tensor_generator(train_batch)\n",
    "            \n",
    "            x, label = x.to(device), label.to(device)\n",
    "            \n",
    "            model.zero_grad()\n",
    "        \n",
    "            predictions = model(x)\n",
    "            \n",
    "            predictions = predictions.to(device)\n",
    "        \n",
    "            loss = criterion(predictions, label)\n",
    "            \n",
    "            batch_train_losses.append(loss.detach().numpy())\n",
    "        \n",
    "            # backpropagation\n",
    "            loss.backward() \n",
    "            # Updates the weights accordingly\n",
    "            optimizer.step()\n",
    "        \n",
    "        train_loss.append(np.mean(batch_train_losses))\n",
    "        \n",
    "        with torch.no_grad():\n",
    "            \n",
    "            model.eval()\n",
    "            \n",
    "            val_X, val_y = val_X.to(device), val_y.to(device)\n",
    "                \n",
    "            predictions_val = model(val_X)\n",
    "                \n",
    "            predictions_val = predictions_val.to(device)\n",
    "                \n",
    "            loss_val = criterion(predictions_val, val_y)\n",
    "            \n",
    "            val_loss.append(loss_val.detach().numpy())\n",
    "            \n",
    "\n",
    "        current_loss = val_loss[epoch-1]\n",
    "        \n",
    "        \n",
    "        if current_loss >= last_loss:\n",
    "            trigger_times += 1\n",
    "            \n",
    "            if trigger_times >= patience:\n",
    "                print ('Early stopping at {}'.format(epoch))\n",
    "                return model,train_loss,val_loss\n",
    "        else:\n",
    "            tigger_times = 0\n",
    "        \n",
    "        last_loss = current_loss\n",
    "        \n",
    "        if epoch%10 == 0:\n",
    "            print('Epoch: {}/{}.............'.format(epoch, EPOCHS), end = ' ')\n",
    "            print(\"Train Loss: {:.4f}\".format(train_loss[epoch-1]), end = ' ')\n",
    "            print(\"Validation Loss: {:.4f}\".format(val_loss[epoch-1]))\n",
    "            \n",
    "        \n",
    "    return model,train_loss,val_loss\n"
   ]
  },
  {
   "cell_type": "markdown",
   "id": "96d86c63",
   "metadata": {},
   "source": [
    "smaller batch size (2^)\n",
    "epoch (early stopping)\n",
    "residual net"
   ]
  },
  {
   "cell_type": "code",
   "execution_count": 112,
   "id": "5df6a225",
   "metadata": {},
   "outputs": [],
   "source": [
    "def test_metrics(model, val_data, outcome = outcome):\n",
    "    \n",
    "    val_X = tensor_generator(val_data, outcome = outcome)[0]\n",
    "    \n",
    "    val_y = val_data.groupby('participant_id').first()[outcome].values.flatten()\n",
    "    \n",
    "    model.eval()\n",
    "    \n",
    "\n",
    "    out = model(val_X)\n",
    "    predicted_props = out[:,0].detach().numpy()\n",
    "    predicted_labels = 1*(predicted_props >0.5)\n",
    "    \n",
    "    \n",
    "    acc = metrics.accuracy_score(val_y, predicted_labels, normalize=False) / float(val_y.size)\n",
    "    confusion = metrics.confusion_matrix(val_y, predicted_labels)\n",
    "    \n",
    "\n",
    "    TP = confusion[1, 1]\n",
    "    TN = confusion[0, 0]\n",
    "    FP = confusion[0, 1]\n",
    "    FN = confusion[1, 0]\n",
    "    \n",
    "    specificity = TN / (TN + FP)\n",
    "    sensitivity = TP / (TP + FN)\n",
    "    precision = TP/(TP + FP)\n",
    "    \n",
    "    auc = metrics.roc_auc_score(val_y, predicted_props)\n",
    "    \n",
    "    result_tab = pd.DataFrame(data = {'participant_id': list(val_data.groupby('participant_id').first().index),\n",
    "                                     'labels':list(val_y),\n",
    "                                     'predicted_labels':list(predicted_labels),\n",
    "                                     'predicted_probs':list(predicted_props)})\n",
    "    \n",
    "\n",
    "    \n",
    "    return acc,sensitivity,specificity,auc,precision,confusion,result_tab\n"
   ]
  },
  {
   "cell_type": "code",
   "execution_count": 113,
   "id": "b1b5bcaf",
   "metadata": {},
   "outputs": [
    {
     "data": {
      "text/plain": [
       "54"
      ]
     },
     "execution_count": 113,
     "metadata": {},
     "output_type": "execute_result"
    }
   ],
   "source": [
    "import itertools\n",
    "\n",
    "a = [[0.001,0.05], \\\n",
    "    [10,20,30], \\\n",
    "    [10,20,30], \\\n",
    "    [0.05,0.1,0.2]]\n",
    "\n",
    "\n",
    "\n",
    "parameter_space = list(itertools.product(*a))\n",
    "\n",
    "len(parameter_space)\n",
    "\n"
   ]
  },
  {
   "cell_type": "code",
   "execution_count": 114,
   "id": "c32b9d07",
   "metadata": {},
   "outputs": [],
   "source": [
    "def parameter_tuning(train_val_data, parameter_space,cv_time =5,seed = 999,outcome = outcome):\n",
    "    \n",
    "    best_parameter = tuple()\n",
    "    best_auc = 0\n",
    "    best_model = None\n",
    "    \n",
    "    train_val_data_ind = train_val_data.groupby('participant_id').first().copy()\n",
    "    \n",
    "    for param in parameter_space:\n",
    "        \n",
    "        auc_cv = []\n",
    "        \n",
    "        for i in range(cv_time):\n",
    "            \n",
    "            train_id = list(train_val_data_ind.groupby(outcome).sample(frac = 0.75, random_state = seed + i).sort_index(axis = 0).index)\n",
    "            val_id =  list(np.setdiff1d(list(train_val_data_ind.index),train_id))\n",
    "            \n",
    "            train_data = train_val_data[train_val_data['participant_id'].isin(train_id)]\n",
    "            val_data = train_val_data[train_val_data['participant_id'].isin(val_id)]\n",
    "        \n",
    "            model = train_epoch(train_data,val_data,learn_rate = param[0], \\\n",
    "                               hidden_dim1= param[1], hidden_dim2= param[2], \\\n",
    "                               drop_out= param[3], device = device)[0]\n",
    "        \n",
    "            auc = test_metrics(model, val_data, outcome = outcome)[3]\n",
    "            \n",
    "            auc_cv.append(auc)\n",
    "        \n",
    "        auc_ave = np.mean(auc_cv)\n",
    "        \n",
    "        if auc_ave >= best_auc:\n",
    "            best_auc = auc_ave\n",
    "            best_parameter = param\n",
    "            best_model = model\n",
    "            \n",
    "    return best_parameter, best_model,best_auc\n",
    "        \n",
    "    \n",
    "\n",
    "    "
   ]
  },
  {
   "cell_type": "code",
   "execution_count": 116,
   "id": "adc97319",
   "metadata": {},
   "outputs": [
    {
     "name": "stdout",
     "output_type": "stream",
     "text": [
      "Epoch: 10/500............. Train Loss: 0.6887 Validation Loss: 0.6875\n",
      "Epoch: 20/500............. Train Loss: 0.6674 Validation Loss: 0.6656\n",
      "Epoch: 30/500............. Train Loss: 0.6503 Validation Loss: 0.6490\n",
      "Epoch: 40/500............. Train Loss: 0.6441 Validation Loss: 0.6432\n",
      "Epoch: 50/500............. Train Loss: 0.6423 Validation Loss: 0.6414\n",
      "Epoch: 60/500............. Train Loss: 0.6416 Validation Loss: 0.6407\n",
      "Epoch: 70/500............. Train Loss: 0.6412 Validation Loss: 0.6404\n",
      "Epoch: 80/500............. Train Loss: 0.6411 Validation Loss: 0.6402\n",
      "Epoch: 90/500............. Train Loss: 0.6409 Validation Loss: 0.6400\n",
      "Epoch: 100/500............. Train Loss: 0.6409 Validation Loss: 0.6400\n",
      "Epoch: 110/500............. Train Loss: 0.6408 Validation Loss: 0.6399\n",
      "Epoch: 120/500............. Train Loss: 0.6407 Validation Loss: 0.6399\n",
      "Epoch: 130/500............. Train Loss: 0.6406 Validation Loss: 0.6399\n",
      "Epoch: 140/500............. Train Loss: 0.6402 Validation Loss: 0.6401\n",
      "Early stopping at 144\n"
     ]
    },
    {
     "name": "stderr",
     "output_type": "stream",
     "text": [
      "C:\\Users\\sxiao15\\AppData\\Local\\Temp\\ipykernel_5632\\3120863025.py:26: RuntimeWarning: invalid value encountered in longlong_scalars\n",
      "  precision = TP/(TP + FP)\n"
     ]
    },
    {
     "name": "stdout",
     "output_type": "stream",
     "text": [
      "Epoch: 10/500............. Train Loss: 0.6859 Validation Loss: 0.6851\n",
      "Epoch: 20/500............. Train Loss: 0.6693 Validation Loss: 0.6679\n",
      "Epoch: 30/500............. Train Loss: 0.6521 Validation Loss: 0.6508\n",
      "Epoch: 40/500............. Train Loss: 0.6446 Validation Loss: 0.6437\n",
      "Epoch: 50/500............. Train Loss: 0.6424 Validation Loss: 0.6415\n",
      "Epoch: 60/500............. Train Loss: 0.6416 Validation Loss: 0.6407\n",
      "Epoch: 70/500............. Train Loss: 0.6412 Validation Loss: 0.6404\n",
      "Epoch: 80/500............. Train Loss: 0.6410 Validation Loss: 0.6402\n",
      "Epoch: 90/500............. Train Loss: 0.6409 Validation Loss: 0.6401\n",
      "Epoch: 100/500............. Train Loss: 0.6407 Validation Loss: 0.6401\n",
      "Epoch: 110/500............. Train Loss: 0.6401 Validation Loss: 0.6403\n",
      "Early stopping at 119\n"
     ]
    },
    {
     "name": "stderr",
     "output_type": "stream",
     "text": [
      "C:\\Users\\sxiao15\\AppData\\Local\\Temp\\ipykernel_5632\\3120863025.py:26: RuntimeWarning: invalid value encountered in longlong_scalars\n",
      "  precision = TP/(TP + FP)\n"
     ]
    },
    {
     "name": "stdout",
     "output_type": "stream",
     "text": [
      "Epoch: 10/500............. Train Loss: 0.7279 Validation Loss: 0.7266\n",
      "Epoch: 20/500............. Train Loss: 0.6970 Validation Loss: 0.6941\n",
      "Epoch: 30/500............. Train Loss: 0.6632 Validation Loss: 0.6610\n",
      "Epoch: 40/500............. Train Loss: 0.6486 Validation Loss: 0.6475\n",
      "Epoch: 50/500............. Train Loss: 0.6443 Validation Loss: 0.6434\n",
      "Epoch: 60/500............. Train Loss: 0.6428 Validation Loss: 0.6419\n",
      "Epoch: 70/500............. Train Loss: 0.6420 Validation Loss: 0.6412\n",
      "Epoch: 80/500............. Train Loss: 0.6416 Validation Loss: 0.6407\n",
      "Epoch: 90/500............. Train Loss: 0.6414 Validation Loss: 0.6405\n",
      "Epoch: 100/500............. Train Loss: 0.6412 Validation Loss: 0.6403\n",
      "Epoch: 110/500............. Train Loss: 0.6411 Validation Loss: 0.6402\n",
      "Epoch: 120/500............. Train Loss: 0.6410 Validation Loss: 0.6401\n",
      "Epoch: 130/500............. Train Loss: 0.6409 Validation Loss: 0.6400\n",
      "Epoch: 140/500............. Train Loss: 0.6409 Validation Loss: 0.6400\n",
      "Epoch: 150/500............. Train Loss: 0.6408 Validation Loss: 0.6399\n",
      "Epoch: 160/500............. Train Loss: 0.6408 Validation Loss: 0.6399\n",
      "Epoch: 170/500............. Train Loss: 0.6408 Validation Loss: 0.6399\n",
      "Epoch: 180/500............. Train Loss: 0.6408 Validation Loss: 0.6398\n",
      "Epoch: 190/500............. Train Loss: 0.6407 Validation Loss: 0.6398\n",
      "Epoch: 200/500............. Train Loss: 0.6406 Validation Loss: 0.6398\n",
      "Epoch: 210/500............. Train Loss: 0.6403 Validation Loss: 0.6398\n",
      "Epoch: 220/500............. Train Loss: 0.6366 Validation Loss: 0.6408\n",
      "Epoch: 230/500............. Train Loss: 0.6297 Validation Loss: 0.6355\n",
      "Epoch: 240/500............. Train Loss: 0.6195 Validation Loss: 0.6274\n",
      "Epoch: 250/500............. Train Loss: 0.6077 Validation Loss: 0.6189\n",
      "Epoch: 260/500............. Train Loss: 0.6003 Validation Loss: 0.6138\n",
      "Epoch: 270/500............. Train Loss: 0.5948 Validation Loss: 0.6078\n",
      "Epoch: 280/500............. Train Loss: 0.5916 Validation Loss: 0.6042\n",
      "Epoch: 290/500............. Train Loss: 0.5896 Validation Loss: 0.6021\n",
      "Epoch: 300/500............. Train Loss: 0.5887 Validation Loss: 0.6016\n",
      "Epoch: 310/500............. Train Loss: 0.5868 Validation Loss: 0.5991\n",
      "Epoch: 320/500............. Train Loss: 0.5854 Validation Loss: 0.5981\n",
      "Early stopping at 322\n",
      "Epoch: 10/500............. Train Loss: 0.6621 Validation Loss: 0.6612\n",
      "Epoch: 20/500............. Train Loss: 0.6506 Validation Loss: 0.6493\n",
      "Epoch: 30/500............. Train Loss: 0.6437 Validation Loss: 0.6427\n",
      "Epoch: 40/500............. Train Loss: 0.6417 Validation Loss: 0.6408\n",
      "Epoch: 50/500............. Train Loss: 0.6411 Validation Loss: 0.6402\n",
      "Epoch: 60/500............. Train Loss: 0.6409 Validation Loss: 0.6400\n",
      "Epoch: 70/500............. Train Loss: 0.6408 Validation Loss: 0.6399\n",
      "Epoch: 80/500............. Train Loss: 0.6407 Validation Loss: 0.6399\n",
      "Epoch: 90/500............. Train Loss: 0.6406 Validation Loss: 0.6399\n",
      "Epoch: 100/500............. Train Loss: 0.6393 Validation Loss: 0.6408\n",
      "Epoch: 110/500............. Train Loss: 0.6338 Validation Loss: 0.6376\n",
      "Epoch: 120/500............. Train Loss: 0.6230 Validation Loss: 0.6278\n",
      "Epoch: 130/500............. Train Loss: 0.6113 Validation Loss: 0.6194\n",
      "Early stopping at 138\n",
      "Epoch: 10/500............. Train Loss: 0.7071 Validation Loss: 0.7058\n",
      "Epoch: 20/500............. Train Loss: 0.6773 Validation Loss: 0.6753\n",
      "Epoch: 30/500............. Train Loss: 0.6543 Validation Loss: 0.6530\n",
      "Epoch: 40/500............. Train Loss: 0.6459 Validation Loss: 0.6450\n",
      "Epoch: 50/500............. Train Loss: 0.6432 Validation Loss: 0.6425\n",
      "Epoch: 60/500............. Train Loss: 0.6422 Validation Loss: 0.6414\n",
      "Epoch: 70/500............. Train Loss: 0.6417 Validation Loss: 0.6409\n",
      "Epoch: 80/500............. Train Loss: 0.6414 Validation Loss: 0.6406\n",
      "Epoch: 90/500............. Train Loss: 0.6412 Validation Loss: 0.6404\n",
      "Epoch: 100/500............. Train Loss: 0.6410 Validation Loss: 0.6402\n",
      "Epoch: 110/500............. Train Loss: 0.6409 Validation Loss: 0.6401\n",
      "Epoch: 120/500............. Train Loss: 0.6409 Validation Loss: 0.6401\n",
      "Epoch: 130/500............. Train Loss: 0.6407 Validation Loss: 0.6401\n",
      "Epoch: 140/500............. Train Loss: 0.6404 Validation Loss: 0.6401\n",
      "Early stopping at 150\n"
     ]
    },
    {
     "name": "stderr",
     "output_type": "stream",
     "text": [
      "C:\\Users\\sxiao15\\AppData\\Local\\Temp\\ipykernel_5632\\3120863025.py:26: RuntimeWarning: invalid value encountered in longlong_scalars\n",
      "  precision = TP/(TP + FP)\n"
     ]
    },
    {
     "name": "stdout",
     "output_type": "stream",
     "text": [
      "Epoch: 10/500............. Train Loss: 0.6684 Validation Loss: 0.6673\n",
      "Epoch: 20/500............. Train Loss: 0.6550 Validation Loss: 0.6535\n",
      "Epoch: 30/500............. Train Loss: 0.6457 Validation Loss: 0.6446\n",
      "Epoch: 40/500............. Train Loss: 0.6425 Validation Loss: 0.6416\n",
      "Epoch: 50/500............. Train Loss: 0.6415 Validation Loss: 0.6406\n",
      "Epoch: 60/500............. Train Loss: 0.6412 Validation Loss: 0.6402\n",
      "Epoch: 70/500............. Train Loss: 0.6410 Validation Loss: 0.6401\n",
      "Epoch: 80/500............. Train Loss: 0.6409 Validation Loss: 0.6399\n",
      "Epoch: 90/500............. Train Loss: 0.6408 Validation Loss: 0.6399\n",
      "Epoch: 100/500............. Train Loss: 0.6406 Validation Loss: 0.6399\n",
      "Epoch: 110/500............. Train Loss: 0.6396 Validation Loss: 0.6400\n",
      "Epoch: 120/500............. Train Loss: 0.6338 Validation Loss: 0.6382\n",
      "Epoch: 130/500............. Train Loss: 0.6246 Validation Loss: 0.6299\n",
      "Epoch: 140/500............. Train Loss: 0.6134 Validation Loss: 0.6192\n",
      "Epoch: 150/500............. Train Loss: 0.6038 Validation Loss: 0.6107\n",
      "Epoch: 160/500............. Train Loss: 0.5961 Validation Loss: 0.6033\n",
      "Epoch: 170/500............. Train Loss: 0.5917 Validation Loss: 0.5997\n",
      "Early stopping at 177\n",
      "Epoch: 10/500............. Train Loss: 0.6997 Validation Loss: 0.6987\n",
      "Epoch: 20/500............. Train Loss: 0.6764 Validation Loss: 0.6743\n",
      "Epoch: 30/500............. Train Loss: 0.6540 Validation Loss: 0.6525\n",
      "Epoch: 40/500............. Train Loss: 0.6453 Validation Loss: 0.6443\n",
      "Epoch: 50/500............. Train Loss: 0.6427 Validation Loss: 0.6418\n",
      "Epoch: 60/500............. Train Loss: 0.6418 Validation Loss: 0.6409\n",
      "Epoch: 70/500............. Train Loss: 0.6414 Validation Loss: 0.6405\n",
      "Epoch: 80/500............. Train Loss: 0.6412 Validation Loss: 0.6403\n",
      "Epoch: 90/500............. Train Loss: 0.6410 Validation Loss: 0.6401\n",
      "Epoch: 100/500............. Train Loss: 0.6409 Validation Loss: 0.6400\n",
      "Epoch: 110/500............. Train Loss: 0.6409 Validation Loss: 0.6399\n",
      "Epoch: 120/500............. Train Loss: 0.6408 Validation Loss: 0.6399\n",
      "Epoch: 130/500............. Train Loss: 0.6408 Validation Loss: 0.6399\n",
      "Epoch: 140/500............. Train Loss: 0.6407 Validation Loss: 0.6399\n",
      "Epoch: 150/500............. Train Loss: 0.6405 Validation Loss: 0.6400\n",
      "Early stopping at 157\n",
      "Epoch: 10/500............. Train Loss: 0.7270 Validation Loss: 0.7260\n",
      "Epoch: 20/500............. Train Loss: 0.6965 Validation Loss: 0.6941\n",
      "Epoch: 30/500............. Train Loss: 0.6627 Validation Loss: 0.6609\n",
      "Epoch: 40/500............. Train Loss: 0.6482 Validation Loss: 0.6472\n",
      "Epoch: 50/500............. Train Loss: 0.6440 Validation Loss: 0.6432\n",
      "Epoch: 60/500............. Train Loss: 0.6426 Validation Loss: 0.6418\n",
      "Epoch: 70/500............. Train Loss: 0.6419 Validation Loss: 0.6411\n",
      "Epoch: 80/500............. Train Loss: 0.6415 Validation Loss: 0.6407\n",
      "Epoch: 90/500............. Train Loss: 0.6413 Validation Loss: 0.6405\n",
      "Epoch: 100/500............. Train Loss: 0.6411 Validation Loss: 0.6403\n",
      "Epoch: 110/500............. Train Loss: 0.6410 Validation Loss: 0.6402\n",
      "Epoch: 120/500............. Train Loss: 0.6409 Validation Loss: 0.6401\n",
      "Epoch: 130/500............. Train Loss: 0.6409 Validation Loss: 0.6401\n",
      "Epoch: 140/500............. Train Loss: 0.6408 Validation Loss: 0.6400\n",
      "Epoch: 150/500............. Train Loss: 0.6406 Validation Loss: 0.6400\n",
      "Epoch: 160/500............. Train Loss: 0.6398 Validation Loss: 0.6403\n",
      "Early stopping at 164\n"
     ]
    },
    {
     "name": "stderr",
     "output_type": "stream",
     "text": [
      "C:\\Users\\sxiao15\\AppData\\Local\\Temp\\ipykernel_5632\\3120863025.py:26: RuntimeWarning: invalid value encountered in longlong_scalars\n",
      "  precision = TP/(TP + FP)\n"
     ]
    },
    {
     "name": "stdout",
     "output_type": "stream",
     "text": [
      "Epoch: 10/500............. Train Loss: 0.7108 Validation Loss: 0.7095\n",
      "Epoch: 20/500............. Train Loss: 0.6820 Validation Loss: 0.6795\n",
      "Epoch: 30/500............. Train Loss: 0.6554 Validation Loss: 0.6537\n",
      "Epoch: 40/500............. Train Loss: 0.6458 Validation Loss: 0.6448\n",
      "Epoch: 50/500............. Train Loss: 0.6430 Validation Loss: 0.6421\n",
      "Epoch: 60/500............. Train Loss: 0.6420 Validation Loss: 0.6411\n",
      "Epoch: 70/500............. Train Loss: 0.6416 Validation Loss: 0.6407\n",
      "Epoch: 80/500............. Train Loss: 0.6413 Validation Loss: 0.6404\n",
      "Epoch: 90/500............. Train Loss: 0.6411 Validation Loss: 0.6402\n",
      "Epoch: 100/500............. Train Loss: 0.6410 Validation Loss: 0.6401\n",
      "Epoch: 110/500............. Train Loss: 0.6409 Validation Loss: 0.6400\n",
      "Epoch: 120/500............. Train Loss: 0.6409 Validation Loss: 0.6399\n",
      "Epoch: 130/500............. Train Loss: 0.6408 Validation Loss: 0.6399\n",
      "Epoch: 140/500............. Train Loss: 0.6408 Validation Loss: 0.6399\n",
      "Epoch: 150/500............. Train Loss: 0.6407 Validation Loss: 0.6399\n",
      "Epoch: 160/500............. Train Loss: 0.6406 Validation Loss: 0.6398\n",
      "Epoch: 170/500............. Train Loss: 0.6398 Validation Loss: 0.6399\n",
      "Epoch: 180/500............. Train Loss: 0.6355 Validation Loss: 0.6422\n",
      "Epoch: 190/500............. Train Loss: 0.6274 Validation Loss: 0.6347\n",
      "Epoch: 200/500............. Train Loss: 0.6170 Validation Loss: 0.6245\n",
      "Epoch: 210/500............. Train Loss: 0.6064 Validation Loss: 0.6153\n",
      "Early stopping at 216\n",
      "Epoch: 10/500............. Train Loss: 0.6856 Validation Loss: 0.6836\n",
      "Epoch: 20/500............. Train Loss: 0.6540 Validation Loss: 0.6520\n",
      "Epoch: 30/500............. Train Loss: 0.6427 Validation Loss: 0.6418\n",
      "Epoch: 40/500............. Train Loss: 0.6412 Validation Loss: 0.6403\n",
      "Epoch: 50/500............. Train Loss: 0.6409 Validation Loss: 0.6400\n",
      "Epoch: 60/500............. Train Loss: 0.6408 Validation Loss: 0.6399\n",
      "Epoch: 70/500............. Train Loss: 0.6407 Validation Loss: 0.6399\n",
      "Epoch: 80/500............. Train Loss: 0.6407 Validation Loss: 0.6398\n",
      "Epoch: 90/500............. Train Loss: 0.6406 Validation Loss: 0.6398\n",
      "Epoch: 100/500............. Train Loss: 0.6404 Validation Loss: 0.6399\n",
      "Early stopping at 107\n"
     ]
    },
    {
     "name": "stderr",
     "output_type": "stream",
     "text": [
      "C:\\Users\\sxiao15\\AppData\\Local\\Temp\\ipykernel_5632\\3120863025.py:26: RuntimeWarning: invalid value encountered in longlong_scalars\n",
      "  precision = TP/(TP + FP)\n"
     ]
    },
    {
     "name": "stdout",
     "output_type": "stream",
     "text": [
      "Epoch: 10/500............. Train Loss: 0.6687 Validation Loss: 0.6673\n",
      "Epoch: 20/500............. Train Loss: 0.6471 Validation Loss: 0.6462\n",
      "Epoch: 30/500............. Train Loss: 0.6416 Validation Loss: 0.6410\n",
      "Epoch: 40/500............. Train Loss: 0.6408 Validation Loss: 0.6402\n",
      "Epoch: 50/500............. Train Loss: 0.6407 Validation Loss: 0.6401\n",
      "Epoch: 60/500............. Train Loss: 0.6405 Validation Loss: 0.6401\n",
      "Epoch: 70/500............. Train Loss: 0.6402 Validation Loss: 0.6403\n",
      "Early stopping at 74\n"
     ]
    },
    {
     "name": "stderr",
     "output_type": "stream",
     "text": [
      "C:\\Users\\sxiao15\\AppData\\Local\\Temp\\ipykernel_5632\\3120863025.py:26: RuntimeWarning: invalid value encountered in longlong_scalars\n",
      "  precision = TP/(TP + FP)\n"
     ]
    },
    {
     "name": "stdout",
     "output_type": "stream",
     "text": [
      "Epoch: 10/500............. Train Loss: 0.7039 Validation Loss: 0.7011\n",
      "Epoch: 20/500............. Train Loss: 0.6600 Validation Loss: 0.6573\n",
      "Epoch: 30/500............. Train Loss: 0.6437 Validation Loss: 0.6426\n",
      "Epoch: 40/500............. Train Loss: 0.6415 Validation Loss: 0.6406\n",
      "Epoch: 50/500............. Train Loss: 0.6410 Validation Loss: 0.6402\n",
      "Epoch: 60/500............. Train Loss: 0.6409 Validation Loss: 0.6400\n",
      "Epoch: 70/500............. Train Loss: 0.6408 Validation Loss: 0.6399\n",
      "Epoch: 80/500............. Train Loss: 0.6407 Validation Loss: 0.6399\n",
      "Epoch: 90/500............. Train Loss: 0.6407 Validation Loss: 0.6398\n",
      "Epoch: 100/500............. Train Loss: 0.6406 Validation Loss: 0.6398\n",
      "Epoch: 110/500............. Train Loss: 0.6405 Validation Loss: 0.6398\n",
      "Epoch: 120/500............. Train Loss: 0.6403 Validation Loss: 0.6398\n",
      "Early stopping at 126\n"
     ]
    },
    {
     "name": "stderr",
     "output_type": "stream",
     "text": [
      "C:\\Users\\sxiao15\\AppData\\Local\\Temp\\ipykernel_5632\\3120863025.py:26: RuntimeWarning: invalid value encountered in longlong_scalars\n",
      "  precision = TP/(TP + FP)\n"
     ]
    },
    {
     "name": "stdout",
     "output_type": "stream",
     "text": [
      "Epoch: 10/500............. Train Loss: 0.6719 Validation Loss: 0.6702\n",
      "Epoch: 20/500............. Train Loss: 0.6494 Validation Loss: 0.6479\n",
      "Epoch: 30/500............. Train Loss: 0.6420 Validation Loss: 0.6411\n",
      "Epoch: 40/500............. Train Loss: 0.6410 Validation Loss: 0.6401\n",
      "Epoch: 50/500............. Train Loss: 0.6408 Validation Loss: 0.6399\n",
      "Epoch: 60/500............. Train Loss: 0.6407 Validation Loss: 0.6398\n",
      "Epoch: 70/500............. Train Loss: 0.6406 Validation Loss: 0.6398\n",
      "Epoch: 80/500............. Train Loss: 0.6405 Validation Loss: 0.6398\n",
      "Epoch: 90/500............. Train Loss: 0.6399 Validation Loss: 0.6398\n",
      "Epoch: 100/500............. Train Loss: 0.6364 Validation Loss: 0.6399\n",
      "Epoch: 110/500............. Train Loss: 0.6280 Validation Loss: 0.6316\n",
      "Epoch: 120/500............. Train Loss: 0.6151 Validation Loss: 0.6214\n",
      "Epoch: 130/500............. Train Loss: 0.6042 Validation Loss: 0.6131\n",
      "Epoch: 140/500............. Train Loss: 0.5963 Validation Loss: 0.6041\n",
      "Epoch: 150/500............. Train Loss: 0.5910 Validation Loss: 0.5991\n",
      "Epoch: 160/500............. Train Loss: 0.5875 Validation Loss: 0.5969\n",
      "Epoch: 170/500............. Train Loss: 0.5848 Validation Loss: 0.5946\n",
      "Early stopping at 171\n",
      "Epoch: 10/500............. Train Loss: 0.6744 Validation Loss: 0.6730\n",
      "Epoch: 20/500............. Train Loss: 0.6494 Validation Loss: 0.6484\n",
      "Epoch: 30/500............. Train Loss: 0.6419 Validation Loss: 0.6413\n",
      "Epoch: 40/500............. Train Loss: 0.6409 Validation Loss: 0.6403\n",
      "Epoch: 50/500............. Train Loss: 0.6407 Validation Loss: 0.6402\n",
      "Epoch: 60/500............. Train Loss: 0.6405 Validation Loss: 0.6402\n",
      "Epoch: 70/500............. Train Loss: 0.6401 Validation Loss: 0.6404\n",
      "Early stopping at 75\n"
     ]
    },
    {
     "name": "stderr",
     "output_type": "stream",
     "text": [
      "C:\\Users\\sxiao15\\AppData\\Local\\Temp\\ipykernel_5632\\3120863025.py:26: RuntimeWarning: invalid value encountered in longlong_scalars\n",
      "  precision = TP/(TP + FP)\n"
     ]
    },
    {
     "name": "stdout",
     "output_type": "stream",
     "text": [
      "Epoch: 10/500............. Train Loss: 0.6814 Validation Loss: 0.6793\n",
      "Epoch: 20/500............. Train Loss: 0.6534 Validation Loss: 0.6515\n",
      "Epoch: 30/500............. Train Loss: 0.6431 Validation Loss: 0.6421\n",
      "Epoch: 40/500............. Train Loss: 0.6414 Validation Loss: 0.6405\n",
      "Epoch: 50/500............. Train Loss: 0.6410 Validation Loss: 0.6401\n",
      "Epoch: 60/500............. Train Loss: 0.6408 Validation Loss: 0.6399\n",
      "Epoch: 70/500............. Train Loss: 0.6408 Validation Loss: 0.6399\n",
      "Epoch: 80/500............. Train Loss: 0.6407 Validation Loss: 0.6398\n",
      "Epoch: 90/500............. Train Loss: 0.6406 Validation Loss: 0.6398\n",
      "Epoch: 100/500............. Train Loss: 0.6404 Validation Loss: 0.6398\n",
      "Epoch: 110/500............. Train Loss: 0.6396 Validation Loss: 0.6399\n",
      "Early stopping at 112\n"
     ]
    },
    {
     "name": "stderr",
     "output_type": "stream",
     "text": [
      "C:\\Users\\sxiao15\\AppData\\Local\\Temp\\ipykernel_5632\\3120863025.py:26: RuntimeWarning: invalid value encountered in longlong_scalars\n",
      "  precision = TP/(TP + FP)\n"
     ]
    },
    {
     "name": "stdout",
     "output_type": "stream",
     "text": [
      "Epoch: 10/500............. Train Loss: 0.6889 Validation Loss: 0.6867\n",
      "Epoch: 20/500............. Train Loss: 0.6550 Validation Loss: 0.6529\n",
      "Epoch: 30/500............. Train Loss: 0.6428 Validation Loss: 0.6418\n",
      "Epoch: 40/500............. Train Loss: 0.6412 Validation Loss: 0.6403\n",
      "Epoch: 50/500............. Train Loss: 0.6409 Validation Loss: 0.6400\n",
      "Epoch: 60/500............. Train Loss: 0.6408 Validation Loss: 0.6399\n",
      "Epoch: 70/500............. Train Loss: 0.6407 Validation Loss: 0.6398\n",
      "Epoch: 80/500............. Train Loss: 0.6407 Validation Loss: 0.6398\n",
      "Epoch: 90/500............. Train Loss: 0.6406 Validation Loss: 0.6398\n",
      "Epoch: 100/500............. Train Loss: 0.6405 Validation Loss: 0.6398\n",
      "Early stopping at 108\n"
     ]
    },
    {
     "name": "stderr",
     "output_type": "stream",
     "text": [
      "C:\\Users\\sxiao15\\AppData\\Local\\Temp\\ipykernel_5632\\3120863025.py:26: RuntimeWarning: invalid value encountered in longlong_scalars\n",
      "  precision = TP/(TP + FP)\n"
     ]
    },
    {
     "name": "stdout",
     "output_type": "stream",
     "text": [
      "Epoch: 10/500............. Train Loss: 0.6936 Validation Loss: 0.6914\n",
      "Epoch: 20/500............. Train Loss: 0.6552 Validation Loss: 0.6536\n",
      "Epoch: 30/500............. Train Loss: 0.6430 Validation Loss: 0.6423\n",
      "Epoch: 40/500............. Train Loss: 0.6413 Validation Loss: 0.6407\n",
      "Epoch: 50/500............. Train Loss: 0.6409 Validation Loss: 0.6403\n",
      "Epoch: 60/500............. Train Loss: 0.6408 Validation Loss: 0.6401\n",
      "Epoch: 70/500............. Train Loss: 0.6407 Validation Loss: 0.6401\n",
      "Epoch: 80/500............. Train Loss: 0.6406 Validation Loss: 0.6401\n",
      "Epoch: 90/500............. Train Loss: 0.6404 Validation Loss: 0.6401\n",
      "Early stopping at 96\n"
     ]
    },
    {
     "name": "stderr",
     "output_type": "stream",
     "text": [
      "C:\\Users\\sxiao15\\AppData\\Local\\Temp\\ipykernel_5632\\3120863025.py:26: RuntimeWarning: invalid value encountered in longlong_scalars\n",
      "  precision = TP/(TP + FP)\n"
     ]
    },
    {
     "name": "stdout",
     "output_type": "stream",
     "text": [
      "Epoch: 10/500............. Train Loss: 0.6759 Validation Loss: 0.6739\n",
      "Epoch: 20/500............. Train Loss: 0.6502 Validation Loss: 0.6485\n",
      "Epoch: 30/500............. Train Loss: 0.6421 Validation Loss: 0.6411\n",
      "Epoch: 40/500............. Train Loss: 0.6410 Validation Loss: 0.6401\n",
      "Epoch: 50/500............. Train Loss: 0.6408 Validation Loss: 0.6399\n",
      "Epoch: 60/500............. Train Loss: 0.6407 Validation Loss: 0.6398\n",
      "Epoch: 70/500............. Train Loss: 0.6406 Validation Loss: 0.6398\n",
      "Epoch: 80/500............. Train Loss: 0.6405 Validation Loss: 0.6398\n",
      "Epoch: 90/500............. Train Loss: 0.6401 Validation Loss: 0.6398\n",
      "Early stopping at 97\n"
     ]
    },
    {
     "name": "stderr",
     "output_type": "stream",
     "text": [
      "C:\\Users\\sxiao15\\AppData\\Local\\Temp\\ipykernel_5632\\3120863025.py:26: RuntimeWarning: invalid value encountered in longlong_scalars\n",
      "  precision = TP/(TP + FP)\n"
     ]
    },
    {
     "name": "stdout",
     "output_type": "stream",
     "text": [
      "Epoch: 10/500............. Train Loss: 0.6686 Validation Loss: 0.6663\n",
      "Epoch: 20/500............. Train Loss: 0.6445 Validation Loss: 0.6433\n",
      "Epoch: 30/500............. Train Loss: 0.6410 Validation Loss: 0.6401\n",
      "Epoch: 40/500............. Train Loss: 0.6407 Validation Loss: 0.6398\n",
      "Epoch: 50/500............. Train Loss: 0.6407 Validation Loss: 0.6398\n",
      "Epoch: 60/500............. Train Loss: 0.6406 Validation Loss: 0.6398\n",
      "Epoch: 70/500............. Train Loss: 0.6405 Validation Loss: 0.6398\n",
      "Early stopping at 79\n"
     ]
    },
    {
     "name": "stderr",
     "output_type": "stream",
     "text": [
      "C:\\Users\\sxiao15\\AppData\\Local\\Temp\\ipykernel_5632\\3120863025.py:26: RuntimeWarning: invalid value encountered in longlong_scalars\n",
      "  precision = TP/(TP + FP)\n"
     ]
    },
    {
     "name": "stdout",
     "output_type": "stream",
     "text": [
      "Epoch: 10/500............. Train Loss: 0.6687 Validation Loss: 0.6667\n",
      "Epoch: 20/500............. Train Loss: 0.6439 Validation Loss: 0.6433\n",
      "Epoch: 30/500............. Train Loss: 0.6409 Validation Loss: 0.6403\n",
      "Epoch: 40/500............. Train Loss: 0.6406 Validation Loss: 0.6401\n",
      "Epoch: 50/500............. Train Loss: 0.6405 Validation Loss: 0.6401\n",
      "Epoch: 60/500............. Train Loss: 0.6404 Validation Loss: 0.6402\n",
      "Early stopping at 65\n"
     ]
    },
    {
     "name": "stderr",
     "output_type": "stream",
     "text": [
      "C:\\Users\\sxiao15\\AppData\\Local\\Temp\\ipykernel_5632\\3120863025.py:26: RuntimeWarning: invalid value encountered in longlong_scalars\n",
      "  precision = TP/(TP + FP)\n"
     ]
    },
    {
     "name": "stdout",
     "output_type": "stream",
     "text": [
      "Epoch: 10/500............. Train Loss: 0.6674 Validation Loss: 0.6652\n",
      "Epoch: 20/500............. Train Loss: 0.6445 Validation Loss: 0.6433\n",
      "Epoch: 30/500............. Train Loss: 0.6409 Validation Loss: 0.6401\n",
      "Epoch: 40/500............. Train Loss: 0.6407 Validation Loss: 0.6398\n",
      "Epoch: 50/500............. Train Loss: 0.6406 Validation Loss: 0.6398\n",
      "Epoch: 60/500............. Train Loss: 0.6404 Validation Loss: 0.6398\n",
      "Early stopping at 70\n"
     ]
    },
    {
     "name": "stderr",
     "output_type": "stream",
     "text": [
      "C:\\Users\\sxiao15\\AppData\\Local\\Temp\\ipykernel_5632\\3120863025.py:26: RuntimeWarning: invalid value encountered in longlong_scalars\n",
      "  precision = TP/(TP + FP)\n"
     ]
    },
    {
     "name": "stdout",
     "output_type": "stream",
     "text": [
      "Epoch: 10/500............. Train Loss: 0.6808 Validation Loss: 0.6780\n",
      "Epoch: 20/500............. Train Loss: 0.6465 Validation Loss: 0.6451\n",
      "Epoch: 30/500............. Train Loss: 0.6412 Validation Loss: 0.6403\n",
      "Epoch: 40/500............. Train Loss: 0.6408 Validation Loss: 0.6399\n",
      "Epoch: 50/500............. Train Loss: 0.6407 Validation Loss: 0.6398\n",
      "Epoch: 60/500............. Train Loss: 0.6406 Validation Loss: 0.6398\n",
      "Epoch: 70/500............. Train Loss: 0.6406 Validation Loss: 0.6398\n",
      "Epoch: 80/500............. Train Loss: 0.6405 Validation Loss: 0.6398\n",
      "Epoch: 90/500............. Train Loss: 0.6402 Validation Loss: 0.6398\n",
      "Epoch: 100/500............. Train Loss: 0.6391 Validation Loss: 0.6398\n",
      "Early stopping at 104\n"
     ]
    },
    {
     "name": "stderr",
     "output_type": "stream",
     "text": [
      "C:\\Users\\sxiao15\\AppData\\Local\\Temp\\ipykernel_5632\\3120863025.py:26: RuntimeWarning: invalid value encountered in longlong_scalars\n",
      "  precision = TP/(TP + FP)\n"
     ]
    },
    {
     "name": "stdout",
     "output_type": "stream",
     "text": [
      "Epoch: 10/500............. Train Loss: 0.6653 Validation Loss: 0.6636\n",
      "Epoch: 20/500............. Train Loss: 0.6439 Validation Loss: 0.6432\n",
      "Epoch: 30/500............. Train Loss: 0.6409 Validation Loss: 0.6404\n",
      "Epoch: 40/500............. Train Loss: 0.6406 Validation Loss: 0.6401\n",
      "Epoch: 50/500............. Train Loss: 0.6405 Validation Loss: 0.6401\n",
      "Epoch: 60/500............. Train Loss: 0.6402 Validation Loss: 0.6403\n",
      "Early stopping at 64\n"
     ]
    },
    {
     "name": "stderr",
     "output_type": "stream",
     "text": [
      "C:\\Users\\sxiao15\\AppData\\Local\\Temp\\ipykernel_5632\\3120863025.py:26: RuntimeWarning: invalid value encountered in longlong_scalars\n",
      "  precision = TP/(TP + FP)\n"
     ]
    },
    {
     "name": "stdout",
     "output_type": "stream",
     "text": [
      "Epoch: 10/500............. Train Loss: 0.6695 Validation Loss: 0.6670\n",
      "Epoch: 20/500............. Train Loss: 0.6449 Validation Loss: 0.6435\n",
      "Epoch: 30/500............. Train Loss: 0.6410 Validation Loss: 0.6401\n",
      "Epoch: 40/500............. Train Loss: 0.6407 Validation Loss: 0.6398\n",
      "Epoch: 50/500............. Train Loss: 0.6406 Validation Loss: 0.6398\n",
      "Epoch: 60/500............. Train Loss: 0.6405 Validation Loss: 0.6398\n",
      "Epoch: 70/500............. Train Loss: 0.6402 Validation Loss: 0.6397\n",
      "Epoch: 80/500............. Train Loss: 0.6390 Validation Loss: 0.6396\n",
      "Epoch: 90/500............. Train Loss: 0.6352 Validation Loss: 0.6400\n",
      "Epoch: 100/500............. Train Loss: 0.6255 Validation Loss: 0.6304\n",
      "Epoch: 110/500............. Train Loss: 0.6134 Validation Loss: 0.6199\n",
      "Epoch: 120/500............. Train Loss: 0.6016 Validation Loss: 0.6060\n",
      "Epoch: 130/500............. Train Loss: 0.5933 Validation Loss: 0.6016\n",
      "Epoch: 140/500............. Train Loss: 0.5889 Validation Loss: 0.5979\n",
      "Early stopping at 146\n",
      "Epoch: 10/500............. Train Loss: 0.6611 Validation Loss: 0.6594\n",
      "Epoch: 20/500............. Train Loss: 0.6438 Validation Loss: 0.6428\n",
      "Epoch: 30/500............. Train Loss: 0.6409 Validation Loss: 0.6401\n",
      "Epoch: 40/500............. Train Loss: 0.6407 Validation Loss: 0.6398\n",
      "Epoch: 50/500............. Train Loss: 0.6406 Validation Loss: 0.6398\n",
      "Epoch: 60/500............. Train Loss: 0.6405 Validation Loss: 0.6398\n",
      "Epoch: 70/500............. Train Loss: 0.6403 Validation Loss: 0.6398\n",
      "Epoch: 80/500............. Train Loss: 0.6387 Validation Loss: 0.6397\n",
      "Epoch: 90/500............. Train Loss: 0.6318 Validation Loss: 0.6353\n",
      "Epoch: 100/500............. Train Loss: 0.6168 Validation Loss: 0.6223\n",
      "Epoch: 110/500............. Train Loss: 0.6036 Validation Loss: 0.6148\n",
      "Epoch: 120/500............. Train Loss: 0.5949 Validation Loss: 0.6030\n",
      "Epoch: 130/500............. Train Loss: 0.5903 Validation Loss: 0.5988\n",
      "Early stopping at 137\n",
      "Epoch: 10/500............. Train Loss: 0.6675 Validation Loss: 0.6657\n",
      "Epoch: 20/500............. Train Loss: 0.6448 Validation Loss: 0.6440\n",
      "Epoch: 30/500............. Train Loss: 0.6410 Validation Loss: 0.6404\n",
      "Epoch: 40/500............. Train Loss: 0.6407 Validation Loss: 0.6401\n",
      "Epoch: 50/500............. Train Loss: 0.6406 Validation Loss: 0.6400\n",
      "Epoch: 60/500............. Train Loss: 0.6404 Validation Loss: 0.6402\n",
      "Early stopping at 66\n"
     ]
    },
    {
     "name": "stderr",
     "output_type": "stream",
     "text": [
      "C:\\Users\\sxiao15\\AppData\\Local\\Temp\\ipykernel_5632\\3120863025.py:26: RuntimeWarning: invalid value encountered in longlong_scalars\n",
      "  precision = TP/(TP + FP)\n"
     ]
    },
    {
     "name": "stdout",
     "output_type": "stream",
     "text": [
      "Epoch: 10/500............. Train Loss: 0.6639 Validation Loss: 0.6615\n",
      "Epoch: 20/500............. Train Loss: 0.6436 Validation Loss: 0.6424\n",
      "Epoch: 30/500............. Train Loss: 0.6409 Validation Loss: 0.6400\n",
      "Epoch: 40/500............. Train Loss: 0.6407 Validation Loss: 0.6398\n",
      "Epoch: 50/500............. Train Loss: 0.6406 Validation Loss: 0.6398\n",
      "Epoch: 60/500............. Train Loss: 0.6405 Validation Loss: 0.6398\n",
      "Epoch: 70/500............. Train Loss: 0.6399 Validation Loss: 0.6399\n",
      "Early stopping at 71\n"
     ]
    },
    {
     "name": "stderr",
     "output_type": "stream",
     "text": [
      "C:\\Users\\sxiao15\\AppData\\Local\\Temp\\ipykernel_5632\\3120863025.py:26: RuntimeWarning: invalid value encountered in longlong_scalars\n",
      "  precision = TP/(TP + FP)\n"
     ]
    },
    {
     "name": "stdout",
     "output_type": "stream",
     "text": [
      "Epoch: 10/500............. Train Loss: 0.6626 Validation Loss: 0.6612\n",
      "Epoch: 20/500............. Train Loss: 0.6471 Validation Loss: 0.6459\n",
      "Epoch: 30/500............. Train Loss: 0.6424 Validation Loss: 0.6415\n",
      "Epoch: 40/500............. Train Loss: 0.6414 Validation Loss: 0.6405\n",
      "Epoch: 50/500............. Train Loss: 0.6411 Validation Loss: 0.6402\n",
      "Epoch: 60/500............. Train Loss: 0.6409 Validation Loss: 0.6400\n",
      "Epoch: 70/500............. Train Loss: 0.6408 Validation Loss: 0.6399\n",
      "Epoch: 80/500............. Train Loss: 0.6408 Validation Loss: 0.6399\n",
      "Epoch: 90/500............. Train Loss: 0.6407 Validation Loss: 0.6398\n",
      "Epoch: 100/500............. Train Loss: 0.6406 Validation Loss: 0.6398\n",
      "Epoch: 110/500............. Train Loss: 0.6402 Validation Loss: 0.6399\n",
      "Early stopping at 117\n",
      "Epoch: 10/500............. Train Loss: 0.6702 Validation Loss: 0.6693\n",
      "Epoch: 20/500............. Train Loss: 0.6505 Validation Loss: 0.6496\n",
      "Epoch: 30/500............. Train Loss: 0.6433 Validation Loss: 0.6426\n",
      "Epoch: 40/500............. Train Loss: 0.6417 Validation Loss: 0.6410\n",
      "Epoch: 50/500............. Train Loss: 0.6412 Validation Loss: 0.6405\n",
      "Epoch: 60/500............. Train Loss: 0.6410 Validation Loss: 0.6402\n",
      "Epoch: 70/500............. Train Loss: 0.6409 Validation Loss: 0.6401\n",
      "Epoch: 80/500............. Train Loss: 0.6407 Validation Loss: 0.6401\n",
      "Epoch: 90/500............. Train Loss: 0.6406 Validation Loss: 0.6401\n",
      "Epoch: 100/500............. Train Loss: 0.6394 Validation Loss: 0.6407\n",
      "Early stopping at 102\n"
     ]
    },
    {
     "name": "stderr",
     "output_type": "stream",
     "text": [
      "C:\\Users\\sxiao15\\AppData\\Local\\Temp\\ipykernel_5632\\3120863025.py:26: RuntimeWarning: invalid value encountered in longlong_scalars\n",
      "  precision = TP/(TP + FP)\n"
     ]
    },
    {
     "name": "stdout",
     "output_type": "stream",
     "text": [
      "Epoch: 10/500............. Train Loss: 0.6959 Validation Loss: 0.6941\n",
      "Epoch: 20/500............. Train Loss: 0.6642 Validation Loss: 0.6618\n",
      "Epoch: 30/500............. Train Loss: 0.6475 Validation Loss: 0.6463\n",
      "Epoch: 40/500............. Train Loss: 0.6434 Validation Loss: 0.6424\n",
      "Epoch: 50/500............. Train Loss: 0.6421 Validation Loss: 0.6412\n",
      "Epoch: 60/500............. Train Loss: 0.6416 Validation Loss: 0.6407\n",
      "Epoch: 70/500............. Train Loss: 0.6413 Validation Loss: 0.6404\n",
      "Epoch: 80/500............. Train Loss: 0.6411 Validation Loss: 0.6402\n",
      "Epoch: 90/500............. Train Loss: 0.6410 Validation Loss: 0.6401\n",
      "Epoch: 100/500............. Train Loss: 0.6409 Validation Loss: 0.6400\n",
      "Epoch: 110/500............. Train Loss: 0.6409 Validation Loss: 0.6399\n",
      "Epoch: 120/500............. Train Loss: 0.6408 Validation Loss: 0.6399\n",
      "Epoch: 130/500............. Train Loss: 0.6408 Validation Loss: 0.6399\n",
      "Epoch: 140/500............. Train Loss: 0.6408 Validation Loss: 0.6398\n",
      "Epoch: 150/500............. Train Loss: 0.6407 Validation Loss: 0.6398\n",
      "Epoch: 160/500............. Train Loss: 0.6407 Validation Loss: 0.6398\n",
      "Epoch: 170/500............. Train Loss: 0.6406 Validation Loss: 0.6398\n",
      "Epoch: 180/500............. Train Loss: 0.6402 Validation Loss: 0.6398\n",
      "Epoch: 190/500............. Train Loss: 0.6357 Validation Loss: 0.6425\n",
      "Epoch: 200/500............. Train Loss: 0.6259 Validation Loss: 0.6340\n",
      "Epoch: 210/500............. Train Loss: 0.6100 Validation Loss: 0.6213\n",
      "Epoch: 220/500............. Train Loss: 0.5985 Validation Loss: 0.6097\n",
      "Epoch: 230/500............. Train Loss: 0.5923 Validation Loss: 0.6032\n",
      "Early stopping at 233\n",
      "Epoch: 10/500............. Train Loss: 0.6802 Validation Loss: 0.6788\n",
      "Epoch: 20/500............. Train Loss: 0.6569 Validation Loss: 0.6551\n",
      "Epoch: 30/500............. Train Loss: 0.6453 Validation Loss: 0.6442\n",
      "Epoch: 40/500............. Train Loss: 0.6424 Validation Loss: 0.6415\n",
      "Epoch: 50/500............. Train Loss: 0.6416 Validation Loss: 0.6407\n",
      "Epoch: 60/500............. Train Loss: 0.6412 Validation Loss: 0.6403\n",
      "Epoch: 70/500............. Train Loss: 0.6410 Validation Loss: 0.6401\n",
      "Epoch: 80/500............. Train Loss: 0.6409 Validation Loss: 0.6400\n",
      "Epoch: 90/500............. Train Loss: 0.6409 Validation Loss: 0.6399\n",
      "Epoch: 100/500............. Train Loss: 0.6408 Validation Loss: 0.6399\n",
      "Epoch: 110/500............. Train Loss: 0.6408 Validation Loss: 0.6399\n",
      "Epoch: 120/500............. Train Loss: 0.6407 Validation Loss: 0.6398\n",
      "Epoch: 130/500............. Train Loss: 0.6407 Validation Loss: 0.6398\n",
      "Epoch: 140/500............. Train Loss: 0.6405 Validation Loss: 0.6399\n",
      "Early stopping at 147\n"
     ]
    },
    {
     "name": "stderr",
     "output_type": "stream",
     "text": [
      "C:\\Users\\sxiao15\\AppData\\Local\\Temp\\ipykernel_5632\\3120863025.py:26: RuntimeWarning: invalid value encountered in longlong_scalars\n",
      "  precision = TP/(TP + FP)\n"
     ]
    },
    {
     "name": "stdout",
     "output_type": "stream",
     "text": [
      "Epoch: 10/500............. Train Loss: 0.6748 Validation Loss: 0.6736\n",
      "Epoch: 20/500............. Train Loss: 0.6532 Validation Loss: 0.6519\n",
      "Epoch: 30/500............. Train Loss: 0.6440 Validation Loss: 0.6432\n",
      "Epoch: 40/500............. Train Loss: 0.6419 Validation Loss: 0.6412\n",
      "Epoch: 50/500............. Train Loss: 0.6413 Validation Loss: 0.6405\n",
      "Epoch: 60/500............. Train Loss: 0.6411 Validation Loss: 0.6403\n",
      "Epoch: 70/500............. Train Loss: 0.6409 Validation Loss: 0.6401\n",
      "Epoch: 80/500............. Train Loss: 0.6408 Validation Loss: 0.6400\n",
      "Epoch: 90/500............. Train Loss: 0.6407 Validation Loss: 0.6400\n",
      "Epoch: 100/500............. Train Loss: 0.6405 Validation Loss: 0.6401\n",
      "Epoch: 110/500............. Train Loss: 0.6386 Validation Loss: 0.6410\n",
      "Early stopping at 111\n"
     ]
    },
    {
     "name": "stderr",
     "output_type": "stream",
     "text": [
      "C:\\Users\\sxiao15\\AppData\\Local\\Temp\\ipykernel_5632\\3120863025.py:26: RuntimeWarning: invalid value encountered in longlong_scalars\n",
      "  precision = TP/(TP + FP)\n"
     ]
    },
    {
     "name": "stdout",
     "output_type": "stream",
     "text": [
      "Epoch: 10/500............. Train Loss: 0.7319 Validation Loss: 0.7301\n",
      "Epoch: 20/500............. Train Loss: 0.6878 Validation Loss: 0.6842\n",
      "Epoch: 30/500............. Train Loss: 0.6548 Validation Loss: 0.6531\n",
      "Epoch: 40/500............. Train Loss: 0.6458 Validation Loss: 0.6448\n",
      "Epoch: 50/500............. Train Loss: 0.6433 Validation Loss: 0.6424\n",
      "Epoch: 60/500............. Train Loss: 0.6423 Validation Loss: 0.6414\n",
      "Epoch: 70/500............. Train Loss: 0.6418 Validation Loss: 0.6409\n",
      "Epoch: 80/500............. Train Loss: 0.6415 Validation Loss: 0.6406\n",
      "Epoch: 90/500............. Train Loss: 0.6413 Validation Loss: 0.6404\n",
      "Epoch: 100/500............. Train Loss: 0.6411 Validation Loss: 0.6402\n",
      "Epoch: 110/500............. Train Loss: 0.6410 Validation Loss: 0.6401\n",
      "Epoch: 120/500............. Train Loss: 0.6410 Validation Loss: 0.6400\n",
      "Epoch: 130/500............. Train Loss: 0.6409 Validation Loss: 0.6400\n",
      "Epoch: 140/500............. Train Loss: 0.6409 Validation Loss: 0.6399\n",
      "Epoch: 150/500............. Train Loss: 0.6408 Validation Loss: 0.6399\n",
      "Epoch: 160/500............. Train Loss: 0.6408 Validation Loss: 0.6399\n",
      "Epoch: 170/500............. Train Loss: 0.6408 Validation Loss: 0.6398\n",
      "Epoch: 180/500............. Train Loss: 0.6408 Validation Loss: 0.6398\n",
      "Epoch: 190/500............. Train Loss: 0.6407 Validation Loss: 0.6398\n",
      "Epoch: 200/500............. Train Loss: 0.6407 Validation Loss: 0.6398\n",
      "Epoch: 210/500............. Train Loss: 0.6407 Validation Loss: 0.6398\n",
      "Epoch: 220/500............. Train Loss: 0.6406 Validation Loss: 0.6398\n",
      "Epoch: 230/500............. Train Loss: 0.6404 Validation Loss: 0.6398\n",
      "Epoch: 240/500............. Train Loss: 0.6374 Validation Loss: 0.6400\n",
      "Epoch: 250/500............. Train Loss: 0.6304 Validation Loss: 0.6380\n",
      "Epoch: 260/500............. Train Loss: 0.6199 Validation Loss: 0.6299\n",
      "Epoch: 270/500............. Train Loss: 0.6047 Validation Loss: 0.6154\n",
      "Early stopping at 280\n",
      "Epoch: 10/500............. Train Loss: 0.7176 Validation Loss: 0.7159\n",
      "Epoch: 20/500............. Train Loss: 0.6768 Validation Loss: 0.6738\n",
      "Epoch: 30/500............. Train Loss: 0.6511 Validation Loss: 0.6497\n",
      "Epoch: 40/500............. Train Loss: 0.6446 Validation Loss: 0.6437\n",
      "Epoch: 50/500............. Train Loss: 0.6427 Validation Loss: 0.6419\n",
      "Epoch: 60/500............. Train Loss: 0.6420 Validation Loss: 0.6411\n",
      "Epoch: 70/500............. Train Loss: 0.6416 Validation Loss: 0.6407\n",
      "Epoch: 80/500............. Train Loss: 0.6413 Validation Loss: 0.6404\n",
      "Epoch: 90/500............. Train Loss: 0.6412 Validation Loss: 0.6403\n",
      "Epoch: 100/500............. Train Loss: 0.6410 Validation Loss: 0.6401\n",
      "Epoch: 110/500............. Train Loss: 0.6410 Validation Loss: 0.6400\n",
      "Epoch: 120/500............. Train Loss: 0.6409 Validation Loss: 0.6400\n",
      "Epoch: 130/500............. Train Loss: 0.6409 Validation Loss: 0.6399\n",
      "Epoch: 140/500............. Train Loss: 0.6408 Validation Loss: 0.6399\n",
      "Epoch: 150/500............. Train Loss: 0.6408 Validation Loss: 0.6399\n",
      "Epoch: 160/500............. Train Loss: 0.6408 Validation Loss: 0.6399\n",
      "Epoch: 170/500............. Train Loss: 0.6407 Validation Loss: 0.6398\n",
      "Epoch: 180/500............. Train Loss: 0.6407 Validation Loss: 0.6398\n",
      "Epoch: 190/500............. Train Loss: 0.6405 Validation Loss: 0.6399\n",
      "Early stopping at 193\n"
     ]
    },
    {
     "name": "stderr",
     "output_type": "stream",
     "text": [
      "C:\\Users\\sxiao15\\AppData\\Local\\Temp\\ipykernel_5632\\3120863025.py:26: RuntimeWarning: invalid value encountered in longlong_scalars\n",
      "  precision = TP/(TP + FP)\n"
     ]
    },
    {
     "name": "stdout",
     "output_type": "stream",
     "text": [
      "Epoch: 10/500............. Train Loss: 0.6984 Validation Loss: 0.6975\n",
      "Epoch: 20/500............. Train Loss: 0.6688 Validation Loss: 0.6667\n",
      "Epoch: 30/500............. Train Loss: 0.6481 Validation Loss: 0.6470\n",
      "Epoch: 40/500............. Train Loss: 0.6432 Validation Loss: 0.6424\n",
      "Epoch: 50/500............. Train Loss: 0.6419 Validation Loss: 0.6412\n",
      "Epoch: 60/500............. Train Loss: 0.6414 Validation Loss: 0.6406\n",
      "Epoch: 70/500............. Train Loss: 0.6412 Validation Loss: 0.6404\n",
      "Epoch: 80/500............. Train Loss: 0.6410 Validation Loss: 0.6402\n",
      "Epoch: 90/500............. Train Loss: 0.6409 Validation Loss: 0.6401\n",
      "Epoch: 100/500............. Train Loss: 0.6408 Validation Loss: 0.6400\n",
      "Epoch: 110/500............. Train Loss: 0.6408 Validation Loss: 0.6400\n",
      "Epoch: 120/500............. Train Loss: 0.6407 Validation Loss: 0.6400\n",
      "Epoch: 130/500............. Train Loss: 0.6404 Validation Loss: 0.6401\n",
      "Early stopping at 137\n"
     ]
    },
    {
     "name": "stderr",
     "output_type": "stream",
     "text": [
      "C:\\Users\\sxiao15\\AppData\\Local\\Temp\\ipykernel_5632\\3120863025.py:26: RuntimeWarning: invalid value encountered in longlong_scalars\n",
      "  precision = TP/(TP + FP)\n"
     ]
    },
    {
     "name": "stdout",
     "output_type": "stream",
     "text": [
      "Epoch: 10/500............. Train Loss: 0.6707 Validation Loss: 0.6693\n",
      "Epoch: 20/500............. Train Loss: 0.6525 Validation Loss: 0.6510\n",
      "Epoch: 30/500............. Train Loss: 0.6439 Validation Loss: 0.6429\n",
      "Epoch: 40/500............. Train Loss: 0.6419 Validation Loss: 0.6409\n",
      "Epoch: 50/500............. Train Loss: 0.6413 Validation Loss: 0.6404\n",
      "Epoch: 60/500............. Train Loss: 0.6410 Validation Loss: 0.6401\n",
      "Epoch: 70/500............. Train Loss: 0.6409 Validation Loss: 0.6400\n",
      "Epoch: 80/500............. Train Loss: 0.6408 Validation Loss: 0.6399\n",
      "Epoch: 90/500............. Train Loss: 0.6408 Validation Loss: 0.6399\n",
      "Epoch: 100/500............. Train Loss: 0.6407 Validation Loss: 0.6398\n",
      "Epoch: 110/500............. Train Loss: 0.6406 Validation Loss: 0.6398\n",
      "Epoch: 120/500............. Train Loss: 0.6400 Validation Loss: 0.6399\n",
      "Epoch: 130/500............. Train Loss: 0.6343 Validation Loss: 0.6402\n",
      "Epoch: 140/500............. Train Loss: 0.6206 Validation Loss: 0.6280\n",
      "Early stopping at 150\n",
      "Epoch: 10/500............. Train Loss: 0.6673 Validation Loss: 0.6653\n",
      "Epoch: 20/500............. Train Loss: 0.6444 Validation Loss: 0.6433\n",
      "Epoch: 30/500............. Train Loss: 0.6411 Validation Loss: 0.6402\n",
      "Epoch: 40/500............. Train Loss: 0.6408 Validation Loss: 0.6399\n",
      "Epoch: 50/500............. Train Loss: 0.6407 Validation Loss: 0.6398\n",
      "Epoch: 60/500............. Train Loss: 0.6406 Validation Loss: 0.6398\n",
      "Epoch: 70/500............. Train Loss: 0.6406 Validation Loss: 0.6398\n",
      "Epoch: 80/500............. Train Loss: 0.6404 Validation Loss: 0.6398\n",
      "Early stopping at 86\n"
     ]
    },
    {
     "name": "stderr",
     "output_type": "stream",
     "text": [
      "C:\\Users\\sxiao15\\AppData\\Local\\Temp\\ipykernel_5632\\3120863025.py:26: RuntimeWarning: invalid value encountered in longlong_scalars\n",
      "  precision = TP/(TP + FP)\n"
     ]
    },
    {
     "name": "stdout",
     "output_type": "stream",
     "text": [
      "Epoch: 10/500............. Train Loss: 0.6566 Validation Loss: 0.6556\n",
      "Epoch: 20/500............. Train Loss: 0.6421 Validation Loss: 0.6416\n",
      "Epoch: 30/500............. Train Loss: 0.6407 Validation Loss: 0.6402\n",
      "Epoch: 40/500............. Train Loss: 0.6405 Validation Loss: 0.6401\n",
      "Epoch: 50/500............. Train Loss: 0.6403 Validation Loss: 0.6402\n",
      "Early stopping at 58\n"
     ]
    },
    {
     "name": "stderr",
     "output_type": "stream",
     "text": [
      "C:\\Users\\sxiao15\\AppData\\Local\\Temp\\ipykernel_5632\\3120863025.py:26: RuntimeWarning: invalid value encountered in longlong_scalars\n",
      "  precision = TP/(TP + FP)\n"
     ]
    },
    {
     "name": "stdout",
     "output_type": "stream",
     "text": [
      "Epoch: 10/500............. Train Loss: 0.6790 Validation Loss: 0.6767\n",
      "Epoch: 20/500............. Train Loss: 0.6483 Validation Loss: 0.6465\n",
      "Epoch: 30/500............. Train Loss: 0.6415 Validation Loss: 0.6405\n",
      "Epoch: 40/500............. Train Loss: 0.6409 Validation Loss: 0.6399\n",
      "Epoch: 50/500............. Train Loss: 0.6407 Validation Loss: 0.6398\n",
      "Epoch: 60/500............. Train Loss: 0.6407 Validation Loss: 0.6398\n",
      "Epoch: 70/500............. Train Loss: 0.6407 Validation Loss: 0.6398\n",
      "Epoch: 80/500............. Train Loss: 0.6406 Validation Loss: 0.6398\n",
      "Epoch: 90/500............. Train Loss: 0.6404 Validation Loss: 0.6398\n",
      "Early stopping at 97\n"
     ]
    },
    {
     "name": "stderr",
     "output_type": "stream",
     "text": [
      "C:\\Users\\sxiao15\\AppData\\Local\\Temp\\ipykernel_5632\\3120863025.py:26: RuntimeWarning: invalid value encountered in longlong_scalars\n",
      "  precision = TP/(TP + FP)\n"
     ]
    },
    {
     "name": "stdout",
     "output_type": "stream",
     "text": [
      "Epoch: 10/500............. Train Loss: 0.6895 Validation Loss: 0.6866\n",
      "Epoch: 20/500............. Train Loss: 0.6489 Validation Loss: 0.6472\n",
      "Epoch: 30/500............. Train Loss: 0.6416 Validation Loss: 0.6407\n",
      "Epoch: 40/500............. Train Loss: 0.6409 Validation Loss: 0.6401\n",
      "Epoch: 50/500............. Train Loss: 0.6408 Validation Loss: 0.6399\n",
      "Epoch: 60/500............. Train Loss: 0.6407 Validation Loss: 0.6399\n",
      "Epoch: 70/500............. Train Loss: 0.6407 Validation Loss: 0.6398\n",
      "Epoch: 80/500............. Train Loss: 0.6407 Validation Loss: 0.6398\n",
      "Epoch: 90/500............. Train Loss: 0.6406 Validation Loss: 0.6398\n",
      "Epoch: 100/500............. Train Loss: 0.6405 Validation Loss: 0.6398\n",
      "Early stopping at 109\n"
     ]
    },
    {
     "name": "stderr",
     "output_type": "stream",
     "text": [
      "C:\\Users\\sxiao15\\AppData\\Local\\Temp\\ipykernel_5632\\3120863025.py:26: RuntimeWarning: invalid value encountered in longlong_scalars\n",
      "  precision = TP/(TP + FP)\n"
     ]
    },
    {
     "name": "stdout",
     "output_type": "stream",
     "text": [
      "Epoch: 10/500............. Train Loss: 0.6862 Validation Loss: 0.6843\n",
      "Epoch: 20/500............. Train Loss: 0.6471 Validation Loss: 0.6463\n",
      "Epoch: 30/500............. Train Loss: 0.6413 Validation Loss: 0.6407\n",
      "Epoch: 40/500............. Train Loss: 0.6408 Validation Loss: 0.6402\n",
      "Epoch: 50/500............. Train Loss: 0.6407 Validation Loss: 0.6401\n",
      "Epoch: 60/500............. Train Loss: 0.6406 Validation Loss: 0.6401\n",
      "Epoch: 70/500............. Train Loss: 0.6405 Validation Loss: 0.6401\n",
      "Early stopping at 78\n"
     ]
    },
    {
     "name": "stderr",
     "output_type": "stream",
     "text": [
      "C:\\Users\\sxiao15\\AppData\\Local\\Temp\\ipykernel_5632\\3120863025.py:26: RuntimeWarning: invalid value encountered in longlong_scalars\n",
      "  precision = TP/(TP + FP)\n"
     ]
    },
    {
     "name": "stdout",
     "output_type": "stream",
     "text": [
      "Epoch: 10/500............. Train Loss: 0.6581 Validation Loss: 0.6563\n",
      "Epoch: 20/500............. Train Loss: 0.6425 Validation Loss: 0.6414\n",
      "Epoch: 30/500............. Train Loss: 0.6408 Validation Loss: 0.6399\n",
      "Epoch: 40/500............. Train Loss: 0.6406 Validation Loss: 0.6398\n",
      "Epoch: 50/500............. Train Loss: 0.6406 Validation Loss: 0.6398\n",
      "Epoch: 60/500............. Train Loss: 0.6403 Validation Loss: 0.6398\n",
      "Early stopping at 66\n"
     ]
    },
    {
     "name": "stderr",
     "output_type": "stream",
     "text": [
      "C:\\Users\\sxiao15\\AppData\\Local\\Temp\\ipykernel_5632\\3120863025.py:26: RuntimeWarning: invalid value encountered in longlong_scalars\n",
      "  precision = TP/(TP + FP)\n"
     ]
    },
    {
     "name": "stdout",
     "output_type": "stream",
     "text": [
      "Epoch: 10/500............. Train Loss: 0.6633 Validation Loss: 0.6615\n",
      "Epoch: 20/500............. Train Loss: 0.6436 Validation Loss: 0.6425\n",
      "Epoch: 30/500............. Train Loss: 0.6409 Validation Loss: 0.6400\n",
      "Epoch: 40/500............. Train Loss: 0.6407 Validation Loss: 0.6398\n",
      "Epoch: 50/500............. Train Loss: 0.6407 Validation Loss: 0.6398\n",
      "Epoch: 60/500............. Train Loss: 0.6406 Validation Loss: 0.6398\n",
      "Epoch: 70/500............. Train Loss: 0.6405 Validation Loss: 0.6398\n",
      "Epoch: 80/500............. Train Loss: 0.6400 Validation Loss: 0.6398\n",
      "Early stopping at 84\n"
     ]
    },
    {
     "name": "stderr",
     "output_type": "stream",
     "text": [
      "C:\\Users\\sxiao15\\AppData\\Local\\Temp\\ipykernel_5632\\3120863025.py:26: RuntimeWarning: invalid value encountered in longlong_scalars\n",
      "  precision = TP/(TP + FP)\n"
     ]
    },
    {
     "name": "stdout",
     "output_type": "stream",
     "text": [
      "Epoch: 10/500............. Train Loss: 0.6893 Validation Loss: 0.6869\n",
      "Epoch: 20/500............. Train Loss: 0.6487 Validation Loss: 0.6476\n",
      "Epoch: 30/500............. Train Loss: 0.6415 Validation Loss: 0.6409\n",
      "Epoch: 40/500............. Train Loss: 0.6409 Validation Loss: 0.6402\n",
      "Epoch: 50/500............. Train Loss: 0.6407 Validation Loss: 0.6400\n",
      "Epoch: 60/500............. Train Loss: 0.6407 Validation Loss: 0.6400\n",
      "Epoch: 70/500............. Train Loss: 0.6406 Validation Loss: 0.6400\n",
      "Epoch: 80/500............. Train Loss: 0.6405 Validation Loss: 0.6400\n",
      "Early stopping at 85\n"
     ]
    },
    {
     "name": "stderr",
     "output_type": "stream",
     "text": [
      "C:\\Users\\sxiao15\\AppData\\Local\\Temp\\ipykernel_5632\\3120863025.py:26: RuntimeWarning: invalid value encountered in longlong_scalars\n",
      "  precision = TP/(TP + FP)\n"
     ]
    },
    {
     "name": "stdout",
     "output_type": "stream",
     "text": [
      "Epoch: 10/500............. Train Loss: 0.6655 Validation Loss: 0.6635\n",
      "Epoch: 20/500............. Train Loss: 0.6443 Validation Loss: 0.6431\n",
      "Epoch: 30/500............. Train Loss: 0.6410 Validation Loss: 0.6401\n",
      "Epoch: 40/500............. Train Loss: 0.6407 Validation Loss: 0.6398\n",
      "Epoch: 50/500............. Train Loss: 0.6406 Validation Loss: 0.6398\n",
      "Epoch: 60/500............. Train Loss: 0.6406 Validation Loss: 0.6398\n",
      "Epoch: 70/500............. Train Loss: 0.6403 Validation Loss: 0.6398\n",
      "Early stopping at 77\n"
     ]
    },
    {
     "name": "stderr",
     "output_type": "stream",
     "text": [
      "C:\\Users\\sxiao15\\AppData\\Local\\Temp\\ipykernel_5632\\3120863025.py:26: RuntimeWarning: invalid value encountered in longlong_scalars\n",
      "  precision = TP/(TP + FP)\n"
     ]
    },
    {
     "name": "stdout",
     "output_type": "stream",
     "text": [
      "Epoch: 10/500............. Train Loss: 0.6726 Validation Loss: 0.6696\n",
      "Epoch: 20/500............. Train Loss: 0.6424 Validation Loss: 0.6415\n",
      "Epoch: 30/500............. Train Loss: 0.6407 Validation Loss: 0.6399\n",
      "Epoch: 40/500............. Train Loss: 0.6406 Validation Loss: 0.6398\n",
      "Epoch: 50/500............. Train Loss: 0.6406 Validation Loss: 0.6398\n",
      "Epoch: 60/500............. Train Loss: 0.6405 Validation Loss: 0.6398\n",
      "Epoch: 70/500............. Train Loss: 0.6403 Validation Loss: 0.6398\n",
      "Epoch: 80/500............. Train Loss: 0.6397 Validation Loss: 0.6397\n",
      "Early stopping at 85\n"
     ]
    },
    {
     "name": "stderr",
     "output_type": "stream",
     "text": [
      "C:\\Users\\sxiao15\\AppData\\Local\\Temp\\ipykernel_5632\\3120863025.py:26: RuntimeWarning: invalid value encountered in longlong_scalars\n",
      "  precision = TP/(TP + FP)\n"
     ]
    },
    {
     "name": "stdout",
     "output_type": "stream",
     "text": [
      "Epoch: 10/500............. Train Loss: 0.6669 Validation Loss: 0.6652\n",
      "Epoch: 20/500............. Train Loss: 0.6423 Validation Loss: 0.6419\n",
      "Epoch: 30/500............. Train Loss: 0.6406 Validation Loss: 0.6401\n",
      "Epoch: 40/500............. Train Loss: 0.6405 Validation Loss: 0.6401\n",
      "Epoch: 50/500............. Train Loss: 0.6404 Validation Loss: 0.6401\n",
      "Early stopping at 58\n"
     ]
    },
    {
     "name": "stderr",
     "output_type": "stream",
     "text": [
      "C:\\Users\\sxiao15\\AppData\\Local\\Temp\\ipykernel_5632\\3120863025.py:26: RuntimeWarning: invalid value encountered in longlong_scalars\n",
      "  precision = TP/(TP + FP)\n"
     ]
    },
    {
     "name": "stdout",
     "output_type": "stream",
     "text": [
      "Epoch: 10/500............. Train Loss: 0.6667 Validation Loss: 0.6638\n",
      "Epoch: 20/500............. Train Loss: 0.6420 Validation Loss: 0.6410\n",
      "Epoch: 30/500............. Train Loss: 0.6407 Validation Loss: 0.6398\n",
      "Epoch: 40/500............. Train Loss: 0.6406 Validation Loss: 0.6397\n",
      "Epoch: 50/500............. Train Loss: 0.6406 Validation Loss: 0.6397\n",
      "Epoch: 60/500............. Train Loss: 0.6404 Validation Loss: 0.6398\n",
      "Early stopping at 62\n"
     ]
    },
    {
     "name": "stderr",
     "output_type": "stream",
     "text": [
      "C:\\Users\\sxiao15\\AppData\\Local\\Temp\\ipykernel_5632\\3120863025.py:26: RuntimeWarning: invalid value encountered in longlong_scalars\n",
      "  precision = TP/(TP + FP)\n"
     ]
    },
    {
     "name": "stdout",
     "output_type": "stream",
     "text": [
      "Epoch: 10/500............. Train Loss: 0.6612 Validation Loss: 0.6588\n",
      "Epoch: 20/500............. Train Loss: 0.6416 Validation Loss: 0.6407\n",
      "Epoch: 30/500............. Train Loss: 0.6407 Validation Loss: 0.6398\n",
      "Epoch: 40/500............. Train Loss: 0.6406 Validation Loss: 0.6398\n",
      "Epoch: 50/500............. Train Loss: 0.6406 Validation Loss: 0.6398\n",
      "Epoch: 60/500............. Train Loss: 0.6405 Validation Loss: 0.6398\n",
      "Early stopping at 63\n"
     ]
    },
    {
     "name": "stderr",
     "output_type": "stream",
     "text": [
      "C:\\Users\\sxiao15\\AppData\\Local\\Temp\\ipykernel_5632\\3120863025.py:26: RuntimeWarning: invalid value encountered in longlong_scalars\n",
      "  precision = TP/(TP + FP)\n"
     ]
    },
    {
     "name": "stdout",
     "output_type": "stream",
     "text": [
      "Epoch: 10/500............. Train Loss: 0.6761 Validation Loss: 0.6736\n",
      "Epoch: 20/500............. Train Loss: 0.6424 Validation Loss: 0.6421\n",
      "Epoch: 30/500............. Train Loss: 0.6406 Validation Loss: 0.6402\n",
      "Epoch: 40/500............. Train Loss: 0.6405 Validation Loss: 0.6401\n",
      "Epoch: 50/500............. Train Loss: 0.6404 Validation Loss: 0.6401\n",
      "Early stopping at 59\n"
     ]
    },
    {
     "name": "stderr",
     "output_type": "stream",
     "text": [
      "C:\\Users\\sxiao15\\AppData\\Local\\Temp\\ipykernel_5632\\3120863025.py:26: RuntimeWarning: invalid value encountered in longlong_scalars\n",
      "  precision = TP/(TP + FP)\n"
     ]
    },
    {
     "name": "stdout",
     "output_type": "stream",
     "text": [
      "Epoch: 10/500............. Train Loss: 0.6612 Validation Loss: 0.6586\n",
      "Epoch: 20/500............. Train Loss: 0.6417 Validation Loss: 0.6407\n",
      "Epoch: 30/500............. Train Loss: 0.6407 Validation Loss: 0.6398\n",
      "Epoch: 40/500............. Train Loss: 0.6406 Validation Loss: 0.6397\n",
      "Epoch: 50/500............. Train Loss: 0.6405 Validation Loss: 0.6397\n",
      "Early stopping at 59\n"
     ]
    },
    {
     "name": "stderr",
     "output_type": "stream",
     "text": [
      "C:\\Users\\sxiao15\\AppData\\Local\\Temp\\ipykernel_5632\\3120863025.py:26: RuntimeWarning: invalid value encountered in longlong_scalars\n",
      "  precision = TP/(TP + FP)\n"
     ]
    },
    {
     "name": "stdout",
     "output_type": "stream",
     "text": [
      "Epoch: 10/500............. Train Loss: 0.6588 Validation Loss: 0.6565\n",
      "Epoch: 20/500............. Train Loss: 0.6412 Validation Loss: 0.6404\n",
      "Epoch: 30/500............. Train Loss: 0.6406 Validation Loss: 0.6398\n",
      "Epoch: 40/500............. Train Loss: 0.6406 Validation Loss: 0.6398\n",
      "Epoch: 50/500............. Train Loss: 0.6405 Validation Loss: 0.6398\n",
      "Epoch: 60/500............. Train Loss: 0.6404 Validation Loss: 0.6398\n",
      "Epoch: 70/500............. Train Loss: 0.6398 Validation Loss: 0.6397\n",
      "Epoch: 80/500............. Train Loss: 0.6370 Validation Loss: 0.6398\n",
      "Epoch: 90/500............. Train Loss: 0.6269 Validation Loss: 0.6307\n",
      "Epoch: 100/500............. Train Loss: 0.6075 Validation Loss: 0.6144\n",
      "Epoch: 110/500............. Train Loss: 0.5945 Validation Loss: 0.6036\n",
      "Epoch: 120/500............. Train Loss: 0.5880 Validation Loss: 0.5981\n",
      "Early stopping at 129\n",
      "Epoch: 10/500............. Train Loss: 0.6627 Validation Loss: 0.6609\n",
      "Epoch: 20/500............. Train Loss: 0.6416 Validation Loss: 0.6413\n",
      "Epoch: 30/500............. Train Loss: 0.6406 Validation Loss: 0.6401\n",
      "Epoch: 40/500............. Train Loss: 0.6405 Validation Loss: 0.6401\n",
      "Epoch: 50/500............. Train Loss: 0.6404 Validation Loss: 0.6402\n",
      "Early stopping at 57\n"
     ]
    },
    {
     "name": "stderr",
     "output_type": "stream",
     "text": [
      "C:\\Users\\sxiao15\\AppData\\Local\\Temp\\ipykernel_5632\\3120863025.py:26: RuntimeWarning: invalid value encountered in longlong_scalars\n",
      "  precision = TP/(TP + FP)\n"
     ]
    },
    {
     "name": "stdout",
     "output_type": "stream",
     "text": [
      "Epoch: 10/500............. Train Loss: 0.6612 Validation Loss: 0.6585\n",
      "Epoch: 20/500............. Train Loss: 0.6415 Validation Loss: 0.6406\n",
      "Epoch: 30/500............. Train Loss: 0.6407 Validation Loss: 0.6398\n",
      "Epoch: 40/500............. Train Loss: 0.6406 Validation Loss: 0.6397\n",
      "Epoch: 50/500............. Train Loss: 0.6405 Validation Loss: 0.6398\n",
      "Early stopping at 59\n"
     ]
    },
    {
     "name": "stderr",
     "output_type": "stream",
     "text": [
      "C:\\Users\\sxiao15\\AppData\\Local\\Temp\\ipykernel_5632\\3120863025.py:26: RuntimeWarning: invalid value encountered in longlong_scalars\n",
      "  precision = TP/(TP + FP)\n"
     ]
    },
    {
     "name": "stdout",
     "output_type": "stream",
     "text": [
      "Epoch: 10/500............. Train Loss: 0.6674 Validation Loss: 0.6660\n",
      "Epoch: 20/500............. Train Loss: 0.6495 Validation Loss: 0.6481\n",
      "Epoch: 30/500............. Train Loss: 0.6431 Validation Loss: 0.6421\n",
      "Epoch: 40/500............. Train Loss: 0.6416 Validation Loss: 0.6407\n",
      "Epoch: 50/500............. Train Loss: 0.6412 Validation Loss: 0.6402\n",
      "Epoch: 60/500............. Train Loss: 0.6410 Validation Loss: 0.6400\n",
      "Epoch: 70/500............. Train Loss: 0.6409 Validation Loss: 0.6399\n",
      "Epoch: 80/500............. Train Loss: 0.6408 Validation Loss: 0.6399\n",
      "Epoch: 90/500............. Train Loss: 0.6408 Validation Loss: 0.6398\n",
      "Epoch: 100/500............. Train Loss: 0.6407 Validation Loss: 0.6398\n",
      "Epoch: 110/500............. Train Loss: 0.6406 Validation Loss: 0.6398\n",
      "Epoch: 120/500............. Train Loss: 0.6402 Validation Loss: 0.6400\n",
      "Epoch: 130/500............. Train Loss: 0.6377 Validation Loss: 0.6429\n",
      "Epoch: 140/500............. Train Loss: 0.6296 Validation Loss: 0.6316\n",
      "Epoch: 150/500............. Train Loss: 0.6109 Validation Loss: 0.6171\n",
      "Early stopping at 155\n",
      "Epoch: 10/500............. Train Loss: 0.6575 Validation Loss: 0.6566\n",
      "Epoch: 20/500............. Train Loss: 0.6453 Validation Loss: 0.6445\n",
      "Epoch: 30/500............. Train Loss: 0.6420 Validation Loss: 0.6412\n",
      "Epoch: 40/500............. Train Loss: 0.6412 Validation Loss: 0.6404\n",
      "Epoch: 50/500............. Train Loss: 0.6409 Validation Loss: 0.6401\n",
      "Epoch: 60/500............. Train Loss: 0.6407 Validation Loss: 0.6400\n",
      "Epoch: 70/500............. Train Loss: 0.6405 Validation Loss: 0.6401\n",
      "Epoch: 80/500............. Train Loss: 0.6373 Validation Loss: 0.6433\n",
      "Epoch: 90/500............. Train Loss: 0.6295 Validation Loss: 0.6323\n",
      "Epoch: 100/500............. Train Loss: 0.6117 Validation Loss: 0.6167\n",
      "Epoch: 110/500............. Train Loss: 0.5991 Validation Loss: 0.6018\n",
      "Early stopping at 116\n",
      "Epoch: 10/500............. Train Loss: 0.6720 Validation Loss: 0.6703\n",
      "Epoch: 20/500............. Train Loss: 0.6502 Validation Loss: 0.6487\n",
      "Epoch: 30/500............. Train Loss: 0.6432 Validation Loss: 0.6422\n",
      "Epoch: 40/500............. Train Loss: 0.6417 Validation Loss: 0.6408\n",
      "Epoch: 50/500............. Train Loss: 0.6412 Validation Loss: 0.6403\n",
      "Epoch: 60/500............. Train Loss: 0.6410 Validation Loss: 0.6401\n",
      "Epoch: 70/500............. Train Loss: 0.6409 Validation Loss: 0.6400\n",
      "Epoch: 80/500............. Train Loss: 0.6408 Validation Loss: 0.6399\n",
      "Epoch: 90/500............. Train Loss: 0.6408 Validation Loss: 0.6399\n",
      "Epoch: 100/500............. Train Loss: 0.6408 Validation Loss: 0.6398\n",
      "Epoch: 110/500............. Train Loss: 0.6407 Validation Loss: 0.6398\n",
      "Epoch: 120/500............. Train Loss: 0.6406 Validation Loss: 0.6398\n",
      "Epoch: 130/500............. Train Loss: 0.6401 Validation Loss: 0.6398\n",
      "Epoch: 140/500............. Train Loss: 0.6355 Validation Loss: 0.6419\n",
      "Epoch: 150/500............. Train Loss: 0.6224 Validation Loss: 0.6306\n",
      "Epoch: 160/500............. Train Loss: 0.6051 Validation Loss: 0.6157\n",
      "Early stopping at 169\n",
      "Epoch: 10/500............. Train Loss: 0.7097 Validation Loss: 0.7075\n",
      "Epoch: 20/500............. Train Loss: 0.6682 Validation Loss: 0.6656\n",
      "Epoch: 30/500............. Train Loss: 0.6489 Validation Loss: 0.6477\n",
      "Epoch: 40/500............. Train Loss: 0.6441 Validation Loss: 0.6432\n",
      "Epoch: 50/500............. Train Loss: 0.6426 Validation Loss: 0.6418\n",
      "Epoch: 60/500............. Train Loss: 0.6419 Validation Loss: 0.6411\n",
      "Epoch: 70/500............. Train Loss: 0.6416 Validation Loss: 0.6407\n",
      "Epoch: 80/500............. Train Loss: 0.6413 Validation Loss: 0.6404\n",
      "Epoch: 90/500............. Train Loss: 0.6412 Validation Loss: 0.6403\n",
      "Epoch: 100/500............. Train Loss: 0.6411 Validation Loss: 0.6401\n",
      "Epoch: 110/500............. Train Loss: 0.6410 Validation Loss: 0.6401\n",
      "Epoch: 120/500............. Train Loss: 0.6409 Validation Loss: 0.6400\n",
      "Epoch: 130/500............. Train Loss: 0.6409 Validation Loss: 0.6399\n",
      "Epoch: 140/500............. Train Loss: 0.6408 Validation Loss: 0.6399\n",
      "Epoch: 150/500............. Train Loss: 0.6408 Validation Loss: 0.6399\n",
      "Epoch: 160/500............. Train Loss: 0.6408 Validation Loss: 0.6399\n",
      "Epoch: 170/500............. Train Loss: 0.6408 Validation Loss: 0.6398\n",
      "Epoch: 180/500............. Train Loss: 0.6407 Validation Loss: 0.6398\n",
      "Epoch: 190/500............. Train Loss: 0.6407 Validation Loss: 0.6398\n",
      "Epoch: 200/500............. Train Loss: 0.6403 Validation Loss: 0.6400\n",
      "Early stopping at 201\n"
     ]
    },
    {
     "name": "stderr",
     "output_type": "stream",
     "text": [
      "C:\\Users\\sxiao15\\AppData\\Local\\Temp\\ipykernel_5632\\3120863025.py:26: RuntimeWarning: invalid value encountered in longlong_scalars\n",
      "  precision = TP/(TP + FP)\n"
     ]
    },
    {
     "name": "stdout",
     "output_type": "stream",
     "text": [
      "Epoch: 10/500............. Train Loss: 0.7200 Validation Loss: 0.7184\n",
      "Epoch: 20/500............. Train Loss: 0.6739 Validation Loss: 0.6717\n",
      "Epoch: 30/500............. Train Loss: 0.6513 Validation Loss: 0.6502\n",
      "Epoch: 40/500............. Train Loss: 0.6452 Validation Loss: 0.6444\n",
      "Epoch: 50/500............. Train Loss: 0.6432 Validation Loss: 0.6424\n",
      "Epoch: 60/500............. Train Loss: 0.6423 Validation Loss: 0.6415\n",
      "Epoch: 70/500............. Train Loss: 0.6418 Validation Loss: 0.6410\n",
      "Epoch: 80/500............. Train Loss: 0.6415 Validation Loss: 0.6407\n",
      "Epoch: 90/500............. Train Loss: 0.6413 Validation Loss: 0.6405\n",
      "Epoch: 100/500............. Train Loss: 0.6412 Validation Loss: 0.6403\n",
      "Epoch: 110/500............. Train Loss: 0.6411 Validation Loss: 0.6402\n",
      "Epoch: 120/500............. Train Loss: 0.6410 Validation Loss: 0.6401\n",
      "Epoch: 130/500............. Train Loss: 0.6409 Validation Loss: 0.6401\n",
      "Epoch: 140/500............. Train Loss: 0.6409 Validation Loss: 0.6400\n",
      "Epoch: 150/500............. Train Loss: 0.6408 Validation Loss: 0.6400\n",
      "Epoch: 160/500............. Train Loss: 0.6408 Validation Loss: 0.6399\n",
      "Epoch: 170/500............. Train Loss: 0.6408 Validation Loss: 0.6399\n",
      "Epoch: 180/500............. Train Loss: 0.6407 Validation Loss: 0.6399\n",
      "Epoch: 190/500............. Train Loss: 0.6407 Validation Loss: 0.6399\n",
      "Epoch: 200/500............. Train Loss: 0.6405 Validation Loss: 0.6400\n",
      "Early stopping at 204\n"
     ]
    },
    {
     "name": "stderr",
     "output_type": "stream",
     "text": [
      "C:\\Users\\sxiao15\\AppData\\Local\\Temp\\ipykernel_5632\\3120863025.py:26: RuntimeWarning: invalid value encountered in longlong_scalars\n",
      "  precision = TP/(TP + FP)\n"
     ]
    },
    {
     "name": "stdout",
     "output_type": "stream",
     "text": [
      "Epoch: 10/500............. Train Loss: 0.6746 Validation Loss: 0.6724\n",
      "Epoch: 20/500............. Train Loss: 0.6502 Validation Loss: 0.6486\n",
      "Epoch: 30/500............. Train Loss: 0.6434 Validation Loss: 0.6424\n",
      "Epoch: 40/500............. Train Loss: 0.6419 Validation Loss: 0.6410\n",
      "Epoch: 50/500............. Train Loss: 0.6414 Validation Loss: 0.6404\n",
      "Epoch: 60/500............. Train Loss: 0.6411 Validation Loss: 0.6402\n",
      "Epoch: 70/500............. Train Loss: 0.6410 Validation Loss: 0.6401\n",
      "Epoch: 80/500............. Train Loss: 0.6409 Validation Loss: 0.6400\n",
      "Epoch: 90/500............. Train Loss: 0.6408 Validation Loss: 0.6399\n",
      "Epoch: 100/500............. Train Loss: 0.6408 Validation Loss: 0.6399\n",
      "Epoch: 110/500............. Train Loss: 0.6408 Validation Loss: 0.6398\n",
      "Epoch: 120/500............. Train Loss: 0.6407 Validation Loss: 0.6398\n",
      "Epoch: 130/500............. Train Loss: 0.6406 Validation Loss: 0.6398\n",
      "Epoch: 140/500............. Train Loss: 0.6402 Validation Loss: 0.6398\n",
      "Epoch: 150/500............. Train Loss: 0.6361 Validation Loss: 0.6442\n",
      "Epoch: 160/500............. Train Loss: 0.6267 Validation Loss: 0.6345\n",
      "Epoch: 170/500............. Train Loss: 0.6110 Validation Loss: 0.6219\n",
      "Epoch: 180/500............. Train Loss: 0.5977 Validation Loss: 0.6076\n",
      "Early stopping at 181\n",
      "Epoch: 10/500............. Train Loss: 0.6830 Validation Loss: 0.6809\n",
      "Epoch: 20/500............. Train Loss: 0.6539 Validation Loss: 0.6523\n",
      "Epoch: 30/500............. Train Loss: 0.6446 Validation Loss: 0.6437\n",
      "Epoch: 40/500............. Train Loss: 0.6424 Validation Loss: 0.6416\n",
      "Epoch: 50/500............. Train Loss: 0.6417 Validation Loss: 0.6408\n",
      "Epoch: 60/500............. Train Loss: 0.6413 Validation Loss: 0.6404\n",
      "Epoch: 70/500............. Train Loss: 0.6411 Validation Loss: 0.6402\n",
      "Epoch: 80/500............. Train Loss: 0.6410 Validation Loss: 0.6401\n",
      "Epoch: 90/500............. Train Loss: 0.6409 Validation Loss: 0.6400\n",
      "Epoch: 100/500............. Train Loss: 0.6409 Validation Loss: 0.6399\n",
      "Epoch: 110/500............. Train Loss: 0.6408 Validation Loss: 0.6399\n",
      "Epoch: 120/500............. Train Loss: 0.6408 Validation Loss: 0.6399\n",
      "Epoch: 130/500............. Train Loss: 0.6407 Validation Loss: 0.6398\n",
      "Epoch: 140/500............. Train Loss: 0.6407 Validation Loss: 0.6398\n",
      "Epoch: 150/500............. Train Loss: 0.6407 Validation Loss: 0.6398\n",
      "Epoch: 160/500............. Train Loss: 0.6405 Validation Loss: 0.6399\n",
      "Early stopping at 163\n"
     ]
    },
    {
     "name": "stderr",
     "output_type": "stream",
     "text": [
      "C:\\Users\\sxiao15\\AppData\\Local\\Temp\\ipykernel_5632\\3120863025.py:26: RuntimeWarning: invalid value encountered in longlong_scalars\n",
      "  precision = TP/(TP + FP)\n"
     ]
    },
    {
     "name": "stdout",
     "output_type": "stream",
     "text": [
      "Epoch: 10/500............. Train Loss: 0.6805 Validation Loss: 0.6793\n",
      "Epoch: 20/500............. Train Loss: 0.6538 Validation Loss: 0.6526\n",
      "Epoch: 30/500............. Train Loss: 0.6446 Validation Loss: 0.6438\n",
      "Epoch: 40/500............. Train Loss: 0.6424 Validation Loss: 0.6416\n",
      "Epoch: 50/500............. Train Loss: 0.6416 Validation Loss: 0.6408\n",
      "Epoch: 60/500............. Train Loss: 0.6413 Validation Loss: 0.6405\n",
      "Epoch: 70/500............. Train Loss: 0.6411 Validation Loss: 0.6403\n",
      "Epoch: 80/500............. Train Loss: 0.6410 Validation Loss: 0.6401\n",
      "Epoch: 90/500............. Train Loss: 0.6409 Validation Loss: 0.6401\n",
      "Epoch: 100/500............. Train Loss: 0.6408 Validation Loss: 0.6400\n",
      "Epoch: 110/500............. Train Loss: 0.6407 Validation Loss: 0.6400\n",
      "Epoch: 120/500............. Train Loss: 0.6406 Validation Loss: 0.6400\n",
      "Epoch: 130/500............. Train Loss: 0.6401 Validation Loss: 0.6402\n",
      "Early stopping at 133\n"
     ]
    },
    {
     "name": "stderr",
     "output_type": "stream",
     "text": [
      "C:\\Users\\sxiao15\\AppData\\Local\\Temp\\ipykernel_5632\\3120863025.py:26: RuntimeWarning: invalid value encountered in longlong_scalars\n",
      "  precision = TP/(TP + FP)\n"
     ]
    },
    {
     "name": "stdout",
     "output_type": "stream",
     "text": [
      "Epoch: 10/500............. Train Loss: 0.6529 Validation Loss: 0.6517\n",
      "Epoch: 20/500............. Train Loss: 0.6436 Validation Loss: 0.6425\n",
      "Epoch: 30/500............. Train Loss: 0.6413 Validation Loss: 0.6403\n",
      "Epoch: 40/500............. Train Loss: 0.6409 Validation Loss: 0.6400\n",
      "Epoch: 50/500............. Train Loss: 0.6408 Validation Loss: 0.6398\n",
      "Epoch: 60/500............. Train Loss: 0.6407 Validation Loss: 0.6398\n",
      "Epoch: 70/500............. Train Loss: 0.6405 Validation Loss: 0.6398\n",
      "Epoch: 80/500............. Train Loss: 0.6373 Validation Loss: 0.6413\n",
      "Epoch: 90/500............. Train Loss: 0.6273 Validation Loss: 0.6321\n",
      "Epoch: 100/500............. Train Loss: 0.6096 Validation Loss: 0.6178\n",
      "Epoch: 110/500............. Train Loss: 0.5961 Validation Loss: 0.6051\n",
      "Early stopping at 113\n",
      "Epoch: 10/500............. Train Loss: 0.6594 Validation Loss: 0.6573\n",
      "Epoch: 20/500............. Train Loss: 0.6418 Validation Loss: 0.6410\n",
      "Epoch: 30/500............. Train Loss: 0.6408 Validation Loss: 0.6399\n",
      "Epoch: 40/500............. Train Loss: 0.6407 Validation Loss: 0.6398\n",
      "Epoch: 50/500............. Train Loss: 0.6406 Validation Loss: 0.6398\n",
      "Epoch: 60/500............. Train Loss: 0.6406 Validation Loss: 0.6398\n",
      "Epoch: 70/500............. Train Loss: 0.6405 Validation Loss: 0.6398\n",
      "Early stopping at 77\n"
     ]
    },
    {
     "name": "stderr",
     "output_type": "stream",
     "text": [
      "C:\\Users\\sxiao15\\AppData\\Local\\Temp\\ipykernel_5632\\3120863025.py:26: RuntimeWarning: invalid value encountered in longlong_scalars\n",
      "  precision = TP/(TP + FP)\n"
     ]
    },
    {
     "name": "stdout",
     "output_type": "stream",
     "text": [
      "Epoch: 10/500............. Train Loss: 0.6617 Validation Loss: 0.6604\n",
      "Epoch: 20/500............. Train Loss: 0.6424 Validation Loss: 0.6419\n",
      "Epoch: 30/500............. Train Loss: 0.6408 Validation Loss: 0.6402\n",
      "Epoch: 40/500............. Train Loss: 0.6406 Validation Loss: 0.6400\n",
      "Epoch: 50/500............. Train Loss: 0.6406 Validation Loss: 0.6400\n",
      "Epoch: 60/500............. Train Loss: 0.6404 Validation Loss: 0.6401\n",
      "Early stopping at 64\n"
     ]
    },
    {
     "name": "stderr",
     "output_type": "stream",
     "text": [
      "C:\\Users\\sxiao15\\AppData\\Local\\Temp\\ipykernel_5632\\3120863025.py:26: RuntimeWarning: invalid value encountered in longlong_scalars\n",
      "  precision = TP/(TP + FP)\n"
     ]
    },
    {
     "name": "stdout",
     "output_type": "stream",
     "text": [
      "Epoch: 10/500............. Train Loss: 0.6526 Validation Loss: 0.6508\n",
      "Epoch: 20/500............. Train Loss: 0.6415 Validation Loss: 0.6405\n",
      "Epoch: 30/500............. Train Loss: 0.6407 Validation Loss: 0.6398\n",
      "Epoch: 40/500............. Train Loss: 0.6406 Validation Loss: 0.6397\n",
      "Epoch: 50/500............. Train Loss: 0.6405 Validation Loss: 0.6397\n",
      "Epoch: 60/500............. Train Loss: 0.6400 Validation Loss: 0.6398\n",
      "Early stopping at 64\n"
     ]
    },
    {
     "name": "stderr",
     "output_type": "stream",
     "text": [
      "C:\\Users\\sxiao15\\AppData\\Local\\Temp\\ipykernel_5632\\3120863025.py:26: RuntimeWarning: invalid value encountered in longlong_scalars\n",
      "  precision = TP/(TP + FP)\n"
     ]
    },
    {
     "name": "stdout",
     "output_type": "stream",
     "text": [
      "Epoch: 10/500............. Train Loss: 0.6594 Validation Loss: 0.6572\n",
      "Epoch: 20/500............. Train Loss: 0.6421 Validation Loss: 0.6412\n",
      "Epoch: 30/500............. Train Loss: 0.6408 Validation Loss: 0.6400\n",
      "Epoch: 40/500............. Train Loss: 0.6407 Validation Loss: 0.6398\n",
      "Epoch: 50/500............. Train Loss: 0.6407 Validation Loss: 0.6398\n",
      "Epoch: 60/500............. Train Loss: 0.6406 Validation Loss: 0.6398\n",
      "Epoch: 70/500............. Train Loss: 0.6405 Validation Loss: 0.6398\n",
      "Epoch: 80/500............. Train Loss: 0.6403 Validation Loss: 0.6398\n",
      "Epoch: 90/500............. Train Loss: 0.6391 Validation Loss: 0.6400\n",
      "Early stopping at 94\n",
      "Epoch: 10/500............. Train Loss: 0.6702 Validation Loss: 0.6685\n",
      "Epoch: 20/500............. Train Loss: 0.6441 Validation Loss: 0.6434\n",
      "Epoch: 30/500............. Train Loss: 0.6410 Validation Loss: 0.6404\n",
      "Epoch: 40/500............. Train Loss: 0.6407 Validation Loss: 0.6400\n",
      "Epoch: 50/500............. Train Loss: 0.6406 Validation Loss: 0.6400\n",
      "Epoch: 60/500............. Train Loss: 0.6406 Validation Loss: 0.6400\n",
      "Epoch: 70/500............. Train Loss: 0.6404 Validation Loss: 0.6401\n",
      "Early stopping at 73\n"
     ]
    },
    {
     "name": "stderr",
     "output_type": "stream",
     "text": [
      "C:\\Users\\sxiao15\\AppData\\Local\\Temp\\ipykernel_5632\\3120863025.py:26: RuntimeWarning: invalid value encountered in longlong_scalars\n",
      "  precision = TP/(TP + FP)\n"
     ]
    },
    {
     "name": "stdout",
     "output_type": "stream",
     "text": [
      "Epoch: 10/500............. Train Loss: 0.6756 Validation Loss: 0.6719\n",
      "Epoch: 20/500............. Train Loss: 0.6440 Validation Loss: 0.6428\n",
      "Epoch: 30/500............. Train Loss: 0.6411 Validation Loss: 0.6402\n",
      "Epoch: 40/500............. Train Loss: 0.6408 Validation Loss: 0.6399\n",
      "Epoch: 50/500............. Train Loss: 0.6408 Validation Loss: 0.6398\n",
      "Epoch: 60/500............. Train Loss: 0.6407 Validation Loss: 0.6398\n",
      "Epoch: 70/500............. Train Loss: 0.6407 Validation Loss: 0.6398\n",
      "Epoch: 80/500............. Train Loss: 0.6406 Validation Loss: 0.6398\n",
      "Epoch: 90/500............. Train Loss: 0.6406 Validation Loss: 0.6398\n",
      "Epoch: 100/500............. Train Loss: 0.6404 Validation Loss: 0.6398\n",
      "Early stopping at 107\n"
     ]
    },
    {
     "name": "stderr",
     "output_type": "stream",
     "text": [
      "C:\\Users\\sxiao15\\AppData\\Local\\Temp\\ipykernel_5632\\3120863025.py:26: RuntimeWarning: invalid value encountered in longlong_scalars\n",
      "  precision = TP/(TP + FP)\n"
     ]
    },
    {
     "name": "stdout",
     "output_type": "stream",
     "text": [
      "Epoch: 10/500............. Train Loss: 0.6732 Validation Loss: 0.6705\n",
      "Epoch: 20/500............. Train Loss: 0.6440 Validation Loss: 0.6428\n",
      "Epoch: 30/500............. Train Loss: 0.6409 Validation Loss: 0.6401\n",
      "Epoch: 40/500............. Train Loss: 0.6407 Validation Loss: 0.6398\n",
      "Epoch: 50/500............. Train Loss: 0.6407 Validation Loss: 0.6398\n",
      "Epoch: 60/500............. Train Loss: 0.6407 Validation Loss: 0.6398\n",
      "Epoch: 70/500............. Train Loss: 0.6406 Validation Loss: 0.6398\n",
      "Epoch: 80/500............. Train Loss: 0.6405 Validation Loss: 0.6398\n",
      "Epoch: 90/500............. Train Loss: 0.6403 Validation Loss: 0.6398\n",
      "Epoch: 100/500............. Train Loss: 0.6393 Validation Loss: 0.6401\n",
      "Early stopping at 101\n"
     ]
    },
    {
     "name": "stderr",
     "output_type": "stream",
     "text": [
      "C:\\Users\\sxiao15\\AppData\\Local\\Temp\\ipykernel_5632\\3120863025.py:26: RuntimeWarning: invalid value encountered in longlong_scalars\n",
      "  precision = TP/(TP + FP)\n"
     ]
    },
    {
     "name": "stdout",
     "output_type": "stream",
     "text": [
      "Epoch: 10/500............. Train Loss: 0.6756 Validation Loss: 0.6738\n",
      "Epoch: 20/500............. Train Loss: 0.6444 Validation Loss: 0.6438\n",
      "Epoch: 30/500............. Train Loss: 0.6410 Validation Loss: 0.6404\n",
      "Epoch: 40/500............. Train Loss: 0.6407 Validation Loss: 0.6401\n",
      "Epoch: 50/500............. Train Loss: 0.6407 Validation Loss: 0.6400\n",
      "Epoch: 60/500............. Train Loss: 0.6406 Validation Loss: 0.6400\n",
      "Epoch: 70/500............. Train Loss: 0.6405 Validation Loss: 0.6401\n",
      "Early stopping at 75\n"
     ]
    },
    {
     "name": "stderr",
     "output_type": "stream",
     "text": [
      "C:\\Users\\sxiao15\\AppData\\Local\\Temp\\ipykernel_5632\\3120863025.py:26: RuntimeWarning: invalid value encountered in longlong_scalars\n",
      "  precision = TP/(TP + FP)\n"
     ]
    },
    {
     "name": "stdout",
     "output_type": "stream",
     "text": [
      "Epoch: 10/500............. Train Loss: 0.6736 Validation Loss: 0.6699\n",
      "Epoch: 20/500............. Train Loss: 0.6433 Validation Loss: 0.6421\n",
      "Epoch: 30/500............. Train Loss: 0.6410 Validation Loss: 0.6401\n",
      "Epoch: 40/500............. Train Loss: 0.6408 Validation Loss: 0.6399\n",
      "Epoch: 50/500............. Train Loss: 0.6407 Validation Loss: 0.6398\n",
      "Epoch: 60/500............. Train Loss: 0.6407 Validation Loss: 0.6398\n",
      "Epoch: 70/500............. Train Loss: 0.6407 Validation Loss: 0.6398\n",
      "Epoch: 80/500............. Train Loss: 0.6406 Validation Loss: 0.6398\n",
      "Epoch: 90/500............. Train Loss: 0.6405 Validation Loss: 0.6398\n",
      "Epoch: 100/500............. Train Loss: 0.6402 Validation Loss: 0.6398\n",
      "Early stopping at 101\n"
     ]
    },
    {
     "name": "stderr",
     "output_type": "stream",
     "text": [
      "C:\\Users\\sxiao15\\AppData\\Local\\Temp\\ipykernel_5632\\3120863025.py:26: RuntimeWarning: invalid value encountered in longlong_scalars\n",
      "  precision = TP/(TP + FP)\n"
     ]
    },
    {
     "name": "stdout",
     "output_type": "stream",
     "text": [
      "Epoch: 10/500............. Train Loss: 0.6793 Validation Loss: 0.6745\n",
      "Epoch: 20/500............. Train Loss: 0.6418 Validation Loss: 0.6409\n",
      "Epoch: 30/500............. Train Loss: 0.6407 Validation Loss: 0.6398\n",
      "Epoch: 40/500............. Train Loss: 0.6407 Validation Loss: 0.6398\n",
      "Epoch: 50/500............. Train Loss: 0.6406 Validation Loss: 0.6398\n",
      "Epoch: 60/500............. Train Loss: 0.6406 Validation Loss: 0.6398\n",
      "Epoch: 70/500............. Train Loss: 0.6406 Validation Loss: 0.6398\n",
      "Early stopping at 74\n"
     ]
    },
    {
     "name": "stderr",
     "output_type": "stream",
     "text": [
      "C:\\Users\\sxiao15\\AppData\\Local\\Temp\\ipykernel_5632\\3120863025.py:26: RuntimeWarning: invalid value encountered in longlong_scalars\n",
      "  precision = TP/(TP + FP)\n"
     ]
    },
    {
     "name": "stdout",
     "output_type": "stream",
     "text": [
      "Epoch: 10/500............. Train Loss: 0.6706 Validation Loss: 0.6681\n",
      "Epoch: 20/500............. Train Loss: 0.6412 Validation Loss: 0.6410\n",
      "Epoch: 30/500............. Train Loss: 0.6406 Validation Loss: 0.6401\n",
      "Epoch: 40/500............. Train Loss: 0.6405 Validation Loss: 0.6401\n",
      "Epoch: 50/500............. Train Loss: 0.6405 Validation Loss: 0.6402\n",
      "Early stopping at 57\n"
     ]
    },
    {
     "name": "stderr",
     "output_type": "stream",
     "text": [
      "C:\\Users\\sxiao15\\AppData\\Local\\Temp\\ipykernel_5632\\3120863025.py:26: RuntimeWarning: invalid value encountered in longlong_scalars\n",
      "  precision = TP/(TP + FP)\n"
     ]
    },
    {
     "name": "stdout",
     "output_type": "stream",
     "text": [
      "Epoch: 10/500............. Train Loss: 0.6558 Validation Loss: 0.6532\n",
      "Epoch: 20/500............. Train Loss: 0.6408 Validation Loss: 0.6400\n",
      "Epoch: 30/500............. Train Loss: 0.6406 Validation Loss: 0.6398\n",
      "Epoch: 40/500............. Train Loss: 0.6405 Validation Loss: 0.6398\n",
      "Epoch: 50/500............. Train Loss: 0.6403 Validation Loss: 0.6398\n",
      "Early stopping at 53\n"
     ]
    },
    {
     "name": "stderr",
     "output_type": "stream",
     "text": [
      "C:\\Users\\sxiao15\\AppData\\Local\\Temp\\ipykernel_5632\\3120863025.py:26: RuntimeWarning: invalid value encountered in longlong_scalars\n",
      "  precision = TP/(TP + FP)\n"
     ]
    },
    {
     "name": "stdout",
     "output_type": "stream",
     "text": [
      "Epoch: 10/500............. Train Loss: 0.6572 Validation Loss: 0.6548\n",
      "Epoch: 20/500............. Train Loss: 0.6409 Validation Loss: 0.6401\n",
      "Epoch: 30/500............. Train Loss: 0.6406 Validation Loss: 0.6398\n",
      "Epoch: 40/500............. Train Loss: 0.6406 Validation Loss: 0.6398\n",
      "Epoch: 50/500............. Train Loss: 0.6405 Validation Loss: 0.6398\n",
      "Epoch: 60/500............. Train Loss: 0.6402 Validation Loss: 0.6398\n",
      "Epoch: 70/500............. Train Loss: 0.6391 Validation Loss: 0.6397\n",
      "Epoch: 80/500............. Train Loss: 0.6336 Validation Loss: 0.6375\n",
      "Epoch: 90/500............. Train Loss: 0.6165 Validation Loss: 0.6221\n",
      "Epoch: 100/500............. Train Loss: 0.5974 Validation Loss: 0.6079\n",
      "Epoch: 110/500............. Train Loss: 0.5884 Validation Loss: 0.5986\n",
      "Early stopping at 119\n",
      "Epoch: 10/500............. Train Loss: 0.6844 Validation Loss: 0.6817\n",
      "Epoch: 20/500............. Train Loss: 0.6421 Validation Loss: 0.6419\n",
      "Epoch: 30/500............. Train Loss: 0.6406 Validation Loss: 0.6401\n",
      "Epoch: 40/500............. Train Loss: 0.6406 Validation Loss: 0.6401\n",
      "Epoch: 50/500............. Train Loss: 0.6405 Validation Loss: 0.6401\n",
      "Early stopping at 59\n"
     ]
    },
    {
     "name": "stderr",
     "output_type": "stream",
     "text": [
      "C:\\Users\\sxiao15\\AppData\\Local\\Temp\\ipykernel_5632\\3120863025.py:26: RuntimeWarning: invalid value encountered in longlong_scalars\n",
      "  precision = TP/(TP + FP)\n"
     ]
    },
    {
     "name": "stdout",
     "output_type": "stream",
     "text": [
      "Epoch: 10/500............. Train Loss: 0.6577 Validation Loss: 0.6549\n",
      "Epoch: 20/500............. Train Loss: 0.6411 Validation Loss: 0.6402\n",
      "Epoch: 30/500............. Train Loss: 0.6407 Validation Loss: 0.6398\n",
      "Epoch: 40/500............. Train Loss: 0.6406 Validation Loss: 0.6397\n",
      "Epoch: 50/500............. Train Loss: 0.6405 Validation Loss: 0.6398\n",
      "Early stopping at 59\n"
     ]
    },
    {
     "name": "stderr",
     "output_type": "stream",
     "text": [
      "C:\\Users\\sxiao15\\AppData\\Local\\Temp\\ipykernel_5632\\3120863025.py:26: RuntimeWarning: invalid value encountered in longlong_scalars\n",
      "  precision = TP/(TP + FP)\n"
     ]
    },
    {
     "name": "stdout",
     "output_type": "stream",
     "text": [
      "Epoch: 10/500............. Train Loss: 0.6694 Validation Loss: 0.6657\n",
      "Epoch: 20/500............. Train Loss: 0.6415 Validation Loss: 0.6407\n",
      "Epoch: 30/500............. Train Loss: 0.6407 Validation Loss: 0.6398\n",
      "Epoch: 40/500............. Train Loss: 0.6407 Validation Loss: 0.6398\n",
      "Epoch: 50/500............. Train Loss: 0.6406 Validation Loss: 0.6398\n",
      "Epoch: 60/500............. Train Loss: 0.6406 Validation Loss: 0.6398\n",
      "Early stopping at 66\n"
     ]
    },
    {
     "name": "stderr",
     "output_type": "stream",
     "text": [
      "C:\\Users\\sxiao15\\AppData\\Local\\Temp\\ipykernel_5632\\3120863025.py:26: RuntimeWarning: invalid value encountered in longlong_scalars\n",
      "  precision = TP/(TP + FP)\n"
     ]
    },
    {
     "name": "stdout",
     "output_type": "stream",
     "text": [
      "Epoch: 10/500............. Train Loss: 0.6537 Validation Loss: 0.6528\n",
      "Epoch: 20/500............. Train Loss: 0.6407 Validation Loss: 0.6405\n",
      "Epoch: 30/500............. Train Loss: 0.6405 Validation Loss: 0.6401\n",
      "Epoch: 40/500............. Train Loss: 0.6403 Validation Loss: 0.6402\n",
      "Early stopping at 49\n"
     ]
    },
    {
     "name": "stderr",
     "output_type": "stream",
     "text": [
      "C:\\Users\\sxiao15\\AppData\\Local\\Temp\\ipykernel_5632\\3120863025.py:26: RuntimeWarning: invalid value encountered in longlong_scalars\n",
      "  precision = TP/(TP + FP)\n"
     ]
    },
    {
     "name": "stdout",
     "output_type": "stream",
     "text": [
      "Epoch: 10/500............. Train Loss: 0.6634 Validation Loss: 0.6597\n",
      "Epoch: 20/500............. Train Loss: 0.6412 Validation Loss: 0.6402\n",
      "Epoch: 30/500............. Train Loss: 0.6407 Validation Loss: 0.6397\n",
      "Epoch: 40/500............. Train Loss: 0.6407 Validation Loss: 0.6397\n",
      "Epoch: 50/500............. Train Loss: 0.6406 Validation Loss: 0.6397\n",
      "Epoch: 60/500............. Train Loss: 0.6405 Validation Loss: 0.6397\n",
      "Epoch: 70/500............. Train Loss: 0.6401 Validation Loss: 0.6397\n",
      "Early stopping at 75\n"
     ]
    },
    {
     "name": "stderr",
     "output_type": "stream",
     "text": [
      "C:\\Users\\sxiao15\\AppData\\Local\\Temp\\ipykernel_5632\\3120863025.py:26: RuntimeWarning: invalid value encountered in longlong_scalars\n",
      "  precision = TP/(TP + FP)\n"
     ]
    },
    {
     "name": "stdout",
     "output_type": "stream",
     "text": [
      "Epoch: 10/500............. Train Loss: 0.6418 Validation Loss: 0.6406\n",
      "Epoch: 20/500............. Train Loss: 0.6418 Validation Loss: 0.6406\n",
      "Early stopping at 23\n"
     ]
    },
    {
     "name": "stderr",
     "output_type": "stream",
     "text": [
      "C:\\Users\\sxiao15\\AppData\\Local\\Temp\\ipykernel_5632\\3120863025.py:26: RuntimeWarning: invalid value encountered in longlong_scalars\n",
      "  precision = TP/(TP + FP)\n"
     ]
    },
    {
     "name": "stdout",
     "output_type": "stream",
     "text": [
      "Epoch: 10/500............. Train Loss: 0.6417 Validation Loss: 0.6406\n",
      "Epoch: 20/500............. Train Loss: 0.6418 Validation Loss: 0.6406\n",
      "Early stopping at 22\n"
     ]
    },
    {
     "name": "stderr",
     "output_type": "stream",
     "text": [
      "C:\\Users\\sxiao15\\AppData\\Local\\Temp\\ipykernel_5632\\3120863025.py:26: RuntimeWarning: invalid value encountered in longlong_scalars\n",
      "  precision = TP/(TP + FP)\n"
     ]
    },
    {
     "name": "stdout",
     "output_type": "stream",
     "text": [
      "Epoch: 10/500............. Train Loss: 0.6418 Validation Loss: 0.6406\n",
      "Epoch: 20/500............. Train Loss: 0.6418 Validation Loss: 0.6406\n",
      "Early stopping at 22\n"
     ]
    },
    {
     "name": "stderr",
     "output_type": "stream",
     "text": [
      "C:\\Users\\sxiao15\\AppData\\Local\\Temp\\ipykernel_5632\\3120863025.py:26: RuntimeWarning: invalid value encountered in longlong_scalars\n",
      "  precision = TP/(TP + FP)\n"
     ]
    },
    {
     "name": "stdout",
     "output_type": "stream",
     "text": [
      "Epoch: 10/500............. Train Loss: 0.6418 Validation Loss: 0.6406\n",
      "Epoch: 20/500............. Train Loss: 0.6418 Validation Loss: 0.6406\n",
      "Early stopping at 22\n"
     ]
    },
    {
     "name": "stderr",
     "output_type": "stream",
     "text": [
      "C:\\Users\\sxiao15\\AppData\\Local\\Temp\\ipykernel_5632\\3120863025.py:26: RuntimeWarning: invalid value encountered in longlong_scalars\n",
      "  precision = TP/(TP + FP)\n"
     ]
    },
    {
     "name": "stdout",
     "output_type": "stream",
     "text": [
      "Epoch: 10/500............. Train Loss: 0.6414 Validation Loss: 0.6405\n",
      "Epoch: 20/500............. Train Loss: 0.6382 Validation Loss: 0.6473\n",
      "Epoch: 30/500............. Train Loss: 0.6191 Validation Loss: 0.6261\n",
      "Early stopping at 36\n",
      "Epoch: 10/500............. Train Loss: 0.6418 Validation Loss: 0.6406\n",
      "Epoch: 20/500............. Train Loss: 0.6418 Validation Loss: 0.6406\n",
      "Early stopping at 22\n"
     ]
    },
    {
     "name": "stderr",
     "output_type": "stream",
     "text": [
      "C:\\Users\\sxiao15\\AppData\\Local\\Temp\\ipykernel_5632\\3120863025.py:26: RuntimeWarning: invalid value encountered in longlong_scalars\n",
      "  precision = TP/(TP + FP)\n"
     ]
    },
    {
     "name": "stdout",
     "output_type": "stream",
     "text": [
      "Epoch: 10/500............. Train Loss: 0.6413 Validation Loss: 0.6403\n",
      "Epoch: 20/500............. Train Loss: 0.6162 Validation Loss: 0.6153\n",
      "Epoch: 30/500............. Train Loss: 0.6020 Validation Loss: 0.6152\n",
      "Epoch: 40/500............. Train Loss: 0.5739 Validation Loss: 0.5852\n",
      "Early stopping at 45\n",
      "Epoch: 10/500............. Train Loss: 0.6418 Validation Loss: 0.6406\n",
      "Epoch: 20/500............. Train Loss: 0.6418 Validation Loss: 0.6406\n",
      "Early stopping at 22\n"
     ]
    },
    {
     "name": "stderr",
     "output_type": "stream",
     "text": [
      "C:\\Users\\sxiao15\\AppData\\Local\\Temp\\ipykernel_5632\\3120863025.py:26: RuntimeWarning: invalid value encountered in longlong_scalars\n",
      "  precision = TP/(TP + FP)\n"
     ]
    },
    {
     "name": "stdout",
     "output_type": "stream",
     "text": [
      "Epoch: 10/500............. Train Loss: 0.6418 Validation Loss: 0.6406\n",
      "Epoch: 20/500............. Train Loss: 0.6418 Validation Loss: 0.6406\n",
      "Early stopping at 22\n"
     ]
    },
    {
     "name": "stderr",
     "output_type": "stream",
     "text": [
      "C:\\Users\\sxiao15\\AppData\\Local\\Temp\\ipykernel_5632\\3120863025.py:26: RuntimeWarning: invalid value encountered in longlong_scalars\n",
      "  precision = TP/(TP + FP)\n"
     ]
    },
    {
     "name": "stdout",
     "output_type": "stream",
     "text": [
      "Epoch: 10/500............. Train Loss: 0.6418 Validation Loss: 0.6406\n",
      "Epoch: 20/500............. Train Loss: 0.6418 Validation Loss: 0.6406\n",
      "Early stopping at 24\n"
     ]
    },
    {
     "name": "stderr",
     "output_type": "stream",
     "text": [
      "C:\\Users\\sxiao15\\AppData\\Local\\Temp\\ipykernel_5632\\3120863025.py:26: RuntimeWarning: invalid value encountered in longlong_scalars\n",
      "  precision = TP/(TP + FP)\n"
     ]
    },
    {
     "name": "stdout",
     "output_type": "stream",
     "text": [
      "Epoch: 10/500............. Train Loss: 0.6418 Validation Loss: 0.6406\n",
      "Epoch: 20/500............. Train Loss: 0.6418 Validation Loss: 0.6406\n",
      "Early stopping at 23\n"
     ]
    },
    {
     "name": "stderr",
     "output_type": "stream",
     "text": [
      "C:\\Users\\sxiao15\\AppData\\Local\\Temp\\ipykernel_5632\\3120863025.py:26: RuntimeWarning: invalid value encountered in longlong_scalars\n",
      "  precision = TP/(TP + FP)\n"
     ]
    },
    {
     "name": "stdout",
     "output_type": "stream",
     "text": [
      "Epoch: 10/500............. Train Loss: 0.6418 Validation Loss: 0.6406\n",
      "Epoch: 20/500............. Train Loss: 0.6418 Validation Loss: 0.6406\n",
      "Early stopping at 22\n"
     ]
    },
    {
     "name": "stderr",
     "output_type": "stream",
     "text": [
      "C:\\Users\\sxiao15\\AppData\\Local\\Temp\\ipykernel_5632\\3120863025.py:26: RuntimeWarning: invalid value encountered in longlong_scalars\n",
      "  precision = TP/(TP + FP)\n"
     ]
    },
    {
     "name": "stdout",
     "output_type": "stream",
     "text": [
      "Epoch: 10/500............. Train Loss: 0.6418 Validation Loss: 0.6406\n",
      "Epoch: 20/500............. Train Loss: 0.6418 Validation Loss: 0.6406\n",
      "Early stopping at 24\n"
     ]
    },
    {
     "name": "stderr",
     "output_type": "stream",
     "text": [
      "C:\\Users\\sxiao15\\AppData\\Local\\Temp\\ipykernel_5632\\3120863025.py:26: RuntimeWarning: invalid value encountered in longlong_scalars\n",
      "  precision = TP/(TP + FP)\n"
     ]
    },
    {
     "name": "stdout",
     "output_type": "stream",
     "text": [
      "Epoch: 10/500............. Train Loss: 0.6418 Validation Loss: 0.6406\n",
      "Epoch: 20/500............. Train Loss: 0.6418 Validation Loss: 0.6406\n",
      "Early stopping at 25\n"
     ]
    },
    {
     "name": "stderr",
     "output_type": "stream",
     "text": [
      "C:\\Users\\sxiao15\\AppData\\Local\\Temp\\ipykernel_5632\\3120863025.py:26: RuntimeWarning: invalid value encountered in longlong_scalars\n",
      "  precision = TP/(TP + FP)\n"
     ]
    },
    {
     "name": "stdout",
     "output_type": "stream",
     "text": [
      "Epoch: 10/500............. Train Loss: 0.6417 Validation Loss: 0.6406\n",
      "Epoch: 20/500............. Train Loss: 0.6418 Validation Loss: 0.6406\n",
      "Early stopping at 27\n"
     ]
    },
    {
     "name": "stderr",
     "output_type": "stream",
     "text": [
      "C:\\Users\\sxiao15\\AppData\\Local\\Temp\\ipykernel_5632\\3120863025.py:26: RuntimeWarning: invalid value encountered in longlong_scalars\n",
      "  precision = TP/(TP + FP)\n"
     ]
    },
    {
     "name": "stdout",
     "output_type": "stream",
     "text": [
      "Epoch: 10/500............. Train Loss: 0.6418 Validation Loss: 0.6406\n",
      "Epoch: 20/500............. Train Loss: 0.6418 Validation Loss: 0.6406\n",
      "Early stopping at 23\n"
     ]
    },
    {
     "name": "stderr",
     "output_type": "stream",
     "text": [
      "C:\\Users\\sxiao15\\AppData\\Local\\Temp\\ipykernel_5632\\3120863025.py:26: RuntimeWarning: invalid value encountered in longlong_scalars\n",
      "  precision = TP/(TP + FP)\n"
     ]
    },
    {
     "name": "stdout",
     "output_type": "stream",
     "text": [
      "Epoch: 10/500............. Train Loss: 0.6418 Validation Loss: 0.6406\n",
      "Epoch: 20/500............. Train Loss: 0.6418 Validation Loss: 0.6406\n",
      "Early stopping at 24\n"
     ]
    },
    {
     "name": "stderr",
     "output_type": "stream",
     "text": [
      "C:\\Users\\sxiao15\\AppData\\Local\\Temp\\ipykernel_5632\\3120863025.py:26: RuntimeWarning: invalid value encountered in longlong_scalars\n",
      "  precision = TP/(TP + FP)\n"
     ]
    },
    {
     "name": "stdout",
     "output_type": "stream",
     "text": [
      "Epoch: 10/500............. Train Loss: 0.6418 Validation Loss: 0.6406\n",
      "Epoch: 20/500............. Train Loss: 0.6418 Validation Loss: 0.6406\n",
      "Early stopping at 25\n"
     ]
    },
    {
     "name": "stderr",
     "output_type": "stream",
     "text": [
      "C:\\Users\\sxiao15\\AppData\\Local\\Temp\\ipykernel_5632\\3120863025.py:26: RuntimeWarning: invalid value encountered in longlong_scalars\n",
      "  precision = TP/(TP + FP)\n"
     ]
    },
    {
     "name": "stdout",
     "output_type": "stream",
     "text": [
      "Epoch: 10/500............. Train Loss: 0.6403 Validation Loss: 0.6403\n",
      "Epoch: 20/500............. Train Loss: 0.6418 Validation Loss: 0.6406\n",
      "Early stopping at 25\n"
     ]
    },
    {
     "name": "stderr",
     "output_type": "stream",
     "text": [
      "C:\\Users\\sxiao15\\AppData\\Local\\Temp\\ipykernel_5632\\3120863025.py:26: RuntimeWarning: invalid value encountered in longlong_scalars\n",
      "  precision = TP/(TP + FP)\n"
     ]
    },
    {
     "name": "stdout",
     "output_type": "stream",
     "text": [
      "Epoch: 10/500............. Train Loss: 0.6418 Validation Loss: 0.6406\n",
      "Epoch: 20/500............. Train Loss: 0.6418 Validation Loss: 0.6406\n",
      "Early stopping at 23\n"
     ]
    },
    {
     "name": "stderr",
     "output_type": "stream",
     "text": [
      "C:\\Users\\sxiao15\\AppData\\Local\\Temp\\ipykernel_5632\\3120863025.py:26: RuntimeWarning: invalid value encountered in longlong_scalars\n",
      "  precision = TP/(TP + FP)\n"
     ]
    },
    {
     "name": "stdout",
     "output_type": "stream",
     "text": [
      "Epoch: 10/500............. Train Loss: 0.6418 Validation Loss: 0.6406\n",
      "Epoch: 20/500............. Train Loss: 0.6418 Validation Loss: 0.6406\n",
      "Early stopping at 21\n"
     ]
    },
    {
     "name": "stderr",
     "output_type": "stream",
     "text": [
      "C:\\Users\\sxiao15\\AppData\\Local\\Temp\\ipykernel_5632\\3120863025.py:26: RuntimeWarning: invalid value encountered in longlong_scalars\n",
      "  precision = TP/(TP + FP)\n"
     ]
    },
    {
     "name": "stdout",
     "output_type": "stream",
     "text": [
      "Epoch: 10/500............. Train Loss: 0.6417 Validation Loss: 0.6406\n",
      "Epoch: 20/500............. Train Loss: 0.6418 Validation Loss: 0.6406\n",
      "Early stopping at 29\n"
     ]
    },
    {
     "name": "stderr",
     "output_type": "stream",
     "text": [
      "C:\\Users\\sxiao15\\AppData\\Local\\Temp\\ipykernel_5632\\3120863025.py:26: RuntimeWarning: invalid value encountered in longlong_scalars\n",
      "  precision = TP/(TP + FP)\n"
     ]
    },
    {
     "name": "stdout",
     "output_type": "stream",
     "text": [
      "Epoch: 10/500............. Train Loss: 0.6390 Validation Loss: 0.6366\n",
      "Epoch: 20/500............. Train Loss: 0.6186 Validation Loss: 0.6241\n",
      "Epoch: 30/500............. Train Loss: 0.6098 Validation Loss: 0.6055\n",
      "Epoch: 40/500............. Train Loss: 0.6074 Validation Loss: 0.6571\n",
      "Early stopping at 48\n",
      "Epoch: 10/500............. Train Loss: 0.6418 Validation Loss: 0.6406\n",
      "Epoch: 20/500............. Train Loss: 0.6418 Validation Loss: 0.6406\n",
      "Early stopping at 22\n"
     ]
    },
    {
     "name": "stderr",
     "output_type": "stream",
     "text": [
      "C:\\Users\\sxiao15\\AppData\\Local\\Temp\\ipykernel_5632\\3120863025.py:26: RuntimeWarning: invalid value encountered in longlong_scalars\n",
      "  precision = TP/(TP + FP)\n"
     ]
    },
    {
     "name": "stdout",
     "output_type": "stream",
     "text": [
      "Epoch: 10/500............. Train Loss: 0.6418 Validation Loss: 0.6406\n",
      "Epoch: 20/500............. Train Loss: 0.6418 Validation Loss: 0.6406\n",
      "Early stopping at 21\n"
     ]
    },
    {
     "name": "stderr",
     "output_type": "stream",
     "text": [
      "C:\\Users\\sxiao15\\AppData\\Local\\Temp\\ipykernel_5632\\3120863025.py:26: RuntimeWarning: invalid value encountered in longlong_scalars\n",
      "  precision = TP/(TP + FP)\n"
     ]
    },
    {
     "name": "stdout",
     "output_type": "stream",
     "text": [
      "Epoch: 10/500............. Train Loss: 0.6418 Validation Loss: 0.6406\n",
      "Epoch: 20/500............. Train Loss: 0.6418 Validation Loss: 0.6406\n",
      "Early stopping at 23\n"
     ]
    },
    {
     "name": "stderr",
     "output_type": "stream",
     "text": [
      "C:\\Users\\sxiao15\\AppData\\Local\\Temp\\ipykernel_5632\\3120863025.py:26: RuntimeWarning: invalid value encountered in longlong_scalars\n",
      "  precision = TP/(TP + FP)\n"
     ]
    },
    {
     "name": "stdout",
     "output_type": "stream",
     "text": [
      "Epoch: 10/500............. Train Loss: 0.6418 Validation Loss: 0.6406\n",
      "Epoch: 20/500............. Train Loss: 0.6418 Validation Loss: 0.6406\n",
      "Early stopping at 23\n"
     ]
    },
    {
     "name": "stderr",
     "output_type": "stream",
     "text": [
      "C:\\Users\\sxiao15\\AppData\\Local\\Temp\\ipykernel_5632\\3120863025.py:26: RuntimeWarning: invalid value encountered in longlong_scalars\n",
      "  precision = TP/(TP + FP)\n"
     ]
    },
    {
     "name": "stdout",
     "output_type": "stream",
     "text": [
      "Epoch: 10/500............. Train Loss: 0.6417 Validation Loss: 0.6406\n",
      "Epoch: 20/500............. Train Loss: 0.6418 Validation Loss: 0.6406\n",
      "Early stopping at 22\n"
     ]
    },
    {
     "name": "stderr",
     "output_type": "stream",
     "text": [
      "C:\\Users\\sxiao15\\AppData\\Local\\Temp\\ipykernel_5632\\3120863025.py:26: RuntimeWarning: invalid value encountered in longlong_scalars\n",
      "  precision = TP/(TP + FP)\n"
     ]
    },
    {
     "name": "stdout",
     "output_type": "stream",
     "text": [
      "Epoch: 10/500............. Train Loss: 0.6096 Validation Loss: 0.6233\n",
      "Epoch: 20/500............. Train Loss: 0.6346 Validation Loss: 0.6306\n",
      "Epoch: 30/500............. Train Loss: 0.5817 Validation Loss: 0.5818\n",
      "Epoch: 40/500............. Train Loss: 0.5881 Validation Loss: 0.5985\n",
      "Early stopping at 44\n",
      "Epoch: 10/500............. Train Loss: 0.6418 Validation Loss: 0.6406\n",
      "Epoch: 20/500............. Train Loss: 0.6418 Validation Loss: 0.6406\n",
      "Early stopping at 22\n"
     ]
    },
    {
     "name": "stderr",
     "output_type": "stream",
     "text": [
      "C:\\Users\\sxiao15\\AppData\\Local\\Temp\\ipykernel_5632\\3120863025.py:26: RuntimeWarning: invalid value encountered in longlong_scalars\n",
      "  precision = TP/(TP + FP)\n"
     ]
    },
    {
     "name": "stdout",
     "output_type": "stream",
     "text": [
      "Epoch: 10/500............. Train Loss: 0.6417 Validation Loss: 0.6405\n",
      "Epoch: 20/500............. Train Loss: 0.6417 Validation Loss: 0.6406\n",
      "Epoch: 30/500............. Train Loss: 0.6417 Validation Loss: 0.6405\n",
      "Epoch: 40/500............. Train Loss: 0.6413 Validation Loss: 0.6400\n",
      "Epoch: 50/500............. Train Loss: 0.6408 Validation Loss: 0.6398\n",
      "Early stopping at 54\n"
     ]
    },
    {
     "name": "stderr",
     "output_type": "stream",
     "text": [
      "C:\\Users\\sxiao15\\AppData\\Local\\Temp\\ipykernel_5632\\3120863025.py:26: RuntimeWarning: invalid value encountered in longlong_scalars\n",
      "  precision = TP/(TP + FP)\n"
     ]
    },
    {
     "name": "stdout",
     "output_type": "stream",
     "text": [
      "Epoch: 10/500............. Train Loss: 0.6418 Validation Loss: 0.6406\n",
      "Epoch: 20/500............. Train Loss: 0.6418 Validation Loss: 0.6406\n",
      "Early stopping at 22\n"
     ]
    },
    {
     "name": "stderr",
     "output_type": "stream",
     "text": [
      "C:\\Users\\sxiao15\\AppData\\Local\\Temp\\ipykernel_5632\\3120863025.py:26: RuntimeWarning: invalid value encountered in longlong_scalars\n",
      "  precision = TP/(TP + FP)\n"
     ]
    },
    {
     "name": "stdout",
     "output_type": "stream",
     "text": [
      "Epoch: 10/500............. Train Loss: 0.6417 Validation Loss: 0.6406\n",
      "Epoch: 20/500............. Train Loss: 0.6417 Validation Loss: 0.6406\n",
      "Epoch: 30/500............. Train Loss: 0.6417 Validation Loss: 0.6406\n",
      "Epoch: 40/500............. Train Loss: 0.6417 Validation Loss: 0.6406\n",
      "Epoch: 50/500............. Train Loss: 0.6417 Validation Loss: 0.6405\n",
      "Epoch: 60/500............. Train Loss: 0.6414 Validation Loss: 0.6402\n",
      "Early stopping at 65\n"
     ]
    },
    {
     "name": "stderr",
     "output_type": "stream",
     "text": [
      "C:\\Users\\sxiao15\\AppData\\Local\\Temp\\ipykernel_5632\\3120863025.py:26: RuntimeWarning: invalid value encountered in longlong_scalars\n",
      "  precision = TP/(TP + FP)\n"
     ]
    },
    {
     "name": "stdout",
     "output_type": "stream",
     "text": [
      "Epoch: 10/500............. Train Loss: 0.6415 Validation Loss: 0.6404\n",
      "Epoch: 20/500............. Train Loss: 0.6251 Validation Loss: 0.6296\n",
      "Epoch: 30/500............. Train Loss: 0.6217 Validation Loss: 0.6113\n",
      "Epoch: 40/500............. Train Loss: 0.6016 Validation Loss: 0.6252\n",
      "Epoch: 50/500............. Train Loss: 0.6216 Validation Loss: 0.6127\n",
      "Early stopping at 54\n",
      "Epoch: 10/500............. Train Loss: 0.6415 Validation Loss: 0.6404\n",
      "Epoch: 20/500............. Train Loss: 0.6414 Validation Loss: 0.6403\n",
      "Epoch: 30/500............. Train Loss: 0.6408 Validation Loss: 0.6397\n",
      "Epoch: 40/500............. Train Loss: 0.6408 Validation Loss: 0.6397\n",
      "Epoch: 50/500............. Train Loss: 0.6407 Validation Loss: 0.6397\n",
      "Early stopping at 53\n"
     ]
    },
    {
     "name": "stderr",
     "output_type": "stream",
     "text": [
      "C:\\Users\\sxiao15\\AppData\\Local\\Temp\\ipykernel_5632\\3120863025.py:26: RuntimeWarning: invalid value encountered in longlong_scalars\n",
      "  precision = TP/(TP + FP)\n"
     ]
    },
    {
     "name": "stdout",
     "output_type": "stream",
     "text": [
      "Epoch: 10/500............. Train Loss: 0.6417 Validation Loss: 0.6405\n",
      "Epoch: 20/500............. Train Loss: 0.6416 Validation Loss: 0.6405\n",
      "Epoch: 30/500............. Train Loss: 0.6386 Validation Loss: 0.6340\n",
      "Epoch: 40/500............. Train Loss: 0.6251 Validation Loss: 0.6258\n",
      "Early stopping at 50\n",
      "Epoch: 10/500............. Train Loss: 0.6418 Validation Loss: 0.6406\n",
      "Epoch: 20/500............. Train Loss: 0.6418 Validation Loss: 0.6406\n",
      "Early stopping at 24\n"
     ]
    },
    {
     "name": "stderr",
     "output_type": "stream",
     "text": [
      "C:\\Users\\sxiao15\\AppData\\Local\\Temp\\ipykernel_5632\\3120863025.py:26: RuntimeWarning: invalid value encountered in longlong_scalars\n",
      "  precision = TP/(TP + FP)\n"
     ]
    },
    {
     "name": "stdout",
     "output_type": "stream",
     "text": [
      "Epoch: 10/500............. Train Loss: 0.6418 Validation Loss: 0.6406\n",
      "Epoch: 20/500............. Train Loss: 0.6418 Validation Loss: 0.6406\n",
      "Early stopping at 25\n"
     ]
    },
    {
     "name": "stderr",
     "output_type": "stream",
     "text": [
      "C:\\Users\\sxiao15\\AppData\\Local\\Temp\\ipykernel_5632\\3120863025.py:26: RuntimeWarning: invalid value encountered in longlong_scalars\n",
      "  precision = TP/(TP + FP)\n"
     ]
    },
    {
     "name": "stdout",
     "output_type": "stream",
     "text": [
      "Epoch: 10/500............. Train Loss: 0.6418 Validation Loss: 0.6406\n",
      "Epoch: 20/500............. Train Loss: 0.6418 Validation Loss: 0.6406\n",
      "Early stopping at 24\n"
     ]
    },
    {
     "name": "stderr",
     "output_type": "stream",
     "text": [
      "C:\\Users\\sxiao15\\AppData\\Local\\Temp\\ipykernel_5632\\3120863025.py:26: RuntimeWarning: invalid value encountered in longlong_scalars\n",
      "  precision = TP/(TP + FP)\n"
     ]
    },
    {
     "name": "stdout",
     "output_type": "stream",
     "text": [
      "Epoch: 10/500............. Train Loss: 0.6418 Validation Loss: 0.6406\n",
      "Epoch: 20/500............. Train Loss: 0.6418 Validation Loss: 0.6406\n",
      "Early stopping at 29\n"
     ]
    },
    {
     "name": "stderr",
     "output_type": "stream",
     "text": [
      "C:\\Users\\sxiao15\\AppData\\Local\\Temp\\ipykernel_5632\\3120863025.py:26: RuntimeWarning: invalid value encountered in longlong_scalars\n",
      "  precision = TP/(TP + FP)\n"
     ]
    },
    {
     "name": "stdout",
     "output_type": "stream",
     "text": [
      "Epoch: 10/500............. Train Loss: 0.6418 Validation Loss: 0.6406\n",
      "Epoch: 20/500............. Train Loss: 0.6418 Validation Loss: 0.6406\n",
      "Early stopping at 21\n"
     ]
    },
    {
     "name": "stderr",
     "output_type": "stream",
     "text": [
      "C:\\Users\\sxiao15\\AppData\\Local\\Temp\\ipykernel_5632\\3120863025.py:26: RuntimeWarning: invalid value encountered in longlong_scalars\n",
      "  precision = TP/(TP + FP)\n"
     ]
    },
    {
     "name": "stdout",
     "output_type": "stream",
     "text": [
      "Epoch: 10/500............. Train Loss: 0.6418 Validation Loss: 0.6406\n",
      "Epoch: 20/500............. Train Loss: 0.6418 Validation Loss: 0.6406\n",
      "Early stopping at 26\n"
     ]
    },
    {
     "name": "stderr",
     "output_type": "stream",
     "text": [
      "C:\\Users\\sxiao15\\AppData\\Local\\Temp\\ipykernel_5632\\3120863025.py:26: RuntimeWarning: invalid value encountered in longlong_scalars\n",
      "  precision = TP/(TP + FP)\n"
     ]
    },
    {
     "name": "stdout",
     "output_type": "stream",
     "text": [
      "Epoch: 10/500............. Train Loss: 0.6418 Validation Loss: 0.6406\n",
      "Epoch: 20/500............. Train Loss: 0.6418 Validation Loss: 0.6406\n",
      "Early stopping at 27\n"
     ]
    },
    {
     "name": "stderr",
     "output_type": "stream",
     "text": [
      "C:\\Users\\sxiao15\\AppData\\Local\\Temp\\ipykernel_5632\\3120863025.py:26: RuntimeWarning: invalid value encountered in longlong_scalars\n",
      "  precision = TP/(TP + FP)\n"
     ]
    },
    {
     "name": "stdout",
     "output_type": "stream",
     "text": [
      "Epoch: 10/500............. Train Loss: 0.6418 Validation Loss: 0.6406\n",
      "Epoch: 20/500............. Train Loss: 0.6418 Validation Loss: 0.6406\n",
      "Early stopping at 22\n"
     ]
    },
    {
     "name": "stderr",
     "output_type": "stream",
     "text": [
      "C:\\Users\\sxiao15\\AppData\\Local\\Temp\\ipykernel_5632\\3120863025.py:26: RuntimeWarning: invalid value encountered in longlong_scalars\n",
      "  precision = TP/(TP + FP)\n"
     ]
    },
    {
     "name": "stdout",
     "output_type": "stream",
     "text": [
      "Epoch: 10/500............. Train Loss: 0.6401 Validation Loss: 0.6406\n",
      "Epoch: 20/500............. Train Loss: 0.6418 Validation Loss: 0.6406\n",
      "Early stopping at 27\n"
     ]
    },
    {
     "name": "stderr",
     "output_type": "stream",
     "text": [
      "C:\\Users\\sxiao15\\AppData\\Local\\Temp\\ipykernel_5632\\3120863025.py:26: RuntimeWarning: invalid value encountered in longlong_scalars\n",
      "  precision = TP/(TP + FP)\n"
     ]
    },
    {
     "name": "stdout",
     "output_type": "stream",
     "text": [
      "Epoch: 10/500............. Train Loss: 0.6418 Validation Loss: 0.6406\n",
      "Epoch: 20/500............. Train Loss: 0.6418 Validation Loss: 0.6406\n",
      "Early stopping at 27\n"
     ]
    },
    {
     "name": "stderr",
     "output_type": "stream",
     "text": [
      "C:\\Users\\sxiao15\\AppData\\Local\\Temp\\ipykernel_5632\\3120863025.py:26: RuntimeWarning: invalid value encountered in longlong_scalars\n",
      "  precision = TP/(TP + FP)\n"
     ]
    },
    {
     "name": "stdout",
     "output_type": "stream",
     "text": [
      "Epoch: 10/500............. Train Loss: 0.6418 Validation Loss: 0.6406\n",
      "Epoch: 20/500............. Train Loss: 0.6418 Validation Loss: 0.6406\n",
      "Early stopping at 23\n"
     ]
    },
    {
     "name": "stderr",
     "output_type": "stream",
     "text": [
      "C:\\Users\\sxiao15\\AppData\\Local\\Temp\\ipykernel_5632\\3120863025.py:26: RuntimeWarning: invalid value encountered in longlong_scalars\n",
      "  precision = TP/(TP + FP)\n"
     ]
    },
    {
     "name": "stdout",
     "output_type": "stream",
     "text": [
      "Epoch: 10/500............. Train Loss: 0.6418 Validation Loss: 0.6406\n",
      "Epoch: 20/500............. Train Loss: 0.6418 Validation Loss: 0.6406\n",
      "Early stopping at 22\n"
     ]
    },
    {
     "name": "stderr",
     "output_type": "stream",
     "text": [
      "C:\\Users\\sxiao15\\AppData\\Local\\Temp\\ipykernel_5632\\3120863025.py:26: RuntimeWarning: invalid value encountered in longlong_scalars\n",
      "  precision = TP/(TP + FP)\n"
     ]
    },
    {
     "name": "stdout",
     "output_type": "stream",
     "text": [
      "Epoch: 10/500............. Train Loss: 0.6418 Validation Loss: 0.6406\n",
      "Epoch: 20/500............. Train Loss: 0.6418 Validation Loss: 0.6406\n",
      "Early stopping at 21\n"
     ]
    },
    {
     "name": "stderr",
     "output_type": "stream",
     "text": [
      "C:\\Users\\sxiao15\\AppData\\Local\\Temp\\ipykernel_5632\\3120863025.py:26: RuntimeWarning: invalid value encountered in longlong_scalars\n",
      "  precision = TP/(TP + FP)\n"
     ]
    },
    {
     "name": "stdout",
     "output_type": "stream",
     "text": [
      "Epoch: 10/500............. Train Loss: 0.6418 Validation Loss: 0.6406\n",
      "Epoch: 20/500............. Train Loss: 0.6418 Validation Loss: 0.6406\n",
      "Early stopping at 25\n"
     ]
    },
    {
     "name": "stderr",
     "output_type": "stream",
     "text": [
      "C:\\Users\\sxiao15\\AppData\\Local\\Temp\\ipykernel_5632\\3120863025.py:26: RuntimeWarning: invalid value encountered in longlong_scalars\n",
      "  precision = TP/(TP + FP)\n"
     ]
    },
    {
     "name": "stdout",
     "output_type": "stream",
     "text": [
      "Epoch: 10/500............. Train Loss: 0.6418 Validation Loss: 0.6406\n",
      "Epoch: 20/500............. Train Loss: 0.6418 Validation Loss: 0.6406\n",
      "Early stopping at 23\n"
     ]
    },
    {
     "name": "stderr",
     "output_type": "stream",
     "text": [
      "C:\\Users\\sxiao15\\AppData\\Local\\Temp\\ipykernel_5632\\3120863025.py:26: RuntimeWarning: invalid value encountered in longlong_scalars\n",
      "  precision = TP/(TP + FP)\n"
     ]
    },
    {
     "name": "stdout",
     "output_type": "stream",
     "text": [
      "Epoch: 10/500............. Train Loss: 0.6418 Validation Loss: 0.6406\n",
      "Epoch: 20/500............. Train Loss: 0.6418 Validation Loss: 0.6406\n",
      "Early stopping at 22\n"
     ]
    },
    {
     "name": "stderr",
     "output_type": "stream",
     "text": [
      "C:\\Users\\sxiao15\\AppData\\Local\\Temp\\ipykernel_5632\\3120863025.py:26: RuntimeWarning: invalid value encountered in longlong_scalars\n",
      "  precision = TP/(TP + FP)\n"
     ]
    },
    {
     "name": "stdout",
     "output_type": "stream",
     "text": [
      "Epoch: 10/500............. Train Loss: 0.6418 Validation Loss: 0.6406\n",
      "Epoch: 20/500............. Train Loss: 0.6418 Validation Loss: 0.6406\n",
      "Early stopping at 22\n"
     ]
    },
    {
     "name": "stderr",
     "output_type": "stream",
     "text": [
      "C:\\Users\\sxiao15\\AppData\\Local\\Temp\\ipykernel_5632\\3120863025.py:26: RuntimeWarning: invalid value encountered in longlong_scalars\n",
      "  precision = TP/(TP + FP)\n"
     ]
    },
    {
     "name": "stdout",
     "output_type": "stream",
     "text": [
      "Epoch: 10/500............. Train Loss: 0.6418 Validation Loss: 0.6406\n",
      "Epoch: 20/500............. Train Loss: 0.6418 Validation Loss: 0.6406\n",
      "Early stopping at 21\n"
     ]
    },
    {
     "name": "stderr",
     "output_type": "stream",
     "text": [
      "C:\\Users\\sxiao15\\AppData\\Local\\Temp\\ipykernel_5632\\3120863025.py:26: RuntimeWarning: invalid value encountered in longlong_scalars\n",
      "  precision = TP/(TP + FP)\n"
     ]
    },
    {
     "name": "stdout",
     "output_type": "stream",
     "text": [
      "Epoch: 10/500............. Train Loss: 0.6417 Validation Loss: 0.6405\n",
      "Epoch: 20/500............. Train Loss: 0.6417 Validation Loss: 0.6406\n",
      "Epoch: 30/500............. Train Loss: 0.6417 Validation Loss: 0.6406\n",
      "Epoch: 40/500............. Train Loss: 0.6417 Validation Loss: 0.6405\n",
      "Epoch: 50/500............. Train Loss: 0.6416 Validation Loss: 0.6404\n",
      "Epoch: 60/500............. Train Loss: 0.6408 Validation Loss: 0.6398\n",
      "Early stopping at 65\n"
     ]
    },
    {
     "name": "stderr",
     "output_type": "stream",
     "text": [
      "C:\\Users\\sxiao15\\AppData\\Local\\Temp\\ipykernel_5632\\3120863025.py:26: RuntimeWarning: invalid value encountered in longlong_scalars\n",
      "  precision = TP/(TP + FP)\n"
     ]
    },
    {
     "name": "stdout",
     "output_type": "stream",
     "text": [
      "Epoch: 10/500............. Train Loss: 0.6418 Validation Loss: 0.6406\n",
      "Epoch: 20/500............. Train Loss: 0.6418 Validation Loss: 0.6406\n",
      "Early stopping at 23\n"
     ]
    },
    {
     "name": "stderr",
     "output_type": "stream",
     "text": [
      "C:\\Users\\sxiao15\\AppData\\Local\\Temp\\ipykernel_5632\\3120863025.py:26: RuntimeWarning: invalid value encountered in longlong_scalars\n",
      "  precision = TP/(TP + FP)\n"
     ]
    },
    {
     "name": "stdout",
     "output_type": "stream",
     "text": [
      "Epoch: 10/500............. Train Loss: 0.6415 Validation Loss: 0.6404\n",
      "Epoch: 20/500............. Train Loss: 0.6414 Validation Loss: 0.6402\n",
      "Epoch: 30/500............. Train Loss: 0.6409 Validation Loss: 0.6399\n",
      "Epoch: 40/500............. Train Loss: 0.6407 Validation Loss: 0.6397\n",
      "Early stopping at 50\n"
     ]
    },
    {
     "name": "stderr",
     "output_type": "stream",
     "text": [
      "C:\\Users\\sxiao15\\AppData\\Local\\Temp\\ipykernel_5632\\3120863025.py:26: RuntimeWarning: invalid value encountered in longlong_scalars\n",
      "  precision = TP/(TP + FP)\n"
     ]
    },
    {
     "name": "stdout",
     "output_type": "stream",
     "text": [
      "Epoch: 10/500............. Train Loss: 0.6417 Validation Loss: 0.6406\n",
      "Epoch: 20/500............. Train Loss: 0.6417 Validation Loss: 0.6406\n",
      "Epoch: 30/500............. Train Loss: 0.6417 Validation Loss: 0.6406\n",
      "Epoch: 40/500............. Train Loss: 0.6417 Validation Loss: 0.6405\n",
      "Epoch: 50/500............. Train Loss: 0.6416 Validation Loss: 0.6404\n",
      "Early stopping at 60\n"
     ]
    },
    {
     "name": "stderr",
     "output_type": "stream",
     "text": [
      "C:\\Users\\sxiao15\\AppData\\Local\\Temp\\ipykernel_5632\\3120863025.py:26: RuntimeWarning: invalid value encountered in longlong_scalars\n",
      "  precision = TP/(TP + FP)\n"
     ]
    },
    {
     "name": "stdout",
     "output_type": "stream",
     "text": [
      "Epoch: 10/500............. Train Loss: 0.6416 Validation Loss: 0.6406\n",
      "Epoch: 20/500............. Train Loss: 0.6413 Validation Loss: 0.6406\n",
      "Epoch: 30/500............. Train Loss: 0.6205 Validation Loss: 0.6454\n",
      "Early stopping at 36\n",
      "Epoch: 10/500............. Train Loss: 0.6417 Validation Loss: 0.6406\n",
      "Epoch: 20/500............. Train Loss: 0.6418 Validation Loss: 0.6406\n",
      "Epoch: 30/500............. Train Loss: 0.6417 Validation Loss: 0.6406\n",
      "Epoch: 40/500............. Train Loss: 0.6417 Validation Loss: 0.6405\n",
      "Epoch: 50/500............. Train Loss: 0.6279 Validation Loss: 0.6315\n",
      "Early stopping at 53\n",
      "Epoch: 10/500............. Train Loss: 0.6416 Validation Loss: 0.6405\n",
      "Epoch: 20/500............. Train Loss: 0.6415 Validation Loss: 0.6405\n",
      "Epoch: 30/500............. Train Loss: 0.6399 Validation Loss: 0.6384\n",
      "Early stopping at 37\n"
     ]
    },
    {
     "name": "stderr",
     "output_type": "stream",
     "text": [
      "C:\\Users\\sxiao15\\AppData\\Local\\Temp\\ipykernel_5632\\3120863025.py:26: RuntimeWarning: invalid value encountered in longlong_scalars\n",
      "  precision = TP/(TP + FP)\n"
     ]
    },
    {
     "name": "stdout",
     "output_type": "stream",
     "text": [
      "Epoch: 10/500............. Train Loss: 0.6415 Validation Loss: 0.6404\n",
      "Epoch: 20/500............. Train Loss: 0.6414 Validation Loss: 0.6403\n",
      "Epoch: 30/500............. Train Loss: 0.6409 Validation Loss: 0.6399\n",
      "Epoch: 40/500............. Train Loss: 0.6407 Validation Loss: 0.6397\n",
      "Early stopping at 49\n"
     ]
    },
    {
     "name": "stderr",
     "output_type": "stream",
     "text": [
      "C:\\Users\\sxiao15\\AppData\\Local\\Temp\\ipykernel_5632\\3120863025.py:26: RuntimeWarning: invalid value encountered in longlong_scalars\n",
      "  precision = TP/(TP + FP)\n"
     ]
    },
    {
     "name": "stdout",
     "output_type": "stream",
     "text": [
      "Epoch: 10/500............. Train Loss: 0.6415 Validation Loss: 0.6403\n",
      "Epoch: 20/500............. Train Loss: 0.6413 Validation Loss: 0.6402\n",
      "Epoch: 30/500............. Train Loss: 0.6408 Validation Loss: 0.6399\n",
      "Epoch: 40/500............. Train Loss: 0.6407 Validation Loss: 0.6397\n",
      "Early stopping at 50\n"
     ]
    },
    {
     "name": "stderr",
     "output_type": "stream",
     "text": [
      "C:\\Users\\sxiao15\\AppData\\Local\\Temp\\ipykernel_5632\\3120863025.py:26: RuntimeWarning: invalid value encountered in longlong_scalars\n",
      "  precision = TP/(TP + FP)\n"
     ]
    },
    {
     "name": "stdout",
     "output_type": "stream",
     "text": [
      "Epoch: 10/500............. Train Loss: 0.6418 Validation Loss: 0.6406\n",
      "Epoch: 20/500............. Train Loss: 0.6418 Validation Loss: 0.6406\n",
      "Early stopping at 25\n"
     ]
    },
    {
     "name": "stderr",
     "output_type": "stream",
     "text": [
      "C:\\Users\\sxiao15\\AppData\\Local\\Temp\\ipykernel_5632\\3120863025.py:26: RuntimeWarning: invalid value encountered in longlong_scalars\n",
      "  precision = TP/(TP + FP)\n"
     ]
    },
    {
     "name": "stdout",
     "output_type": "stream",
     "text": [
      "Epoch: 10/500............. Train Loss: 0.6418 Validation Loss: 0.6406\n",
      "Epoch: 20/500............. Train Loss: 0.6418 Validation Loss: 0.6406\n",
      "Early stopping at 21\n"
     ]
    },
    {
     "name": "stderr",
     "output_type": "stream",
     "text": [
      "C:\\Users\\sxiao15\\AppData\\Local\\Temp\\ipykernel_5632\\3120863025.py:26: RuntimeWarning: invalid value encountered in longlong_scalars\n",
      "  precision = TP/(TP + FP)\n"
     ]
    },
    {
     "name": "stdout",
     "output_type": "stream",
     "text": [
      "Epoch: 10/500............. Train Loss: 0.6417 Validation Loss: 0.6406\n",
      "Epoch: 20/500............. Train Loss: 0.6417 Validation Loss: 0.6406\n",
      "Epoch: 30/500............. Train Loss: 0.6411 Validation Loss: 0.6398\n",
      "Epoch: 40/500............. Train Loss: 0.6408 Validation Loss: 0.6398\n",
      "Early stopping at 44\n"
     ]
    },
    {
     "name": "stderr",
     "output_type": "stream",
     "text": [
      "C:\\Users\\sxiao15\\AppData\\Local\\Temp\\ipykernel_5632\\3120863025.py:26: RuntimeWarning: invalid value encountered in longlong_scalars\n",
      "  precision = TP/(TP + FP)\n"
     ]
    },
    {
     "name": "stdout",
     "output_type": "stream",
     "text": [
      "Epoch: 10/500............. Train Loss: 0.6413 Validation Loss: 0.6402\n",
      "Epoch: 20/500............. Train Loss: 0.6405 Validation Loss: 0.6404\n",
      "Epoch: 30/500............. Train Loss: 0.6398 Validation Loss: 0.6396\n",
      "Epoch: 40/500............. Train Loss: 0.6397 Validation Loss: 0.6396\n",
      "Early stopping at 42\n"
     ]
    },
    {
     "name": "stderr",
     "output_type": "stream",
     "text": [
      "C:\\Users\\sxiao15\\AppData\\Local\\Temp\\ipykernel_5632\\3120863025.py:26: RuntimeWarning: invalid value encountered in longlong_scalars\n",
      "  precision = TP/(TP + FP)\n"
     ]
    },
    {
     "name": "stdout",
     "output_type": "stream",
     "text": [
      "Epoch: 10/500............. Train Loss: 0.6313 Validation Loss: 0.6465\n",
      "Epoch: 20/500............. Train Loss: 0.6172 Validation Loss: 0.6405\n",
      "Epoch: 30/500............. Train Loss: 0.6418 Validation Loss: 0.6406\n",
      "Early stopping at 33\n"
     ]
    },
    {
     "name": "stderr",
     "output_type": "stream",
     "text": [
      "C:\\Users\\sxiao15\\AppData\\Local\\Temp\\ipykernel_5632\\3120863025.py:26: RuntimeWarning: invalid value encountered in longlong_scalars\n",
      "  precision = TP/(TP + FP)\n"
     ]
    },
    {
     "name": "stdout",
     "output_type": "stream",
     "text": [
      "Epoch: 10/500............. Train Loss: 0.6417 Validation Loss: 0.6406\n",
      "Epoch: 20/500............. Train Loss: 0.6417 Validation Loss: 0.6406\n",
      "Epoch: 30/500............. Train Loss: 0.6416 Validation Loss: 0.6404\n",
      "Epoch: 40/500............. Train Loss: 0.6408 Validation Loss: 0.6399\n",
      "Early stopping at 49\n"
     ]
    },
    {
     "name": "stderr",
     "output_type": "stream",
     "text": [
      "C:\\Users\\sxiao15\\AppData\\Local\\Temp\\ipykernel_5632\\3120863025.py:26: RuntimeWarning: invalid value encountered in longlong_scalars\n",
      "  precision = TP/(TP + FP)\n"
     ]
    },
    {
     "name": "stdout",
     "output_type": "stream",
     "text": [
      "Epoch: 10/500............. Train Loss: 0.6418 Validation Loss: 0.6406\n",
      "Epoch: 20/500............. Train Loss: 0.6418 Validation Loss: 0.6406\n",
      "Early stopping at 22\n"
     ]
    },
    {
     "name": "stderr",
     "output_type": "stream",
     "text": [
      "C:\\Users\\sxiao15\\AppData\\Local\\Temp\\ipykernel_5632\\3120863025.py:26: RuntimeWarning: invalid value encountered in longlong_scalars\n",
      "  precision = TP/(TP + FP)\n"
     ]
    },
    {
     "name": "stdout",
     "output_type": "stream",
     "text": [
      "Epoch: 10/500............. Train Loss: 0.6417 Validation Loss: 0.6405\n",
      "Epoch: 20/500............. Train Loss: 0.6414 Validation Loss: 0.6401\n",
      "Epoch: 30/500............. Train Loss: 0.6408 Validation Loss: 0.6397\n",
      "Epoch: 40/500............. Train Loss: 0.6408 Validation Loss: 0.6397\n",
      "Early stopping at 49\n"
     ]
    },
    {
     "name": "stderr",
     "output_type": "stream",
     "text": [
      "C:\\Users\\sxiao15\\AppData\\Local\\Temp\\ipykernel_5632\\3120863025.py:26: RuntimeWarning: invalid value encountered in longlong_scalars\n",
      "  precision = TP/(TP + FP)\n"
     ]
    },
    {
     "name": "stdout",
     "output_type": "stream",
     "text": [
      "Epoch: 10/500............. Train Loss: 0.6416 Validation Loss: 0.6405\n",
      "Epoch: 20/500............. Train Loss: 0.6412 Validation Loss: 0.6399\n",
      "Epoch: 30/500............. Train Loss: 0.6408 Validation Loss: 0.6398\n",
      "Epoch: 40/500............. Train Loss: 0.6408 Validation Loss: 0.6397\n",
      "Early stopping at 47\n"
     ]
    },
    {
     "name": "stderr",
     "output_type": "stream",
     "text": [
      "C:\\Users\\sxiao15\\AppData\\Local\\Temp\\ipykernel_5632\\3120863025.py:26: RuntimeWarning: invalid value encountered in longlong_scalars\n",
      "  precision = TP/(TP + FP)\n"
     ]
    },
    {
     "name": "stdout",
     "output_type": "stream",
     "text": [
      "Epoch: 10/500............. Train Loss: 0.6418 Validation Loss: 0.6406\n",
      "Epoch: 20/500............. Train Loss: 0.6418 Validation Loss: 0.6406\n",
      "Early stopping at 21\n"
     ]
    },
    {
     "name": "stderr",
     "output_type": "stream",
     "text": [
      "C:\\Users\\sxiao15\\AppData\\Local\\Temp\\ipykernel_5632\\3120863025.py:26: RuntimeWarning: invalid value encountered in longlong_scalars\n",
      "  precision = TP/(TP + FP)\n"
     ]
    },
    {
     "name": "stdout",
     "output_type": "stream",
     "text": [
      "Epoch: 10/500............. Train Loss: 0.6418 Validation Loss: 0.6406\n",
      "Epoch: 20/500............. Train Loss: 0.6418 Validation Loss: 0.6406\n",
      "Early stopping at 24\n"
     ]
    },
    {
     "name": "stderr",
     "output_type": "stream",
     "text": [
      "C:\\Users\\sxiao15\\AppData\\Local\\Temp\\ipykernel_5632\\3120863025.py:26: RuntimeWarning: invalid value encountered in longlong_scalars\n",
      "  precision = TP/(TP + FP)\n"
     ]
    },
    {
     "name": "stdout",
     "output_type": "stream",
     "text": [
      "Epoch: 10/500............. Train Loss: 0.6416 Validation Loss: 0.6404\n",
      "Epoch: 20/500............. Train Loss: 0.6409 Validation Loss: 0.6398\n",
      "Epoch: 30/500............. Train Loss: 0.6405 Validation Loss: 0.6398\n",
      "Epoch: 40/500............. Train Loss: 0.6249 Validation Loss: 0.6406\n",
      "Early stopping at 45\n"
     ]
    },
    {
     "name": "stderr",
     "output_type": "stream",
     "text": [
      "C:\\Users\\sxiao15\\AppData\\Local\\Temp\\ipykernel_5632\\3120863025.py:26: RuntimeWarning: invalid value encountered in longlong_scalars\n",
      "  precision = TP/(TP + FP)\n"
     ]
    },
    {
     "name": "stdout",
     "output_type": "stream",
     "text": [
      "Epoch: 10/500............. Train Loss: 0.6418 Validation Loss: 0.6406\n",
      "Epoch: 20/500............. Train Loss: 0.6418 Validation Loss: 0.6406\n",
      "Early stopping at 22\n"
     ]
    },
    {
     "name": "stderr",
     "output_type": "stream",
     "text": [
      "C:\\Users\\sxiao15\\AppData\\Local\\Temp\\ipykernel_5632\\3120863025.py:26: RuntimeWarning: invalid value encountered in longlong_scalars\n",
      "  precision = TP/(TP + FP)\n"
     ]
    },
    {
     "name": "stdout",
     "output_type": "stream",
     "text": [
      "Epoch: 10/500............. Train Loss: 0.6418 Validation Loss: 0.6406\n",
      "Epoch: 20/500............. Train Loss: 0.6418 Validation Loss: 0.6406\n",
      "Early stopping at 26\n"
     ]
    },
    {
     "name": "stderr",
     "output_type": "stream",
     "text": [
      "C:\\Users\\sxiao15\\AppData\\Local\\Temp\\ipykernel_5632\\3120863025.py:26: RuntimeWarning: invalid value encountered in longlong_scalars\n",
      "  precision = TP/(TP + FP)\n"
     ]
    },
    {
     "name": "stdout",
     "output_type": "stream",
     "text": [
      "Epoch: 10/500............. Train Loss: 0.6418 Validation Loss: 0.6406\n",
      "Epoch: 20/500............. Train Loss: 0.6418 Validation Loss: 0.6406\n",
      "Early stopping at 24\n"
     ]
    },
    {
     "name": "stderr",
     "output_type": "stream",
     "text": [
      "C:\\Users\\sxiao15\\AppData\\Local\\Temp\\ipykernel_5632\\3120863025.py:26: RuntimeWarning: invalid value encountered in longlong_scalars\n",
      "  precision = TP/(TP + FP)\n"
     ]
    },
    {
     "name": "stdout",
     "output_type": "stream",
     "text": [
      "Epoch: 10/500............. Train Loss: 0.6418 Validation Loss: 0.6406\n",
      "Epoch: 20/500............. Train Loss: 0.6418 Validation Loss: 0.6406\n",
      "Early stopping at 25\n"
     ]
    },
    {
     "name": "stderr",
     "output_type": "stream",
     "text": [
      "C:\\Users\\sxiao15\\AppData\\Local\\Temp\\ipykernel_5632\\3120863025.py:26: RuntimeWarning: invalid value encountered in longlong_scalars\n",
      "  precision = TP/(TP + FP)\n"
     ]
    },
    {
     "name": "stdout",
     "output_type": "stream",
     "text": [
      "Epoch: 10/500............. Train Loss: 0.6418 Validation Loss: 0.6406\n",
      "Epoch: 20/500............. Train Loss: 0.6418 Validation Loss: 0.6406\n",
      "Early stopping at 25\n"
     ]
    },
    {
     "name": "stderr",
     "output_type": "stream",
     "text": [
      "C:\\Users\\sxiao15\\AppData\\Local\\Temp\\ipykernel_5632\\3120863025.py:26: RuntimeWarning: invalid value encountered in longlong_scalars\n",
      "  precision = TP/(TP + FP)\n"
     ]
    },
    {
     "name": "stdout",
     "output_type": "stream",
     "text": [
      "Epoch: 10/500............. Train Loss: 0.6418 Validation Loss: 0.6406\n",
      "Epoch: 20/500............. Train Loss: 0.6418 Validation Loss: 0.6406\n",
      "Early stopping at 21\n"
     ]
    },
    {
     "name": "stderr",
     "output_type": "stream",
     "text": [
      "C:\\Users\\sxiao15\\AppData\\Local\\Temp\\ipykernel_5632\\3120863025.py:26: RuntimeWarning: invalid value encountered in longlong_scalars\n",
      "  precision = TP/(TP + FP)\n"
     ]
    }
   ],
   "source": [
    "best_parameter, best_model,best_auc = parameter_tuning(train_val_data,parameter_space,cv_time =3,seed = 999,outcome = outcome)"
   ]
  },
  {
   "cell_type": "code",
   "execution_count": 122,
   "id": "11871e2c",
   "metadata": {},
   "outputs": [
    {
     "data": {
      "text/plain": [
       "0.6536971368531653"
      ]
     },
     "execution_count": 122,
     "metadata": {},
     "output_type": "execute_result"
    }
   ],
   "source": [
    "best_auc"
   ]
  },
  {
   "cell_type": "code",
   "execution_count": 123,
   "id": "8af95840",
   "metadata": {},
   "outputs": [
    {
     "data": {
      "text/plain": [
       "(0.001, 30, 10, 0.05)"
      ]
     },
     "execution_count": 123,
     "metadata": {},
     "output_type": "execute_result"
    }
   ],
   "source": [
    "best_parameter"
   ]
  },
  {
   "cell_type": "code",
   "execution_count": 124,
   "id": "94f8b7b4",
   "metadata": {
    "scrolled": true
   },
   "outputs": [],
   "source": [
    "test_acc,test_sensitivity,test_specificity, \\\n",
    "test_auc,test_precision,test_confusion,test_result_tab = \\\n",
    "test_metrics(best_model, test_data, outcome = outcome)\n"
   ]
  },
  {
   "cell_type": "code",
   "execution_count": 127,
   "id": "41e8cfe8",
   "metadata": {},
   "outputs": [],
   "source": [
    "test_result_tab.to_csv('test_error_analysis.csv')"
   ]
  },
  {
   "cell_type": "code",
   "execution_count": 128,
   "id": "9c4564e3",
   "metadata": {},
   "outputs": [],
   "source": [
    "test_metrics(best_model, train_val_data, outcome = outcome)[6].to_csv('train_val_error_analysis.csv')"
   ]
  },
  {
   "cell_type": "code",
   "execution_count": null,
   "id": "54830e5f",
   "metadata": {},
   "outputs": [],
   "source": [
    "# def project_cross_val(features,train_ratio = 0.7, learn_rate = 0.01,hidden_dim = 18, n_layers = 1, device = device, \\\n",
    "#                       batch_size = 1000,drop_prob = 0.2, EPOCHS = 1000, output_dim = 2, method = \"RNN\", \\\n",
    "#                       out_var = \"was_preterm\",label_smooth= True, multi_outcome= True):\n",
    "    \n",
    "#     ##check argument validity\n",
    "#     if out_var != \"was_preterm\" and out_var != \"was_early_preterm\":\n",
    "#         raise ValueError(\"outcome must be was_preterm or was_early_preterm\")\n",
    "    \n",
    "#     ##obtain data by goal\n",
    "#     if out_var == \"was_preterm\":\n",
    "#         data = mydata_preterm\n",
    "#     else:\n",
    "#         data = mydata_epreterm\n",
    "        \n",
    "#     project_list = data['project'].unique()\n",
    "#      ##accuracy, sen, spe, auc score\n",
    "#     train_loss = {}\n",
    "#     val_loss = {}\n",
    "#     acc = {}\n",
    "#     sen = {}\n",
    "#     spe = {}\n",
    "#     auc = {}\n",
    "#     precision = {}\n",
    "#     result_tabs = {}\n",
    "    \n",
    "    \n",
    "#     for project in project_list:\n",
    "#         train_list = data[data['project']!= project].groupby('participant_id').first().sort_index(axis = 0)\n",
    "#         train_id = list(train_list.groupby(out_var).sample(frac = train_ratio, random_state = 100).sort_index(axis = 0).index)\n",
    "#         val_id = np.setdiff1d(list(train_list.index),train_id)\n",
    "#         test_id = list(data[data['project']== project].groupby('participant_id').first().sort_index(axis = 0).index)\n",
    "#         train_x, train_y = tensor_generator(data,train_id,features = features, \\\n",
    "#                                             out_var= \"was_preterm\", \\\n",
    "#                                             label_smooth= label_smooth, multi_outcome= multi_outcome)\n",
    "#         val_x, val_y = tensor_generator(data,val_id,features = features, \\\n",
    "#                                             out_var= \"was_preterm\", \\\n",
    "#                                             label_smooth= label_smooth, multi_outcome= multi_outcome)\n",
    "        \n",
    "#         train_dataloader = dataloader(train_x, train_y,batch_size =  batch_size)\n",
    "#         val_dataloader = dataloader(val_x, val_y,batch_size =  batch_size)\n",
    "#         model, train_loss[project],val_loss[project] = train_epoch(train_dataloader,val_dataloader, learn_rate = learn_rate, \\\n",
    "#                 hidden_dim = hidden_dim, n_layers = n_layers, drop_prob = drop_prob, \\\n",
    "#                 device = device, EPOCHS = EPOCHS, output_dim = output_dim, method = method)\n",
    "        \n",
    "#         acc[project],sen[project],spe[project],auc[project],precision[project],result_tabs[project] = \\\n",
    "#         test_metrics(model, data,test_id,features, out_var = out_var, multi_outcome = multi_outcome)\n",
    "    \n",
    "#     return train_loss,val_loss, result_tabs ,pd.DataFrame([acc,sen,spe,precision,auc], \\\n",
    "#                                                  index = ['accuracy','sensitivity','specificity','precision','AUC'])\n",
    "    \n",
    "   \n",
    "    "
   ]
  },
  {
   "cell_type": "code",
   "execution_count": null,
   "id": "129ed10f",
   "metadata": {},
   "outputs": [],
   "source": []
  }
 ],
 "metadata": {
  "kernelspec": {
   "display_name": "Python [conda env:dream_dl] *",
   "language": "python",
   "name": "conda-env-dream_dl-py"
  },
  "language_info": {
   "codemirror_mode": {
    "name": "ipython",
    "version": 3
   },
   "file_extension": ".py",
   "mimetype": "text/x-python",
   "name": "python",
   "nbconvert_exporter": "python",
   "pygments_lexer": "ipython3",
   "version": "3.8.13"
  }
 },
 "nbformat": 4,
 "nbformat_minor": 5
}
