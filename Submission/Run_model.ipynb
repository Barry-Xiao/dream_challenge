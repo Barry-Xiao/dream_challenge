{
 "cells": [
  {
   "cell_type": "markdown",
   "id": "6f04fe12",
   "metadata": {},
   "source": [
    "## Load packages"
   ]
  },
  {
   "cell_type": "code",
   "execution_count": 2,
   "id": "e4edb010",
   "metadata": {},
   "outputs": [],
   "source": [
    "import pandas as pd\n",
    "import numpy as np\n",
    "import os\n",
    "\n",
    "import torch\n",
    "import torch.nn as nn\n",
    "import torch.nn.functional as F\n",
    "from torch.utils.data import TensorDataset, DataLoader\n",
    "\n",
    "from sklearn import metrics\n",
    "from joblib import dump, load"
   ]
  },
  {
   "cell_type": "markdown",
   "id": "8263a383",
   "metadata": {},
   "source": [
    "## Set seed"
   ]
  },
  {
   "cell_type": "code",
   "execution_count": 3,
   "id": "e1685743",
   "metadata": {},
   "outputs": [],
   "source": [
    "random_seed = 8022022 # or any of your favorite number \n",
    "torch.manual_seed(random_seed)\n",
    "torch.cuda.manual_seed(random_seed)\n",
    "torch.backends.cudnn.deterministic = True\n",
    "torch.backends.cudnn.benchmark = False\n",
    "np.random.seed(random_seed)"
   ]
  },
  {
   "cell_type": "markdown",
   "id": "d3d521e6",
   "metadata": {},
   "source": [
    "## Setting outcome"
   ]
  },
  {
   "cell_type": "code",
   "execution_count": 4,
   "id": "c155bd36",
   "metadata": {},
   "outputs": [],
   "source": [
    "outcome = \"was_preterm\""
   ]
  },
  {
   "cell_type": "markdown",
   "id": "bc5cd195",
   "metadata": {},
   "source": [
    "## Loading data"
   ]
  },
  {
   "cell_type": "code",
   "execution_count": 5,
   "id": "d3070283",
   "metadata": {},
   "outputs": [],
   "source": [
    "metadata = pd.read_csv('./input/metadata/metadata.csv', delimiter=',',index_col = 'specimen')\n",
    "metadata_feature = ['participant_id','project','collect_wk']\n",
    "metadata_selected = metadata[metadata_feature].sort_index()"
   ]
  },
  {
   "cell_type": "code",
   "execution_count": 6,
   "id": "64505059",
   "metadata": {},
   "outputs": [],
   "source": [
    "CST = pd.read_csv('./input/community_state_types/cst_valencia.csv', delimiter=',',index_col = 'specimen')['CST'].sort_index()"
   ]
  },
  {
   "cell_type": "code",
   "execution_count": 7,
   "id": "9b7f7a86",
   "metadata": {},
   "outputs": [],
   "source": [
    "alpha = pd.read_csv('./input/alpha_diversity/alpha_diversity.csv', delimiter=',',index_col = 'specimen').sort_index()"
   ]
  },
  {
   "cell_type": "code",
   "execution_count": 8,
   "id": "6dd94f01",
   "metadata": {},
   "outputs": [],
   "source": [
    "taxonomy = pd.read_csv('./input/taxonomy/taxonomy_relabd.family.csv', delimiter=',',index_col = 'specimen')\n",
    "tax_feature = list(pd.read_csv('./selected_feature/tax_family_preterm.csv', delimiter=',').feature_selected)\n",
    "taxonomy_selected = taxonomy[tax_feature].sort_index()"
   ]
  },
  {
   "cell_type": "code",
   "execution_count": 9,
   "id": "64375d6f",
   "metadata": {},
   "outputs": [],
   "source": [
    "phylotype = pd.read_csv('./input/phylotypes/phylotype_relabd.1e_1.csv', delimiter=',',index_col = 'specimen')\n",
    "phylo_feature = list(pd.read_csv('./selected_feature/phylo_.1_preterm.csv', delimiter=',').feature_selected)\n",
    "phylotype_selected = phylotype[phylo_feature].sort_index()"
   ]
  },
  {
   "cell_type": "code",
   "execution_count": 10,
   "id": "c08c9984",
   "metadata": {},
   "outputs": [],
   "source": [
    "mydata = pd.concat([metadata_selected,CST,alpha,taxonomy_selected,phylotype_selected], axis = 1).copy()"
   ]
  },
  {
   "cell_type": "code",
   "execution_count": 11,
   "id": "554288fa",
   "metadata": {},
   "outputs": [
    {
     "data": {
      "text/plain": [
       "participant_id                      object\n",
       "project                           category\n",
       "collect_wk                         float64\n",
       "CST                               category\n",
       "shannon                            float64\n",
       "inv_simpson                        float64\n",
       "bwpd                               float64\n",
       "phylo_entropy                      float64\n",
       "quadratic                          float64\n",
       "unrooted_pd                        float64\n",
       "rooted_pd                          float64\n",
       "Prevotellaceae                     float64\n",
       "Corynebacteriaceae                 float64\n",
       "unclassified Clostridiales         float64\n",
       "Staphylococcaceae                  float64\n",
       "Bifidobacteriaceae                 float64\n",
       "Lachnospiraceae                    float64\n",
       "Fusobacteriaceae                   float64\n",
       "unclassified Corynebacteriales     float64\n",
       "Ruminococcaceae                    float64\n",
       "Mycoplasmataceae                   float64\n",
       "unclassified Tissierellia          float64\n",
       "Veillonellaceae                    float64\n",
       "Lactobacillaceae                   float64\n",
       "Bacteroidales                      float64\n",
       "Alcaligenaceae                     float64\n",
       "pt__00004                          float64\n",
       "pt__00090                          float64\n",
       "pt__00056                          float64\n",
       "pt__00042                          float64\n",
       "pt__00079                          float64\n",
       "pt__00024                          float64\n",
       "pt__00071                          float64\n",
       "pt__00092                          float64\n",
       "pt__00096                          float64\n",
       "pt__00007                          float64\n",
       "pt__00009                          float64\n",
       "pt__00041                          float64\n",
       "pt__00006                          float64\n",
       "pt__00021                          float64\n",
       "pt__00039                          float64\n",
       "pt__00126                          float64\n",
       "pt__00052                          float64\n",
       "dtype: object"
      ]
     },
     "execution_count": 11,
     "metadata": {},
     "output_type": "execute_result"
    }
   ],
   "source": [
    "mydata[\"project\"] = mydata[\"project\"].astype('category')\n",
    "mydata[\"CST\"] = mydata[\"CST\"].astype('category')\n",
    "\n",
    "\n",
    "mydata.dtypes"
   ]
  },
  {
   "cell_type": "code",
   "execution_count": 12,
   "id": "29d7d15f",
   "metadata": {},
   "outputs": [
    {
     "data": {
      "text/html": [
       "<div>\n",
       "<style scoped>\n",
       "    .dataframe tbody tr th:only-of-type {\n",
       "        vertical-align: middle;\n",
       "    }\n",
       "\n",
       "    .dataframe tbody tr th {\n",
       "        vertical-align: top;\n",
       "    }\n",
       "\n",
       "    .dataframe thead th {\n",
       "        text-align: right;\n",
       "    }\n",
       "</style>\n",
       "<table border=\"1\" class=\"dataframe\">\n",
       "  <thead>\n",
       "    <tr style=\"text-align: right;\">\n",
       "      <th></th>\n",
       "      <th>participant_id</th>\n",
       "      <th>project</th>\n",
       "      <th>collect_wk</th>\n",
       "      <th>CST</th>\n",
       "      <th>shannon</th>\n",
       "      <th>inv_simpson</th>\n",
       "      <th>bwpd</th>\n",
       "      <th>phylo_entropy</th>\n",
       "      <th>quadratic</th>\n",
       "      <th>unrooted_pd</th>\n",
       "      <th>...</th>\n",
       "      <th>pt__00092</th>\n",
       "      <th>pt__00096</th>\n",
       "      <th>pt__00007</th>\n",
       "      <th>pt__00009</th>\n",
       "      <th>pt__00041</th>\n",
       "      <th>pt__00006</th>\n",
       "      <th>pt__00021</th>\n",
       "      <th>pt__00039</th>\n",
       "      <th>pt__00126</th>\n",
       "      <th>pt__00052</th>\n",
       "    </tr>\n",
       "    <tr>\n",
       "      <th>specimen</th>\n",
       "      <th></th>\n",
       "      <th></th>\n",
       "      <th></th>\n",
       "      <th></th>\n",
       "      <th></th>\n",
       "      <th></th>\n",
       "      <th></th>\n",
       "      <th></th>\n",
       "      <th></th>\n",
       "      <th></th>\n",
       "      <th></th>\n",
       "      <th></th>\n",
       "      <th></th>\n",
       "      <th></th>\n",
       "      <th></th>\n",
       "      <th></th>\n",
       "      <th></th>\n",
       "      <th></th>\n",
       "      <th></th>\n",
       "      <th></th>\n",
       "      <th></th>\n",
       "    </tr>\n",
       "  </thead>\n",
       "  <tbody>\n",
       "    <tr>\n",
       "      <th>A00001-05</th>\n",
       "      <td>A00001</td>\n",
       "      <td>A</td>\n",
       "      <td>33.0</td>\n",
       "      <td>III</td>\n",
       "      <td>1.00000</td>\n",
       "      <td>1.00000</td>\n",
       "      <td>0.00000</td>\n",
       "      <td>-0.00000</td>\n",
       "      <td>0.000000</td>\n",
       "      <td>0.00000</td>\n",
       "      <td>...</td>\n",
       "      <td>0.0</td>\n",
       "      <td>0.0</td>\n",
       "      <td>0.003675</td>\n",
       "      <td>0.0</td>\n",
       "      <td>0.0</td>\n",
       "      <td>0.0</td>\n",
       "      <td>0.0</td>\n",
       "      <td>0.0</td>\n",
       "      <td>0.0</td>\n",
       "      <td>0.000000</td>\n",
       "    </tr>\n",
       "    <tr>\n",
       "      <th>A00002-01</th>\n",
       "      <td>A00002</td>\n",
       "      <td>A</td>\n",
       "      <td>38.0</td>\n",
       "      <td>III</td>\n",
       "      <td>1.96362</td>\n",
       "      <td>1.81277</td>\n",
       "      <td>2.62894</td>\n",
       "      <td>1.31887</td>\n",
       "      <td>0.876314</td>\n",
       "      <td>3.94341</td>\n",
       "      <td>...</td>\n",
       "      <td>0.0</td>\n",
       "      <td>0.0</td>\n",
       "      <td>0.000000</td>\n",
       "      <td>0.0</td>\n",
       "      <td>0.0</td>\n",
       "      <td>0.0</td>\n",
       "      <td>0.0</td>\n",
       "      <td>0.0</td>\n",
       "      <td>0.0</td>\n",
       "      <td>0.000000</td>\n",
       "    </tr>\n",
       "    <tr>\n",
       "      <th>A00003-02</th>\n",
       "      <td>A00003</td>\n",
       "      <td>A</td>\n",
       "      <td>30.0</td>\n",
       "      <td>II</td>\n",
       "      <td>1.00000</td>\n",
       "      <td>1.00000</td>\n",
       "      <td>0.00000</td>\n",
       "      <td>-0.00000</td>\n",
       "      <td>0.000000</td>\n",
       "      <td>0.00000</td>\n",
       "      <td>...</td>\n",
       "      <td>0.0</td>\n",
       "      <td>0.0</td>\n",
       "      <td>0.000000</td>\n",
       "      <td>0.0</td>\n",
       "      <td>0.0</td>\n",
       "      <td>0.0</td>\n",
       "      <td>0.0</td>\n",
       "      <td>0.0</td>\n",
       "      <td>0.0</td>\n",
       "      <td>0.000000</td>\n",
       "    </tr>\n",
       "    <tr>\n",
       "      <th>A00004-08</th>\n",
       "      <td>A00004</td>\n",
       "      <td>A</td>\n",
       "      <td>27.0</td>\n",
       "      <td>III</td>\n",
       "      <td>1.00000</td>\n",
       "      <td>1.00000</td>\n",
       "      <td>0.00000</td>\n",
       "      <td>-0.00000</td>\n",
       "      <td>0.000000</td>\n",
       "      <td>0.00000</td>\n",
       "      <td>...</td>\n",
       "      <td>0.0</td>\n",
       "      <td>0.0</td>\n",
       "      <td>0.000514</td>\n",
       "      <td>0.0</td>\n",
       "      <td>0.0</td>\n",
       "      <td>0.0</td>\n",
       "      <td>0.0</td>\n",
       "      <td>0.0</td>\n",
       "      <td>0.0</td>\n",
       "      <td>0.000000</td>\n",
       "    </tr>\n",
       "    <tr>\n",
       "      <th>A00004-12</th>\n",
       "      <td>A00004</td>\n",
       "      <td>A</td>\n",
       "      <td>29.0</td>\n",
       "      <td>III</td>\n",
       "      <td>6.94884</td>\n",
       "      <td>4.07385</td>\n",
       "      <td>2.78896</td>\n",
       "      <td>3.13422</td>\n",
       "      <td>1.219900</td>\n",
       "      <td>15.51850</td>\n",
       "      <td>...</td>\n",
       "      <td>0.0</td>\n",
       "      <td>0.0</td>\n",
       "      <td>0.000000</td>\n",
       "      <td>0.0</td>\n",
       "      <td>0.0</td>\n",
       "      <td>0.0</td>\n",
       "      <td>0.0</td>\n",
       "      <td>0.0</td>\n",
       "      <td>0.0</td>\n",
       "      <td>0.000183</td>\n",
       "    </tr>\n",
       "  </tbody>\n",
       "</table>\n",
       "<p>5 rows × 43 columns</p>\n",
       "</div>"
      ],
      "text/plain": [
       "          participant_id project  collect_wk  CST  shannon  inv_simpson  \\\n",
       "specimen                                                                  \n",
       "A00001-05         A00001       A        33.0  III  1.00000      1.00000   \n",
       "A00002-01         A00002       A        38.0  III  1.96362      1.81277   \n",
       "A00003-02         A00003       A        30.0   II  1.00000      1.00000   \n",
       "A00004-08         A00004       A        27.0  III  1.00000      1.00000   \n",
       "A00004-12         A00004       A        29.0  III  6.94884      4.07385   \n",
       "\n",
       "              bwpd  phylo_entropy  quadratic  unrooted_pd  ...  pt__00092  \\\n",
       "specimen                                                   ...              \n",
       "A00001-05  0.00000       -0.00000   0.000000      0.00000  ...        0.0   \n",
       "A00002-01  2.62894        1.31887   0.876314      3.94341  ...        0.0   \n",
       "A00003-02  0.00000       -0.00000   0.000000      0.00000  ...        0.0   \n",
       "A00004-08  0.00000       -0.00000   0.000000      0.00000  ...        0.0   \n",
       "A00004-12  2.78896        3.13422   1.219900     15.51850  ...        0.0   \n",
       "\n",
       "           pt__00096  pt__00007  pt__00009  pt__00041  pt__00006  pt__00021  \\\n",
       "specimen                                                                      \n",
       "A00001-05        0.0   0.003675        0.0        0.0        0.0        0.0   \n",
       "A00002-01        0.0   0.000000        0.0        0.0        0.0        0.0   \n",
       "A00003-02        0.0   0.000000        0.0        0.0        0.0        0.0   \n",
       "A00004-08        0.0   0.000514        0.0        0.0        0.0        0.0   \n",
       "A00004-12        0.0   0.000000        0.0        0.0        0.0        0.0   \n",
       "\n",
       "           pt__00039  pt__00126  pt__00052  \n",
       "specimen                                    \n",
       "A00001-05        0.0        0.0   0.000000  \n",
       "A00002-01        0.0        0.0   0.000000  \n",
       "A00003-02        0.0        0.0   0.000000  \n",
       "A00004-08        0.0        0.0   0.000000  \n",
       "A00004-12        0.0        0.0   0.000183  \n",
       "\n",
       "[5 rows x 43 columns]"
      ]
     },
     "execution_count": 12,
     "metadata": {},
     "output_type": "execute_result"
    }
   ],
   "source": [
    "mydata.head(5)"
   ]
  },
  {
   "cell_type": "markdown",
   "id": "2b79f13f",
   "metadata": {},
   "source": [
    "## Define functions"
   ]
  },
  {
   "cell_type": "code",
   "execution_count": 13,
   "id": "4f7ddac4",
   "metadata": {},
   "outputs": [],
   "source": [
    "def tensor_generator(data):\n",
    "    X_data = data[data.columns[2:]].copy()\n",
    "    X_data['CST'] = X_data['CST'].cat.codes\n",
    "    X_feature = X_data.to_numpy().astype('float32')\n",
    "    X_group = data['participant_id'].astype('category').cat.codes.values.reshape(-1,1)\n",
    "    input_X = torch.from_numpy(np.hstack((X_feature,X_group)))\n",
    "\n",
    "    \n",
    "    return input_X"
   ]
  },
  {
   "cell_type": "code",
   "execution_count": 14,
   "id": "de49c40a",
   "metadata": {},
   "outputs": [],
   "source": [
    "a = tensor_generator(mydata)"
   ]
  },
  {
   "cell_type": "code",
   "execution_count": 15,
   "id": "7fe9a96d",
   "metadata": {},
   "outputs": [
    {
     "data": {
      "text/plain": [
       "Index(['collect_wk', 'CST', 'shannon', 'inv_simpson', 'bwpd', 'phylo_entropy',\n",
       "       'quadratic', 'unrooted_pd', 'rooted_pd', 'Prevotellaceae',\n",
       "       'Corynebacteriaceae', 'unclassified Clostridiales', 'Staphylococcaceae',\n",
       "       'Bifidobacteriaceae', 'Lachnospiraceae', 'Fusobacteriaceae',\n",
       "       'unclassified Corynebacteriales', 'Ruminococcaceae', 'Mycoplasmataceae',\n",
       "       'unclassified Tissierellia', 'Veillonellaceae', 'Lactobacillaceae',\n",
       "       'Bacteroidales', 'Alcaligenaceae', 'pt__00004', 'pt__00090',\n",
       "       'pt__00056', 'pt__00042', 'pt__00079', 'pt__00024', 'pt__00071',\n",
       "       'pt__00092', 'pt__00096', 'pt__00007', 'pt__00009', 'pt__00041',\n",
       "       'pt__00006', 'pt__00021', 'pt__00039', 'pt__00126', 'pt__00052'],\n",
       "      dtype='object')"
      ]
     },
     "execution_count": 15,
     "metadata": {},
     "output_type": "execute_result"
    }
   ],
   "source": [
    "mydata.columns[2:]"
   ]
  },
  {
   "cell_type": "code",
   "execution_count": 19,
   "id": "97b576c8",
   "metadata": {},
   "outputs": [],
   "source": [
    "class MLP(nn.Module):\n",
    "    def __init__(self, input_dim, hidden_dim1,hidden_dim2,drop_out):\n",
    "        \n",
    "\n",
    "        \n",
    "        #inherit from super class\n",
    "        super(MLP, self).__init__()\n",
    "        \n",
    "        #define layers\n",
    "        \n",
    "        self.fc1 = nn.Linear(input_dim, hidden_dim1)\n",
    "        self.fc2 = nn.Linear(hidden_dim1,hidden_dim2)\n",
    "        self.fc3 = nn.Linear(hidden_dim2,2)\n",
    "        self.dropout = nn.Dropout(drop_out)\n",
    "\n",
    "        \n",
    "    def forward(self, x):\n",
    "        \n",
    "        X_feature = x[:,:-1]\n",
    "        X_group = x[:,-1].long()\n",
    "        \n",
    "        X_feature = torch.tanh(self.fc1(X_feature))\n",
    "        X_feature = self.dropout(X_feature)\n",
    "        X_feature = torch.tanh(self.fc2(X_feature))\n",
    "        X_feature = self.dropout(X_feature)\n",
    "        X_feature = torch.tanh(self.fc3(X_feature))\n",
    "\n",
    "        X_feature = F.softmax(X_feature, dim = 1)\n",
    "\n",
    "        \n",
    "        M = torch.zeros(X_group.max()+1, len(X_feature))\n",
    "        M[X_group, torch.arange(len(X_feature))] = 1\n",
    "        M = F.normalize(M, p=1, dim=1)\n",
    "        X_feature = torch.mm(M, X_feature)\n",
    "\n",
    "        \n",
    "        return X_feature"
   ]
  },
  {
   "cell_type": "code",
   "execution_count": 20,
   "id": "fa7dc18c",
   "metadata": {},
   "outputs": [
    {
     "name": "stdout",
     "output_type": "stream",
     "text": [
      "GPU not available, CPU used\n"
     ]
    }
   ],
   "source": [
    "# torch.cuda.is_available() checks and returns a Boolean True if a GPU is available, else it'll return False\n",
    "is_cuda = torch.cuda.is_available()\n",
    "\n",
    "# If we have a GPU available, we'll set our device to GPU. We'll use this device variable later in our code.\n",
    "if is_cuda:\n",
    "    device = torch.device(\"cuda\")\n",
    "    print(\"GPU is available\")\n",
    "else:\n",
    "    device = torch.device(\"cpu\")\n",
    "    print(\"GPU not available, CPU used\")"
   ]
  },
  {
   "cell_type": "code",
   "execution_count": 21,
   "id": "fadc74d7",
   "metadata": {},
   "outputs": [],
   "source": [
    "def test_metrics(model, data):\n",
    "    \n",
    "    val_X = tensor_generator(data)\n",
    "    \n",
    "    model.eval()\n",
    "    \n",
    "\n",
    "    out = model(val_X)\n",
    "    predicted_props = out[:,0].detach().numpy()\n",
    "    predicted_labels = 1*(predicted_props >0.5)\n",
    "    \n",
    "    \n",
    "    result_tab = pd.DataFrame(data = {'participant': list(data.groupby('participant_id').first().index),\n",
    "                                     'was_preterm':list(predicted_labels),\n",
    "                                     'probability':list(predicted_props)})\n",
    "    \n",
    "\n",
    "    \n",
    "    return result_tab\n"
   ]
  },
  {
   "cell_type": "markdown",
   "id": "5490cb7a",
   "metadata": {},
   "source": [
    "## Loading models"
   ]
  },
  {
   "cell_type": "code",
   "execution_count": 22,
   "id": "27ad38b2",
   "metadata": {},
   "outputs": [],
   "source": [
    "best_model = load('test_submission.save')"
   ]
  },
  {
   "cell_type": "markdown",
   "id": "cb9f7fe5",
   "metadata": {},
   "source": [
    "## Results"
   ]
  },
  {
   "cell_type": "code",
   "execution_count": 23,
   "id": "ace36158",
   "metadata": {},
   "outputs": [
    {
     "ename": "RuntimeError",
     "evalue": "mat1 and mat2 shapes cannot be multiplied (3578x41 and 40x10)",
     "output_type": "error",
     "traceback": [
      "\u001b[1;31m---------------------------------------------------------------------------\u001b[0m",
      "\u001b[1;31mRuntimeError\u001b[0m                              Traceback (most recent call last)",
      "Input \u001b[1;32mIn [23]\u001b[0m, in \u001b[0;36m<cell line: 1>\u001b[1;34m()\u001b[0m\n\u001b[1;32m----> 1\u001b[0m \u001b[43mtest_metrics\u001b[49m\u001b[43m(\u001b[49m\u001b[43mbest_model\u001b[49m\u001b[43m,\u001b[49m\u001b[43m \u001b[49m\u001b[43mmydata\u001b[49m\u001b[43m)\u001b[49m\n",
      "Input \u001b[1;32mIn [21]\u001b[0m, in \u001b[0;36mtest_metrics\u001b[1;34m(model, data)\u001b[0m\n\u001b[0;32m      3\u001b[0m val_X \u001b[38;5;241m=\u001b[39m tensor_generator(data)\n\u001b[0;32m      5\u001b[0m model\u001b[38;5;241m.\u001b[39meval()\n\u001b[1;32m----> 8\u001b[0m out \u001b[38;5;241m=\u001b[39m \u001b[43mmodel\u001b[49m\u001b[43m(\u001b[49m\u001b[43mval_X\u001b[49m\u001b[43m)\u001b[49m\n\u001b[0;32m      9\u001b[0m predicted_props \u001b[38;5;241m=\u001b[39m out[:,\u001b[38;5;241m0\u001b[39m]\u001b[38;5;241m.\u001b[39mdetach()\u001b[38;5;241m.\u001b[39mnumpy()\n\u001b[0;32m     10\u001b[0m predicted_labels \u001b[38;5;241m=\u001b[39m \u001b[38;5;241m1\u001b[39m\u001b[38;5;241m*\u001b[39m(predicted_props \u001b[38;5;241m>\u001b[39m\u001b[38;5;241m0.5\u001b[39m)\n",
      "File \u001b[1;32m~\\Anaconda3\\envs\\dream_dl\\lib\\site-packages\\torch\\nn\\modules\\module.py:1110\u001b[0m, in \u001b[0;36mModule._call_impl\u001b[1;34m(self, *input, **kwargs)\u001b[0m\n\u001b[0;32m   1106\u001b[0m \u001b[38;5;66;03m# If we don't have any hooks, we want to skip the rest of the logic in\u001b[39;00m\n\u001b[0;32m   1107\u001b[0m \u001b[38;5;66;03m# this function, and just call forward.\u001b[39;00m\n\u001b[0;32m   1108\u001b[0m \u001b[38;5;28;01mif\u001b[39;00m \u001b[38;5;129;01mnot\u001b[39;00m (\u001b[38;5;28mself\u001b[39m\u001b[38;5;241m.\u001b[39m_backward_hooks \u001b[38;5;129;01mor\u001b[39;00m \u001b[38;5;28mself\u001b[39m\u001b[38;5;241m.\u001b[39m_forward_hooks \u001b[38;5;129;01mor\u001b[39;00m \u001b[38;5;28mself\u001b[39m\u001b[38;5;241m.\u001b[39m_forward_pre_hooks \u001b[38;5;129;01mor\u001b[39;00m _global_backward_hooks\n\u001b[0;32m   1109\u001b[0m         \u001b[38;5;129;01mor\u001b[39;00m _global_forward_hooks \u001b[38;5;129;01mor\u001b[39;00m _global_forward_pre_hooks):\n\u001b[1;32m-> 1110\u001b[0m     \u001b[38;5;28;01mreturn\u001b[39;00m \u001b[43mforward_call\u001b[49m\u001b[43m(\u001b[49m\u001b[38;5;241;43m*\u001b[39;49m\u001b[38;5;28;43minput\u001b[39;49m\u001b[43m,\u001b[49m\u001b[43m \u001b[49m\u001b[38;5;241;43m*\u001b[39;49m\u001b[38;5;241;43m*\u001b[39;49m\u001b[43mkwargs\u001b[49m\u001b[43m)\u001b[49m\n\u001b[0;32m   1111\u001b[0m \u001b[38;5;66;03m# Do not call functions when jit is used\u001b[39;00m\n\u001b[0;32m   1112\u001b[0m full_backward_hooks, non_full_backward_hooks \u001b[38;5;241m=\u001b[39m [], []\n",
      "Input \u001b[1;32mIn [19]\u001b[0m, in \u001b[0;36mMLP.forward\u001b[1;34m(self, x)\u001b[0m\n\u001b[0;32m     19\u001b[0m X_feature \u001b[38;5;241m=\u001b[39m x[:,:\u001b[38;5;241m-\u001b[39m\u001b[38;5;241m1\u001b[39m]\n\u001b[0;32m     20\u001b[0m X_group \u001b[38;5;241m=\u001b[39m x[:,\u001b[38;5;241m-\u001b[39m\u001b[38;5;241m1\u001b[39m]\u001b[38;5;241m.\u001b[39mlong()\n\u001b[1;32m---> 22\u001b[0m X_feature \u001b[38;5;241m=\u001b[39m torch\u001b[38;5;241m.\u001b[39mtanh(\u001b[38;5;28;43mself\u001b[39;49m\u001b[38;5;241;43m.\u001b[39;49m\u001b[43mfc1\u001b[49m\u001b[43m(\u001b[49m\u001b[43mX_feature\u001b[49m\u001b[43m)\u001b[49m)\n\u001b[0;32m     23\u001b[0m X_feature \u001b[38;5;241m=\u001b[39m \u001b[38;5;28mself\u001b[39m\u001b[38;5;241m.\u001b[39mdropout(X_feature)\n\u001b[0;32m     24\u001b[0m X_feature \u001b[38;5;241m=\u001b[39m torch\u001b[38;5;241m.\u001b[39mtanh(\u001b[38;5;28mself\u001b[39m\u001b[38;5;241m.\u001b[39mfc2(X_feature))\n",
      "File \u001b[1;32m~\\Anaconda3\\envs\\dream_dl\\lib\\site-packages\\torch\\nn\\modules\\module.py:1110\u001b[0m, in \u001b[0;36mModule._call_impl\u001b[1;34m(self, *input, **kwargs)\u001b[0m\n\u001b[0;32m   1106\u001b[0m \u001b[38;5;66;03m# If we don't have any hooks, we want to skip the rest of the logic in\u001b[39;00m\n\u001b[0;32m   1107\u001b[0m \u001b[38;5;66;03m# this function, and just call forward.\u001b[39;00m\n\u001b[0;32m   1108\u001b[0m \u001b[38;5;28;01mif\u001b[39;00m \u001b[38;5;129;01mnot\u001b[39;00m (\u001b[38;5;28mself\u001b[39m\u001b[38;5;241m.\u001b[39m_backward_hooks \u001b[38;5;129;01mor\u001b[39;00m \u001b[38;5;28mself\u001b[39m\u001b[38;5;241m.\u001b[39m_forward_hooks \u001b[38;5;129;01mor\u001b[39;00m \u001b[38;5;28mself\u001b[39m\u001b[38;5;241m.\u001b[39m_forward_pre_hooks \u001b[38;5;129;01mor\u001b[39;00m _global_backward_hooks\n\u001b[0;32m   1109\u001b[0m         \u001b[38;5;129;01mor\u001b[39;00m _global_forward_hooks \u001b[38;5;129;01mor\u001b[39;00m _global_forward_pre_hooks):\n\u001b[1;32m-> 1110\u001b[0m     \u001b[38;5;28;01mreturn\u001b[39;00m \u001b[43mforward_call\u001b[49m\u001b[43m(\u001b[49m\u001b[38;5;241;43m*\u001b[39;49m\u001b[38;5;28;43minput\u001b[39;49m\u001b[43m,\u001b[49m\u001b[43m \u001b[49m\u001b[38;5;241;43m*\u001b[39;49m\u001b[38;5;241;43m*\u001b[39;49m\u001b[43mkwargs\u001b[49m\u001b[43m)\u001b[49m\n\u001b[0;32m   1111\u001b[0m \u001b[38;5;66;03m# Do not call functions when jit is used\u001b[39;00m\n\u001b[0;32m   1112\u001b[0m full_backward_hooks, non_full_backward_hooks \u001b[38;5;241m=\u001b[39m [], []\n",
      "File \u001b[1;32m~\\Anaconda3\\envs\\dream_dl\\lib\\site-packages\\torch\\nn\\modules\\linear.py:103\u001b[0m, in \u001b[0;36mLinear.forward\u001b[1;34m(self, input)\u001b[0m\n\u001b[0;32m    102\u001b[0m \u001b[38;5;28;01mdef\u001b[39;00m \u001b[38;5;21mforward\u001b[39m(\u001b[38;5;28mself\u001b[39m, \u001b[38;5;28minput\u001b[39m: Tensor) \u001b[38;5;241m-\u001b[39m\u001b[38;5;241m>\u001b[39m Tensor:\n\u001b[1;32m--> 103\u001b[0m     \u001b[38;5;28;01mreturn\u001b[39;00m \u001b[43mF\u001b[49m\u001b[38;5;241;43m.\u001b[39;49m\u001b[43mlinear\u001b[49m\u001b[43m(\u001b[49m\u001b[38;5;28;43minput\u001b[39;49m\u001b[43m,\u001b[49m\u001b[43m \u001b[49m\u001b[38;5;28;43mself\u001b[39;49m\u001b[38;5;241;43m.\u001b[39;49m\u001b[43mweight\u001b[49m\u001b[43m,\u001b[49m\u001b[43m \u001b[49m\u001b[38;5;28;43mself\u001b[39;49m\u001b[38;5;241;43m.\u001b[39;49m\u001b[43mbias\u001b[49m\u001b[43m)\u001b[49m\n",
      "\u001b[1;31mRuntimeError\u001b[0m: mat1 and mat2 shapes cannot be multiplied (3578x41 and 40x10)"
     ]
    }
   ],
   "source": [
    "test_metrics(best_model, mydata)"
   ]
  },
  {
   "cell_type": "code",
   "execution_count": null,
   "id": "b16ac7f5",
   "metadata": {},
   "outputs": [],
   "source": []
  }
 ],
 "metadata": {
  "kernelspec": {
   "display_name": "Python [conda env:dream_dl] *",
   "language": "python",
   "name": "conda-env-dream_dl-py"
  },
  "language_info": {
   "codemirror_mode": {
    "name": "ipython",
    "version": 3
   },
   "file_extension": ".py",
   "mimetype": "text/x-python",
   "name": "python",
   "nbconvert_exporter": "python",
   "pygments_lexer": "ipython3",
   "version": "3.8.13"
  }
 },
 "nbformat": 4,
 "nbformat_minor": 5
}
